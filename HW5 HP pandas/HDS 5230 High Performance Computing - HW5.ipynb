{
 "cells": [
  {
   "cell_type": "markdown",
   "metadata": {},
   "source": [
    "**Author: Miao Cai**"
   ]
  },
  {
   "cell_type": "code",
   "execution_count": null,
   "metadata": {},
   "outputs": [],
   "source": [
    "import pandas as pd\n",
    "import os\n",
    "print(\"My working directory:\\n\" + os.getcwd())\n",
    "# os.chdir(r\"C:\\Users\\evancarey\\Dropbox\\Work\\SLU\\Courses\")"
   ]
  },
  {
   "cell_type": "markdown",
   "metadata": {},
   "source": [
    "a. import only the first 100 rows of the patient.csv dataset using Python/pandas "
   ]
  },
  {
   "cell_type": "code",
   "execution_count": 22,
   "metadata": {},
   "outputs": [
    {
     "data": {
      "text/html": [
       "<div>\n",
       "<style scoped>\n",
       "    .dataframe tbody tr th:only-of-type {\n",
       "        vertical-align: middle;\n",
       "    }\n",
       "\n",
       "    .dataframe tbody tr th {\n",
       "        vertical-align: top;\n",
       "    }\n",
       "\n",
       "    .dataframe thead th {\n",
       "        text-align: right;\n",
       "    }\n",
       "</style>\n",
       "<table border=\"1\" class=\"dataframe\">\n",
       "  <thead>\n",
       "    <tr style=\"text-align: right;\">\n",
       "      <th></th>\n",
       "      <th>PatientID</th>\n",
       "      <th>FirstName</th>\n",
       "      <th>LastName</th>\n",
       "      <th>State</th>\n",
       "      <th>ZipCode</th>\n",
       "      <th>DateOfBirth</th>\n",
       "      <th>Gender</th>\n",
       "      <th>Race</th>\n",
       "      <th>Income</th>\n",
       "    </tr>\n",
       "  </thead>\n",
       "  <tbody>\n",
       "    <tr>\n",
       "      <th>0</th>\n",
       "      <td>1</td>\n",
       "      <td>Diana</td>\n",
       "      <td>Huddleston</td>\n",
       "      <td>WI</td>\n",
       "      <td>53186</td>\n",
       "      <td>1962-02-27</td>\n",
       "      <td>female</td>\n",
       "      <td>NaN</td>\n",
       "      <td>1076.167979</td>\n",
       "    </tr>\n",
       "    <tr>\n",
       "      <th>1</th>\n",
       "      <td>2</td>\n",
       "      <td>Marion</td>\n",
       "      <td>Poston</td>\n",
       "      <td>IL</td>\n",
       "      <td>60527</td>\n",
       "      <td>1859-09-11</td>\n",
       "      <td>male</td>\n",
       "      <td>white</td>\n",
       "      <td>475.781094</td>\n",
       "    </tr>\n",
       "    <tr>\n",
       "      <th>2</th>\n",
       "      <td>3</td>\n",
       "      <td>Sandra</td>\n",
       "      <td>Hamby</td>\n",
       "      <td>IL</td>\n",
       "      <td>60126</td>\n",
       "      <td>1946-02-15</td>\n",
       "      <td>female</td>\n",
       "      <td>white</td>\n",
       "      <td>30.747987</td>\n",
       "    </tr>\n",
       "    <tr>\n",
       "      <th>3</th>\n",
       "      <td>4</td>\n",
       "      <td>Mildred</td>\n",
       "      <td>Krehbiel</td>\n",
       "      <td>ID</td>\n",
       "      <td>83702</td>\n",
       "      <td>1979-07-27</td>\n",
       "      <td>female</td>\n",
       "      <td>white</td>\n",
       "      <td>160.596425</td>\n",
       "    </tr>\n",
       "    <tr>\n",
       "      <th>4</th>\n",
       "      <td>5</td>\n",
       "      <td>Abigail</td>\n",
       "      <td>Flores</td>\n",
       "      <td>PA</td>\n",
       "      <td>19131</td>\n",
       "      <td>1983-02-19</td>\n",
       "      <td>female</td>\n",
       "      <td>?</td>\n",
       "      <td>NaN</td>\n",
       "    </tr>\n",
       "    <tr>\n",
       "      <th>5</th>\n",
       "      <td>6</td>\n",
       "      <td>Rusty</td>\n",
       "      <td>Thomas</td>\n",
       "      <td>AL</td>\n",
       "      <td>36107</td>\n",
       "      <td>NaN</td>\n",
       "      <td>male</td>\n",
       "      <td>black</td>\n",
       "      <td>171.378008</td>\n",
       "    </tr>\n",
       "    <tr>\n",
       "      <th>6</th>\n",
       "      <td>7</td>\n",
       "      <td>Robert</td>\n",
       "      <td>Alexander</td>\n",
       "      <td>CA</td>\n",
       "      <td>94539</td>\n",
       "      <td>1958-01-11</td>\n",
       "      <td>male</td>\n",
       "      <td>Missing</td>\n",
       "      <td>66.226314</td>\n",
       "    </tr>\n",
       "    <tr>\n",
       "      <th>7</th>\n",
       "      <td>8</td>\n",
       "      <td>Krista</td>\n",
       "      <td>Ward</td>\n",
       "      <td>WI</td>\n",
       "      <td>53219</td>\n",
       "      <td>1952-10-31</td>\n",
       "      <td>female</td>\n",
       "      <td>black</td>\n",
       "      <td>15.078950</td>\n",
       "    </tr>\n",
       "    <tr>\n",
       "      <th>8</th>\n",
       "      <td>9</td>\n",
       "      <td>Marti</td>\n",
       "      <td>Calabrese</td>\n",
       "      <td>MS</td>\n",
       "      <td>38801</td>\n",
       "      <td>1951-10-06</td>\n",
       "      <td>female</td>\n",
       "      <td>Missing</td>\n",
       "      <td>114.598911</td>\n",
       "    </tr>\n",
       "    <tr>\n",
       "      <th>9</th>\n",
       "      <td>10</td>\n",
       "      <td>Jeremy</td>\n",
       "      <td>Liu</td>\n",
       "      <td>CA</td>\n",
       "      <td>95526</td>\n",
       "      <td>1954-10-16</td>\n",
       "      <td>male</td>\n",
       "      <td>white</td>\n",
       "      <td>1081.877157</td>\n",
       "    </tr>\n",
       "    <tr>\n",
       "      <th>10</th>\n",
       "      <td>11</td>\n",
       "      <td>Catherine</td>\n",
       "      <td>Tatum</td>\n",
       "      <td>MI</td>\n",
       "      <td>48213</td>\n",
       "      <td>1983-07-12</td>\n",
       "      <td>female</td>\n",
       "      <td>Missing</td>\n",
       "      <td>35.058641</td>\n",
       "    </tr>\n",
       "  </tbody>\n",
       "</table>\n",
       "</div>"
      ],
      "text/plain": [
       "    PatientID  FirstName    LastName State  ZipCode DateOfBirth  Gender  \\\n",
       "0           1      Diana  Huddleston    WI    53186  1962-02-27  female   \n",
       "1           2     Marion      Poston    IL    60527  1859-09-11    male   \n",
       "2           3     Sandra       Hamby    IL    60126  1946-02-15  female   \n",
       "3           4    Mildred    Krehbiel    ID    83702  1979-07-27  female   \n",
       "4           5    Abigail      Flores    PA    19131  1983-02-19  female   \n",
       "5           6      Rusty      Thomas    AL    36107         NaN    male   \n",
       "6           7     Robert   Alexander    CA    94539  1958-01-11    male   \n",
       "7           8     Krista        Ward    WI    53219  1952-10-31  female   \n",
       "8           9      Marti   Calabrese    MS    38801  1951-10-06  female   \n",
       "9          10     Jeremy         Liu    CA    95526  1954-10-16    male   \n",
       "10         11  Catherine       Tatum    MI    48213  1983-07-12  female   \n",
       "\n",
       "       Race       Income  \n",
       "0       NaN  1076.167979  \n",
       "1     white   475.781094  \n",
       "2     white    30.747987  \n",
       "3     white   160.596425  \n",
       "4         ?          NaN  \n",
       "5     black   171.378008  \n",
       "6   Missing    66.226314  \n",
       "7     black    15.078950  \n",
       "8   Missing   114.598911  \n",
       "9     white  1081.877157  \n",
       "10  Missing    35.058641  "
      ]
     },
     "execution_count": 22,
     "metadata": {},
     "output_type": "execute_result"
    }
   ],
   "source": [
    "pt = pd.read_csv('healthcare2/Patient.csv', nrows = 100)\n",
    "pt.loc[0:10,:]"
   ]
  },
  {
   "cell_type": "markdown",
   "metadata": {},
   "source": [
    "b. Examine the column names and the dtypes of the dataframe"
   ]
  },
  {
   "cell_type": "code",
   "execution_count": 23,
   "metadata": {},
   "outputs": [
    {
     "data": {
      "text/plain": [
       "Index(['PatientID', 'FirstName', 'LastName', 'State', 'ZipCode', 'DateOfBirth',\n",
       "       'Gender', 'Race', 'Income'],\n",
       "      dtype='object')"
      ]
     },
     "execution_count": 23,
     "metadata": {},
     "output_type": "execute_result"
    }
   ],
   "source": [
    "pt.columns"
   ]
  },
  {
   "cell_type": "code",
   "execution_count": 24,
   "metadata": {},
   "outputs": [
    {
     "data": {
      "text/plain": [
       "PatientID        int64\n",
       "FirstName       object\n",
       "LastName        object\n",
       "State           object\n",
       "ZipCode          int64\n",
       "DateOfBirth     object\n",
       "Gender          object\n",
       "Race            object\n",
       "Income         float64\n",
       "dtype: object"
      ]
     },
     "execution_count": 24,
     "metadata": {},
     "output_type": "execute_result"
    }
   ],
   "source": [
    "pt.dtypes"
   ]
  },
  {
   "cell_type": "markdown",
   "metadata": {},
   "source": [
    "c. Create a dict of columns names and types using the to_dict() method"
   ]
  },
  {
   "cell_type": "code",
   "execution_count": 25,
   "metadata": {},
   "outputs": [
    {
     "data": {
      "text/plain": [
       "{'PatientID': dtype('int64'),\n",
       " 'FirstName': dtype('O'),\n",
       " 'LastName': dtype('O'),\n",
       " 'State': dtype('O'),\n",
       " 'ZipCode': dtype('int64'),\n",
       " 'DateOfBirth': dtype('O'),\n",
       " 'Gender': dtype('O'),\n",
       " 'Race': dtype('O'),\n",
       " 'Income': dtype('float64')}"
      ]
     },
     "execution_count": 25,
     "metadata": {},
     "output_type": "execute_result"
    }
   ],
   "source": [
    "col_types = pt.dtypes.to_dict()\n",
    "col_types"
   ]
  },
  {
   "cell_type": "markdown",
   "metadata": {},
   "source": [
    "d. Decide which columns you can compress by specifying a smaller dtype. For example, the default dtype of an integer is int64, but you may be able to fit hat integer data into the dtype int32, or int16, or uint16 (unsigned integer). It depends on the data! Consider turning the text data into categorical data. Try to make the dataframe as small as reasonably possible."
   ]
  },
  {
   "cell_type": "code",
   "execution_count": 26,
   "metadata": {},
   "outputs": [
    {
     "name": "stdout",
     "output_type": "stream",
     "text": [
      "<class 'pandas.core.frame.DataFrame'>\n",
      "RangeIndex: 100 entries, 0 to 99\n",
      "Data columns (total 9 columns):\n",
      "PatientID      100 non-null int64\n",
      "FirstName      100 non-null object\n",
      "LastName       100 non-null object\n",
      "State          100 non-null object\n",
      "ZipCode        100 non-null int64\n",
      "DateOfBirth    92 non-null object\n",
      "Gender         98 non-null object\n",
      "Race           97 non-null object\n",
      "Income         92 non-null float64\n",
      "dtypes: float64(1), int64(2), object(6)\n",
      "memory usage: 38.8 KB\n"
     ]
    }
   ],
   "source": [
    "pt.info(memory_usage='deep')\n",
    "col_types['PatientID']='uint16'\n",
    "col_types['FirstName']='category'\n",
    "col_types['LastName']='category'\n",
    "col_types['State']='category'\n",
    "col_types['ZipCode']='uint16'\n",
    "col_types['DateOfBirth']='category'\n",
    "col_types['Gender']='category'\n",
    "col_types['Race']='category'\n",
    "col_types['Income']='float32'"
   ]
  },
  {
   "cell_type": "markdown",
   "metadata": {},
   "source": [
    "e. Use the memory_usage(deep=True) dataframe method to calculate large your reduced file is."
   ]
  },
  {
   "cell_type": "code",
   "execution_count": 27,
   "metadata": {},
   "outputs": [
    {
     "name": "stdout",
     "output_type": "stream",
     "text": [
      "<class 'pandas.core.frame.DataFrame'>\n",
      "RangeIndex: 100 entries, 0 to 99\n",
      "Data columns (total 9 columns):\n",
      "PatientID      100 non-null uint16\n",
      "FirstName      100 non-null category\n",
      "LastName       100 non-null category\n",
      "State          100 non-null category\n",
      "ZipCode        100 non-null uint16\n",
      "DateOfBirth    92 non-null category\n",
      "Gender         98 non-null category\n",
      "Race           97 non-null category\n",
      "Income         92 non-null float32\n",
      "dtypes: category(6), float32(1), uint16(2)\n",
      "memory usage: 30.7 KB\n"
     ]
    }
   ],
   "source": [
    "pt_reduced = pd.read_csv('healthcare2/Patient.csv', nrows = 100,\n",
    "                dtype=col_types)\n",
    "pt_reduced.info(memory_usage='deep')"
   ]
  },
  {
   "cell_type": "markdown",
   "metadata": {},
   "source": [
    "f. Import the patient.csv dataframe with default datatypes and calculate the memory_usage(deep=True). How much smaller is your reduced dataframe than the full dataframe?"
   ]
  },
  {
   "cell_type": "code",
   "execution_count": 28,
   "metadata": {
    "scrolled": true
   },
   "outputs": [
    {
     "name": "stdout",
     "output_type": "stream",
     "text": [
      "<class 'pandas.core.frame.DataFrame'>\n",
      "RangeIndex: 20000 entries, 0 to 19999\n",
      "Data columns (total 9 columns):\n",
      "PatientID      20000 non-null int64\n",
      "FirstName      20000 non-null object\n",
      "LastName       20000 non-null object\n",
      "State          20000 non-null object\n",
      "ZipCode        20000 non-null int64\n",
      "DateOfBirth    19000 non-null object\n",
      "Gender         19431 non-null object\n",
      "Race           19144 non-null object\n",
      "Income         18600 non-null float64\n",
      "dtypes: float64(1), int64(2), object(6)\n",
      "memory usage: 7.6 MB\n"
     ]
    }
   ],
   "source": [
    "pt1 = pd.read_csv('healthcare2/Patient.csv')\n",
    "pt1.info(memory_usage='deep')"
   ]
  },
  {
   "cell_type": "code",
   "execution_count": 29,
   "metadata": {
    "scrolled": true
   },
   "outputs": [
    {
     "name": "stdout",
     "output_type": "stream",
     "text": [
      "<class 'pandas.core.frame.DataFrame'>\n",
      "RangeIndex: 20000 entries, 0 to 19999\n",
      "Data columns (total 9 columns):\n",
      "PatientID      20000 non-null uint16\n",
      "FirstName      20000 non-null category\n",
      "LastName       20000 non-null category\n",
      "State          20000 non-null category\n",
      "ZipCode        20000 non-null uint16\n",
      "DateOfBirth    19000 non-null category\n",
      "Gender         19431 non-null category\n",
      "Race           19144 non-null category\n",
      "Income         18600 non-null float32\n",
      "dtypes: category(6), float32(1), uint16(2)\n",
      "memory usage: 2.8 MB\n"
     ]
    }
   ],
   "source": [
    "pt1_reduced = pd.read_csv('healthcare2/Patient.csv',dtype=col_types)\n",
    "pt1_reduced.info(memory_usage='deep')"
   ]
  },
  {
   "cell_type": "markdown",
   "metadata": {},
   "source": [
    "g. Repeat a-f for the OutpatientVisit.csv file."
   ]
  },
  {
   "cell_type": "code",
   "execution_count": 30,
   "metadata": {
    "scrolled": true
   },
   "outputs": [
    {
     "data": {
      "text/html": [
       "<div>\n",
       "<style scoped>\n",
       "    .dataframe tbody tr th:only-of-type {\n",
       "        vertical-align: middle;\n",
       "    }\n",
       "\n",
       "    .dataframe tbody tr th {\n",
       "        vertical-align: top;\n",
       "    }\n",
       "\n",
       "    .dataframe thead th {\n",
       "        text-align: right;\n",
       "    }\n",
       "</style>\n",
       "<table border=\"1\" class=\"dataframe\">\n",
       "  <thead>\n",
       "    <tr style=\"text-align: right;\">\n",
       "      <th></th>\n",
       "      <th>VisitID</th>\n",
       "      <th>StaffID</th>\n",
       "      <th>PatientID</th>\n",
       "      <th>VisitDate</th>\n",
       "      <th>ICD10_1</th>\n",
       "      <th>ICD10_2</th>\n",
       "      <th>ICD10_3</th>\n",
       "      <th>ClinicCode</th>\n",
       "    </tr>\n",
       "  </thead>\n",
       "  <tbody>\n",
       "    <tr>\n",
       "      <th>0</th>\n",
       "      <td>1</td>\n",
       "      <td>46</td>\n",
       "      <td>1</td>\n",
       "      <td>2013-08-10</td>\n",
       "      <td>E10621</td>\n",
       "      <td>K269</td>\n",
       "      <td>NaN</td>\n",
       "      <td>15</td>\n",
       "    </tr>\n",
       "    <tr>\n",
       "      <th>1</th>\n",
       "      <td>2</td>\n",
       "      <td>50</td>\n",
       "      <td>1</td>\n",
       "      <td>2013-12-02</td>\n",
       "      <td>K269</td>\n",
       "      <td>E10621</td>\n",
       "      <td>NaN</td>\n",
       "      <td>55</td>\n",
       "    </tr>\n",
       "    <tr>\n",
       "      <th>2</th>\n",
       "      <td>3</td>\n",
       "      <td>13</td>\n",
       "      <td>1</td>\n",
       "      <td>2014-06-29</td>\n",
       "      <td>E10621</td>\n",
       "      <td>K269</td>\n",
       "      <td>NaN</td>\n",
       "      <td>1</td>\n",
       "    </tr>\n",
       "    <tr>\n",
       "      <th>3</th>\n",
       "      <td>4</td>\n",
       "      <td>23</td>\n",
       "      <td>1</td>\n",
       "      <td>2014-09-19</td>\n",
       "      <td>K269</td>\n",
       "      <td>E10621</td>\n",
       "      <td>NaN</td>\n",
       "      <td>3</td>\n",
       "    </tr>\n",
       "    <tr>\n",
       "      <th>4</th>\n",
       "      <td>5</td>\n",
       "      <td>9</td>\n",
       "      <td>1</td>\n",
       "      <td>2015-05-29</td>\n",
       "      <td>K269</td>\n",
       "      <td>E10621</td>\n",
       "      <td>NaN</td>\n",
       "      <td>5</td>\n",
       "    </tr>\n",
       "    <tr>\n",
       "      <th>5</th>\n",
       "      <td>6</td>\n",
       "      <td>46</td>\n",
       "      <td>1</td>\n",
       "      <td>2016-05-07</td>\n",
       "      <td>E10621</td>\n",
       "      <td>K269</td>\n",
       "      <td>NaN</td>\n",
       "      <td>15</td>\n",
       "    </tr>\n",
       "    <tr>\n",
       "      <th>6</th>\n",
       "      <td>7</td>\n",
       "      <td>7</td>\n",
       "      <td>1</td>\n",
       "      <td>2016-10-07</td>\n",
       "      <td>E10621</td>\n",
       "      <td>K269</td>\n",
       "      <td>NaN</td>\n",
       "      <td>41</td>\n",
       "    </tr>\n",
       "    <tr>\n",
       "      <th>7</th>\n",
       "      <td>8</td>\n",
       "      <td>18</td>\n",
       "      <td>1</td>\n",
       "      <td>2016-11-07</td>\n",
       "      <td>K269</td>\n",
       "      <td>E10621</td>\n",
       "      <td>NaN</td>\n",
       "      <td>31</td>\n",
       "    </tr>\n",
       "    <tr>\n",
       "      <th>8</th>\n",
       "      <td>9</td>\n",
       "      <td>23</td>\n",
       "      <td>1</td>\n",
       "      <td>2017-01-14</td>\n",
       "      <td>K269</td>\n",
       "      <td>E10621</td>\n",
       "      <td>NaN</td>\n",
       "      <td>3</td>\n",
       "    </tr>\n",
       "    <tr>\n",
       "      <th>9</th>\n",
       "      <td>10</td>\n",
       "      <td>5</td>\n",
       "      <td>1</td>\n",
       "      <td>2017-01-29</td>\n",
       "      <td>E10621</td>\n",
       "      <td>K269</td>\n",
       "      <td>NaN</td>\n",
       "      <td>14</td>\n",
       "    </tr>\n",
       "    <tr>\n",
       "      <th>10</th>\n",
       "      <td>11</td>\n",
       "      <td>2</td>\n",
       "      <td>1</td>\n",
       "      <td>2017-06-29</td>\n",
       "      <td>K269</td>\n",
       "      <td>E10621</td>\n",
       "      <td>NaN</td>\n",
       "      <td>55</td>\n",
       "    </tr>\n",
       "  </tbody>\n",
       "</table>\n",
       "</div>"
      ],
      "text/plain": [
       "    VisitID  StaffID  PatientID   VisitDate ICD10_1 ICD10_2  ICD10_3  \\\n",
       "0         1       46          1  2013-08-10  E10621    K269      NaN   \n",
       "1         2       50          1  2013-12-02    K269  E10621      NaN   \n",
       "2         3       13          1  2014-06-29  E10621    K269      NaN   \n",
       "3         4       23          1  2014-09-19    K269  E10621      NaN   \n",
       "4         5        9          1  2015-05-29    K269  E10621      NaN   \n",
       "5         6       46          1  2016-05-07  E10621    K269      NaN   \n",
       "6         7        7          1  2016-10-07  E10621    K269      NaN   \n",
       "7         8       18          1  2016-11-07    K269  E10621      NaN   \n",
       "8         9       23          1  2017-01-14    K269  E10621      NaN   \n",
       "9        10        5          1  2017-01-29  E10621    K269      NaN   \n",
       "10       11        2          1  2017-06-29    K269  E10621      NaN   \n",
       "\n",
       "    ClinicCode  \n",
       "0           15  \n",
       "1           55  \n",
       "2            1  \n",
       "3            3  \n",
       "4            5  \n",
       "5           15  \n",
       "6           41  \n",
       "7           31  \n",
       "8            3  \n",
       "9           14  \n",
       "10          55  "
      ]
     },
     "execution_count": 30,
     "metadata": {},
     "output_type": "execute_result"
    }
   ],
   "source": [
    "op0 = pd.read_csv('healthcare2/OutpatientVisit.csv', nrows = 100)\n",
    "op0.loc[0:10,:]"
   ]
  },
  {
   "cell_type": "code",
   "execution_count": 31,
   "metadata": {},
   "outputs": [
    {
     "data": {
      "text/plain": [
       "Index(['VisitID', 'StaffID', 'PatientID', 'VisitDate', 'ICD10_1', 'ICD10_2',\n",
       "       'ICD10_3', 'ClinicCode'],\n",
       "      dtype='object')"
      ]
     },
     "execution_count": 31,
     "metadata": {},
     "output_type": "execute_result"
    }
   ],
   "source": [
    "op0.columns"
   ]
  },
  {
   "cell_type": "code",
   "execution_count": 32,
   "metadata": {},
   "outputs": [
    {
     "data": {
      "text/plain": [
       "VisitID         int64\n",
       "StaffID         int64\n",
       "PatientID       int64\n",
       "VisitDate      object\n",
       "ICD10_1        object\n",
       "ICD10_2        object\n",
       "ICD10_3       float64\n",
       "ClinicCode      int64\n",
       "dtype: object"
      ]
     },
     "execution_count": 32,
     "metadata": {},
     "output_type": "execute_result"
    }
   ],
   "source": [
    "op0.dtypes"
   ]
  },
  {
   "cell_type": "code",
   "execution_count": 33,
   "metadata": {},
   "outputs": [
    {
     "data": {
      "text/plain": [
       "{'VisitID': dtype('int64'),\n",
       " 'StaffID': dtype('int64'),\n",
       " 'PatientID': dtype('int64'),\n",
       " 'VisitDate': dtype('O'),\n",
       " 'ICD10_1': dtype('O'),\n",
       " 'ICD10_2': dtype('O'),\n",
       " 'ICD10_3': dtype('float64'),\n",
       " 'ClinicCode': dtype('int64')}"
      ]
     },
     "execution_count": 33,
     "metadata": {},
     "output_type": "execute_result"
    }
   ],
   "source": [
    "col_types = op0.dtypes.to_dict()\n",
    "col_types"
   ]
  },
  {
   "cell_type": "code",
   "execution_count": 34,
   "metadata": {},
   "outputs": [
    {
     "name": "stdout",
     "output_type": "stream",
     "text": [
      "<class 'pandas.core.frame.DataFrame'>\n",
      "RangeIndex: 100 entries, 0 to 99\n",
      "Data columns (total 9 columns):\n",
      "PatientID      100 non-null int64\n",
      "FirstName      100 non-null object\n",
      "LastName       100 non-null object\n",
      "State          100 non-null object\n",
      "ZipCode        100 non-null int64\n",
      "DateOfBirth    92 non-null object\n",
      "Gender         98 non-null object\n",
      "Race           97 non-null object\n",
      "Income         92 non-null float64\n",
      "dtypes: float64(1), int64(2), object(6)\n",
      "memory usage: 38.8 KB\n"
     ]
    }
   ],
   "source": [
    "pt.info(memory_usage='deep')\n",
    "col_types['VisitID']='uint16'\n",
    "col_types['StaffID']='uint16'\n",
    "col_types['PatientID']='uint16'\n",
    "col_types['VisitDate']='category'\n",
    "col_types['ICD10_1']='category'\n",
    "col_types['ICD10_2']='category'\n",
    "col_types['ICD10_3']='category'\n",
    "col_types['ClinicCode']='uint16'"
   ]
  },
  {
   "cell_type": "code",
   "execution_count": 35,
   "metadata": {},
   "outputs": [
    {
     "name": "stdout",
     "output_type": "stream",
     "text": [
      "<class 'pandas.core.frame.DataFrame'>\n",
      "RangeIndex: 100 entries, 0 to 99\n",
      "Data columns (total 8 columns):\n",
      "VisitID       100 non-null uint16\n",
      "StaffID       100 non-null uint16\n",
      "PatientID     100 non-null uint16\n",
      "VisitDate     100 non-null category\n",
      "ICD10_1       100 non-null category\n",
      "ICD10_2       63 non-null category\n",
      "ICD10_3       0 non-null category\n",
      "ClinicCode    100 non-null uint16\n",
      "dtypes: category(4), uint16(4)\n",
      "memory usage: 12.7 KB\n"
     ]
    }
   ],
   "source": [
    "op0_reduced = pd.read_csv('healthcare2/OutpatientVisit.csv', nrows = 100,\n",
    "                dtype=col_types)\n",
    "op0_reduced.info(memory_usage='deep')"
   ]
  },
  {
   "cell_type": "code",
   "execution_count": 36,
   "metadata": {},
   "outputs": [
    {
     "name": "stdout",
     "output_type": "stream",
     "text": [
      "<class 'pandas.core.frame.DataFrame'>\n",
      "RangeIndex: 174690 entries, 0 to 174689\n",
      "Data columns (total 8 columns):\n",
      "VisitID       174690 non-null int64\n",
      "StaffID       174690 non-null int64\n",
      "PatientID     174690 non-null int64\n",
      "VisitDate     173252 non-null object\n",
      "ICD10_1       174690 non-null object\n",
      "ICD10_2       59785 non-null object\n",
      "ICD10_3       19362 non-null object\n",
      "ClinicCode    174690 non-null int64\n",
      "dtypes: int64(4), object(4)\n",
      "memory usage: 39.7 MB\n"
     ]
    }
   ],
   "source": [
    "op = pd.read_csv('healthcare2/OutpatientVisit.csv')\n",
    "op.info(memory_usage='deep')"
   ]
  },
  {
   "cell_type": "code",
   "execution_count": 37,
   "metadata": {},
   "outputs": [
    {
     "name": "stdout",
     "output_type": "stream",
     "text": [
      "<class 'pandas.core.frame.DataFrame'>\n",
      "RangeIndex: 174690 entries, 0 to 174689\n",
      "Data columns (total 8 columns):\n",
      "VisitID       174690 non-null uint16\n",
      "StaffID       174690 non-null uint16\n",
      "PatientID     174690 non-null uint16\n",
      "VisitDate     173252 non-null category\n",
      "ICD10_1       174690 non-null category\n",
      "ICD10_2       59785 non-null category\n",
      "ICD10_3       19362 non-null category\n",
      "ClinicCode    174690 non-null uint16\n",
      "dtypes: category(4), uint16(4)\n",
      "memory usage: 3.7 MB\n"
     ]
    }
   ],
   "source": [
    "op_reduced = pd.read_csv('healthcare2/OutpatientVisit.csv',dtype=col_types)\n",
    "op_reduced.info(memory_usage='deep')"
   ]
  }
 ],
 "metadata": {
  "kernelspec": {
   "display_name": "Python 3",
   "language": "python",
   "name": "python3"
  },
  "language_info": {
   "codemirror_mode": {
    "name": "ipython",
    "version": 3
   },
   "file_extension": ".py",
   "mimetype": "text/x-python",
   "name": "python",
   "nbconvert_exporter": "python",
   "pygments_lexer": "ipython3",
   "version": "3.7.1"
  }
 },
 "nbformat": 4,
 "nbformat_minor": 2
}
