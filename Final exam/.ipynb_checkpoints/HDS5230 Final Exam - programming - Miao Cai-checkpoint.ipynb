{
 "cells": [
  {
   "cell_type": "markdown",
   "metadata": {},
   "source": [
    "# HDS 5230 High Performance Computing\n",
    "\n",
    "## Final Exam - Progamming Part\n",
    "\n",
    "\n",
    "*Miao Cai* <miao.cai@slu.edu>"
   ]
  },
  {
   "cell_type": "markdown",
   "metadata": {},
   "source": [
    "# Introduction\n",
    "\n",
    "The big goal of this project is to use the provided dataset on health insurance charges to create a model that predicts charges as accurately as possible, based on the patient traits of age, sex, bmi, children, smoker, and region. As I generate this model, I performed and documented initial data quality checks, exploratory data analysis, and all of the models I tried to fit."
   ]
  },
  {
   "cell_type": "markdown",
   "metadata": {},
   "source": [
    "# Methods summary\n",
    "\n",
    "All the data cleaning, visualization, and modeling were conducted in Python, and this reported was wrote in jupyternotebook. The Python session and package version information is shown below."
   ]
  },
  {
   "cell_type": "code",
   "execution_count": 1,
   "metadata": {},
   "outputs": [
    {
     "name": "stdout",
     "output_type": "stream",
     "text": [
      "3.7.1 (default, Dec 14 2018, 13:28:58) \n",
      "[Clang 4.0.1 (tags/RELEASE_401/final)]\n",
      "Pandas version: 0.23.4\n",
      "Numpy version:1.15.4\n",
      "Seaborn version:0.9.0\n",
      "h2o version:3.22.1.3\n",
      "My working directory:\n",
      "/Users/miaocai/Dropbox/@2018 SPRING HDS5230 High performance computing/HDS5230Homework/Final exam\n"
     ]
    }
   ],
   "source": [
    "import os\n",
    "import sys\n",
    "import pathlib\n",
    "from tableone import TableOne\n",
    "import pandas as pd\n",
    "import numpy as np\n",
    "import seaborn as sns\n",
    "import h2o\n",
    "from h2o.estimators.glm import H2OGeneralizedLinearEstimator\n",
    "\n",
    "print(sys.version)\n",
    "print(\"Pandas version: {0}\".format(pd.__version__))\n",
    "print(\"Numpy version:{0}\".format(np.__version__))\n",
    "print(\"Seaborn version:{0}\".format(sns.__version__))\n",
    "print(\"h2o version:{0}\".format(h2o.__version__))\n",
    "print(\"My working directory:\\n\" + os.getcwd())"
   ]
  },
  {
   "cell_type": "markdown",
   "metadata": {},
   "source": [
    "### Loss function\n",
    "\n",
    "I pick the loss function as the mean absolute error (MAE). I chose this loss function since the outcome variable charges are highly right-skewed. Using the most commonly used mean square error (MSE) will not be as robust as MAE since the error will be squared, which is strongly influenced by outliers.\n",
    "\n",
    "### Initiate h2o and read data"
   ]
  },
  {
   "cell_type": "code",
   "execution_count": 2,
   "metadata": {},
   "outputs": [
    {
     "name": "stdout",
     "output_type": "stream",
     "text": [
      "Checking whether there is an H2O instance running at http://localhost:54321. connected.\n",
      "Warning: Your H2O cluster version is too old (3 months and 17 days)! Please download and install the latest version from http://h2o.ai/download/\n"
     ]
    },
    {
     "data": {
      "text/html": [
       "<div style=\"overflow:auto\"><table style=\"width:50%\"><tr><td>H2O cluster uptime:</td>\n",
       "<td>17 hours 49 mins</td></tr>\n",
       "<tr><td>H2O cluster timezone:</td>\n",
       "<td>America/Chicago</td></tr>\n",
       "<tr><td>H2O data parsing timezone:</td>\n",
       "<td>UTC</td></tr>\n",
       "<tr><td>H2O cluster version:</td>\n",
       "<td>3.22.1.3</td></tr>\n",
       "<tr><td>H2O cluster version age:</td>\n",
       "<td>3 months and 17 days !!!</td></tr>\n",
       "<tr><td>H2O cluster name:</td>\n",
       "<td>H2O_from_python_miaocai_k7904q</td></tr>\n",
       "<tr><td>H2O cluster total nodes:</td>\n",
       "<td>1</td></tr>\n",
       "<tr><td>H2O cluster free memory:</td>\n",
       "<td>1.980 Gb</td></tr>\n",
       "<tr><td>H2O cluster total cores:</td>\n",
       "<td>8</td></tr>\n",
       "<tr><td>H2O cluster allowed cores:</td>\n",
       "<td>8</td></tr>\n",
       "<tr><td>H2O cluster status:</td>\n",
       "<td>locked, healthy</td></tr>\n",
       "<tr><td>H2O connection url:</td>\n",
       "<td>http://localhost:54321</td></tr>\n",
       "<tr><td>H2O connection proxy:</td>\n",
       "<td>None</td></tr>\n",
       "<tr><td>H2O internal security:</td>\n",
       "<td>False</td></tr>\n",
       "<tr><td>H2O API Extensions:</td>\n",
       "<td>XGBoost, Algos, AutoML, Core V3, Core V4</td></tr>\n",
       "<tr><td>Python version:</td>\n",
       "<td>3.7.1 final</td></tr></table></div>"
      ],
      "text/plain": [
       "--------------------------  ----------------------------------------\n",
       "H2O cluster uptime:         17 hours 49 mins\n",
       "H2O cluster timezone:       America/Chicago\n",
       "H2O data parsing timezone:  UTC\n",
       "H2O cluster version:        3.22.1.3\n",
       "H2O cluster version age:    3 months and 17 days !!!\n",
       "H2O cluster name:           H2O_from_python_miaocai_k7904q\n",
       "H2O cluster total nodes:    1\n",
       "H2O cluster free memory:    1.980 Gb\n",
       "H2O cluster total cores:    8\n",
       "H2O cluster allowed cores:  8\n",
       "H2O cluster status:         locked, healthy\n",
       "H2O connection url:         http://localhost:54321\n",
       "H2O connection proxy:\n",
       "H2O internal security:      False\n",
       "H2O API Extensions:         XGBoost, Algos, AutoML, Core V3, Core V4\n",
       "Python version:             3.7.1 final\n",
       "--------------------------  ----------------------------------------"
      ]
     },
     "metadata": {},
     "output_type": "display_data"
    }
   ],
   "source": [
    "h2o.init(ip='localhost', port=54321, nthreads=-1, max_mem_size='2G')"
   ]
  },
  {
   "cell_type": "code",
   "execution_count": 3,
   "metadata": {},
   "outputs": [
    {
     "name": "stdout",
     "output_type": "stream",
     "text": [
      "Parse progress: |█████████████████████████████████████████████████████████| 100%\n"
     ]
    },
    {
     "data": {
      "text/html": [
       "<table>\n",
       "<thead>\n",
       "<tr><th style=\"text-align: right;\">  age</th><th>sex   </th><th style=\"text-align: right;\">   bmi</th><th style=\"text-align: right;\">  children</th><th>smoker  </th><th>region   </th><th style=\"text-align: right;\">  charges</th></tr>\n",
       "</thead>\n",
       "<tbody>\n",
       "<tr><td style=\"text-align: right;\">   19</td><td>female</td><td style=\"text-align: right;\">27.9  </td><td style=\"text-align: right;\">         0</td><td>yes     </td><td>southwest</td><td style=\"text-align: right;\"> 16884.9 </td></tr>\n",
       "<tr><td style=\"text-align: right;\">   18</td><td>male  </td><td style=\"text-align: right;\">33.77 </td><td style=\"text-align: right;\">         1</td><td>no      </td><td>southeast</td><td style=\"text-align: right;\">  1725.55</td></tr>\n",
       "<tr><td style=\"text-align: right;\">   28</td><td>male  </td><td style=\"text-align: right;\">33    </td><td style=\"text-align: right;\">         3</td><td>no      </td><td>southeast</td><td style=\"text-align: right;\">  4449.46</td></tr>\n",
       "<tr><td style=\"text-align: right;\">   33</td><td>male  </td><td style=\"text-align: right;\">22.705</td><td style=\"text-align: right;\">         0</td><td>no      </td><td>northwest</td><td style=\"text-align: right;\"> 21984.5 </td></tr>\n",
       "<tr><td style=\"text-align: right;\">   32</td><td>male  </td><td style=\"text-align: right;\">28.88 </td><td style=\"text-align: right;\">         0</td><td>no      </td><td>northwest</td><td style=\"text-align: right;\">  3866.86</td></tr>\n",
       "<tr><td style=\"text-align: right;\">   31</td><td>female</td><td style=\"text-align: right;\">25.74 </td><td style=\"text-align: right;\">         0</td><td>no      </td><td>southeast</td><td style=\"text-align: right;\">  3756.62</td></tr>\n",
       "<tr><td style=\"text-align: right;\">   46</td><td>female</td><td style=\"text-align: right;\">33.44 </td><td style=\"text-align: right;\">         1</td><td>no      </td><td>southeast</td><td style=\"text-align: right;\">  8240.59</td></tr>\n",
       "<tr><td style=\"text-align: right;\">   37</td><td>female</td><td style=\"text-align: right;\">27.74 </td><td style=\"text-align: right;\">         3</td><td>no      </td><td>northwest</td><td style=\"text-align: right;\">  7281.51</td></tr>\n",
       "<tr><td style=\"text-align: right;\">   37</td><td>male  </td><td style=\"text-align: right;\">29.83 </td><td style=\"text-align: right;\">         2</td><td>no      </td><td>northeast</td><td style=\"text-align: right;\">  6406.41</td></tr>\n",
       "<tr><td style=\"text-align: right;\">   60</td><td>female</td><td style=\"text-align: right;\">25.84 </td><td style=\"text-align: right;\">         0</td><td>no      </td><td>northwest</td><td style=\"text-align: right;\"> 28923.1 </td></tr>\n",
       "</tbody>\n",
       "</table>"
      ]
     },
     "metadata": {},
     "output_type": "display_data"
    },
    {
     "data": {
      "text/plain": []
     },
     "execution_count": 3,
     "metadata": {},
     "output_type": "execute_result"
    }
   ],
   "source": [
    "d0 = h2o.import_file(\"insurance.csv\")\n",
    "d0"
   ]
  },
  {
   "cell_type": "code",
   "execution_count": 4,
   "metadata": {},
   "outputs": [
    {
     "name": "stdout",
     "output_type": "stream",
     "text": [
      "The shape of the DataFrame is:\n",
      "(1338, 7)\n"
     ]
    },
    {
     "data": {
      "text/plain": [
       "[(0.0, 'age'),\n",
       " (0.0, 'sex'),\n",
       " (0.0, 'bmi'),\n",
       " (0.0, 'children'),\n",
       " (0.0, 'smoker'),\n",
       " (0.0, 'region'),\n",
       " (0.0, 'charges')]"
      ]
     },
     "execution_count": 4,
     "metadata": {},
     "output_type": "execute_result"
    }
   ],
   "source": [
    "print(\"The shape of the DataFrame is:\")\n",
    "print(d0.shape)\n",
    "list(zip(d0.nacnt(), d0.names))"
   ]
  },
  {
   "cell_type": "markdown",
   "metadata": {},
   "source": [
    "After reading the .csv file by using h2o, I found that there are no missing values in the data, which is great! "
   ]
  },
  {
   "cell_type": "markdown",
   "metadata": {},
   "source": [
    "### Split into train/validation/testing splits\n",
    "\n",
    "We then need to convert some categorical variables into factors, and split the data into train, test, and validation sets."
   ]
  },
  {
   "cell_type": "code",
   "execution_count": 5,
   "metadata": {},
   "outputs": [],
   "source": [
    "d0[['sex', 'smoker', 'region']] = d0[['sex', 'smoker', 'region']].asfactor()\n",
    "dtrain, dtest, dvalid = \\\n",
    "    d0.split_frame([0.7, 0.15], seed = 666)"
   ]
  },
  {
   "cell_type": "markdown",
   "metadata": {},
   "source": [
    "# Results\n",
    "\n",
    "## Summary statistics of model input variables"
   ]
  },
  {
   "cell_type": "code",
   "execution_count": 6,
   "metadata": {},
   "outputs": [
    {
     "data": {
      "text/html": [
       "<div>\n",
       "<style scoped>\n",
       "    .dataframe tbody tr th:only-of-type {\n",
       "        vertical-align: middle;\n",
       "    }\n",
       "\n",
       "    .dataframe tbody tr th {\n",
       "        vertical-align: top;\n",
       "    }\n",
       "\n",
       "    .dataframe thead tr th {\n",
       "        text-align: left;\n",
       "    }\n",
       "\n",
       "    .dataframe thead tr:last-of-type th {\n",
       "        text-align: right;\n",
       "    }\n",
       "</style>\n",
       "<table border=\"1\" class=\"dataframe\">\n",
       "  <thead>\n",
       "    <tr>\n",
       "      <th></th>\n",
       "      <th></th>\n",
       "      <th colspan=\"5\" halign=\"left\">Grouped by sex</th>\n",
       "    </tr>\n",
       "    <tr>\n",
       "      <th></th>\n",
       "      <th></th>\n",
       "      <th>isnull</th>\n",
       "      <th>female</th>\n",
       "      <th>male</th>\n",
       "      <th>pval</th>\n",
       "      <th>ptest</th>\n",
       "    </tr>\n",
       "    <tr>\n",
       "      <th>variable</th>\n",
       "      <th>level</th>\n",
       "      <th></th>\n",
       "      <th></th>\n",
       "      <th></th>\n",
       "      <th></th>\n",
       "      <th></th>\n",
       "    </tr>\n",
       "  </thead>\n",
       "  <tbody>\n",
       "    <tr>\n",
       "      <th>n</th>\n",
       "      <th></th>\n",
       "      <td></td>\n",
       "      <td>662</td>\n",
       "      <td>676</td>\n",
       "      <td></td>\n",
       "      <td></td>\n",
       "    </tr>\n",
       "    <tr>\n",
       "      <th>age, mean (SD)</th>\n",
       "      <th></th>\n",
       "      <td>0</td>\n",
       "      <td>39.5 (14.1)</td>\n",
       "      <td>38.9 (14.1)</td>\n",
       "      <td>0.446</td>\n",
       "      <td>Two Sample T-test</td>\n",
       "    </tr>\n",
       "    <tr>\n",
       "      <th>bmi, mean (SD)</th>\n",
       "      <th></th>\n",
       "      <td>0</td>\n",
       "      <td>30.4 (6.0)</td>\n",
       "      <td>30.9 (6.1)</td>\n",
       "      <td>0.090</td>\n",
       "      <td>Two Sample T-test</td>\n",
       "    </tr>\n",
       "    <tr>\n",
       "      <th rowspan=\"6\" valign=\"top\">children, n (%)</th>\n",
       "      <th>0</th>\n",
       "      <td>0</td>\n",
       "      <td>289 (43.7)</td>\n",
       "      <td>285 (42.2)</td>\n",
       "      <td>0.981</td>\n",
       "      <td>Chi-squared</td>\n",
       "    </tr>\n",
       "    <tr>\n",
       "      <th>1</th>\n",
       "      <td></td>\n",
       "      <td>158 (23.9)</td>\n",
       "      <td>166 (24.6)</td>\n",
       "      <td></td>\n",
       "      <td></td>\n",
       "    </tr>\n",
       "    <tr>\n",
       "      <th>2</th>\n",
       "      <td></td>\n",
       "      <td>119 (18.0)</td>\n",
       "      <td>121 (17.9)</td>\n",
       "      <td></td>\n",
       "      <td></td>\n",
       "    </tr>\n",
       "    <tr>\n",
       "      <th>3</th>\n",
       "      <td></td>\n",
       "      <td>77 (11.6)</td>\n",
       "      <td>80 (11.8)</td>\n",
       "      <td></td>\n",
       "      <td></td>\n",
       "    </tr>\n",
       "    <tr>\n",
       "      <th>4</th>\n",
       "      <td></td>\n",
       "      <td>11 (1.7)</td>\n",
       "      <td>14 (2.1)</td>\n",
       "      <td></td>\n",
       "      <td></td>\n",
       "    </tr>\n",
       "    <tr>\n",
       "      <th>5</th>\n",
       "      <td></td>\n",
       "      <td>8 (1.2)</td>\n",
       "      <td>10 (1.5)</td>\n",
       "      <td></td>\n",
       "      <td></td>\n",
       "    </tr>\n",
       "    <tr>\n",
       "      <th rowspan=\"2\" valign=\"top\">smoker, n (%)</th>\n",
       "      <th>no</th>\n",
       "      <td>0</td>\n",
       "      <td>547 (82.6)</td>\n",
       "      <td>517 (76.5)</td>\n",
       "      <td>0.007</td>\n",
       "      <td>Chi-squared</td>\n",
       "    </tr>\n",
       "    <tr>\n",
       "      <th>yes</th>\n",
       "      <td></td>\n",
       "      <td>115 (17.4)</td>\n",
       "      <td>159 (23.5)</td>\n",
       "      <td></td>\n",
       "      <td></td>\n",
       "    </tr>\n",
       "    <tr>\n",
       "      <th rowspan=\"4\" valign=\"top\">region, n (%)</th>\n",
       "      <th>northeast</th>\n",
       "      <td>0</td>\n",
       "      <td>161 (24.3)</td>\n",
       "      <td>163 (24.1)</td>\n",
       "      <td>0.933</td>\n",
       "      <td>Chi-squared</td>\n",
       "    </tr>\n",
       "    <tr>\n",
       "      <th>northwest</th>\n",
       "      <td></td>\n",
       "      <td>164 (24.8)</td>\n",
       "      <td>161 (23.8)</td>\n",
       "      <td></td>\n",
       "      <td></td>\n",
       "    </tr>\n",
       "    <tr>\n",
       "      <th>southeast</th>\n",
       "      <td></td>\n",
       "      <td>175 (26.4)</td>\n",
       "      <td>189 (28.0)</td>\n",
       "      <td></td>\n",
       "      <td></td>\n",
       "    </tr>\n",
       "    <tr>\n",
       "      <th>southwest</th>\n",
       "      <td></td>\n",
       "      <td>162 (24.5)</td>\n",
       "      <td>163 (24.1)</td>\n",
       "      <td></td>\n",
       "      <td></td>\n",
       "    </tr>\n",
       "  </tbody>\n",
       "</table>\n",
       "</div><br />[1] Warning, Hartigan's Dip Test reports possible multimodal distributions for: age.<br />[2] Warning, test for normality reports non-normal distributions for: age.<br />"
      ],
      "text/plain": [
       "                          Grouped by sex                                                    \n",
       "                                  isnull       female         male   pval              ptest\n",
       "variable        level                                                                       \n",
       "n                                                 662          676                          \n",
       "age, mean (SD)                         0  39.5 (14.1)  38.9 (14.1)  0.446  Two Sample T-test\n",
       "bmi, mean (SD)                         0   30.4 (6.0)   30.9 (6.1)  0.090  Two Sample T-test\n",
       "children, n (%) 0                      0   289 (43.7)   285 (42.2)  0.981        Chi-squared\n",
       "                1                          158 (23.9)   166 (24.6)                          \n",
       "                2                          119 (18.0)   121 (17.9)                          \n",
       "                3                           77 (11.6)    80 (11.8)                          \n",
       "                4                            11 (1.7)     14 (2.1)                          \n",
       "                5                             8 (1.2)     10 (1.5)                          \n",
       "smoker, n (%)   no                     0   547 (82.6)   517 (76.5)  0.007        Chi-squared\n",
       "                yes                        115 (17.4)   159 (23.5)                          \n",
       "region, n (%)   northeast              0   161 (24.3)   163 (24.1)  0.933        Chi-squared\n",
       "                northwest                  164 (24.8)   161 (23.8)                          \n",
       "                southeast                  175 (26.4)   189 (28.0)                          \n",
       "                southwest                  162 (24.5)   163 (24.1)                          \n",
       "[1] Warning, Hartigan's Dip Test reports possible multimodal distributions for: age.\n",
       "[2] Warning, test for normality reports non-normal distributions for: age."
      ]
     },
     "execution_count": 6,
     "metadata": {},
     "output_type": "execute_result"
    }
   ],
   "source": [
    "d = pd.read_csv(\"insurance.csv\")\n",
    "col_types = d.dtypes.to_dict()\n",
    "col_types['age'] = 'float64'\n",
    "d = pd.read_csv(\"insurance.csv\", dtype=col_types)\n",
    "\n",
    "overall_table = TableOne(\n",
    "    d, columns = ['age', 'bmi', 'children', 'smoker', 'region'], \n",
    "    categorical = ['children', 'smoker', 'region'], \n",
    "    groupby = 'sex', label_suffix=True, pval = True)\n",
    "overall_table"
   ]
  },
  {
   "cell_type": "markdown",
   "metadata": {},
   "source": [
    "## Descriptive analysis of the outcome variable charges"
   ]
  },
  {
   "cell_type": "code",
   "execution_count": 7,
   "metadata": {},
   "outputs": [
    {
     "name": "stderr",
     "output_type": "stream",
     "text": [
      "/Users/miaocai/anaconda3/lib/python3.7/site-packages/scipy/stats/stats.py:1713: FutureWarning: Using a non-tuple sequence for multidimensional indexing is deprecated; use `arr[tuple(seq)]` instead of `arr[seq]`. In the future this will be interpreted as an array index, `arr[np.array(seq)]`, which will result either in an error or a different result.\n",
      "  return np.add.reduce(sorted[indexer] * weights, axis=axis) / sumval\n"
     ]
    },
    {
     "data": {
      "text/plain": [
       "<matplotlib.axes._subplots.AxesSubplot at 0x1a22ed8cf8>"
      ]
     },
     "execution_count": 7,
     "metadata": {},
     "output_type": "execute_result"
    },
    {
     "data": {
      "image/png": "[encoded data removed]",
      "text/plain": [
       "<Figure size 432x288 with 1 Axes>"
      ]
     },
     "metadata": {
      "needs_background": "light"
     },
     "output_type": "display_data"
    }
   ],
   "source": [
    "sns.distplot(d['charges'], hist=True, kde=True, \n",
    "             bins=int(180/5), color = 'skyblue', \n",
    "             hist_kws={'edgecolor':'grey'},\n",
    "             kde_kws={'linewidth': 2})"
   ]
  },
  {
   "cell_type": "code",
   "execution_count": 8,
   "metadata": {},
   "outputs": [
    {
     "data": {
      "text/plain": [
       "<matplotlib.axes._subplots.AxesSubplot at 0x1a233b43c8>"
      ]
     },
     "execution_count": 8,
     "metadata": {},
     "output_type": "execute_result"
    },
    {
     "data": {
      "image/png": "[encoded data removed]",
      "text/plain": [
       "<Figure size 432x288 with 1 Axes>"
      ]
     },
     "metadata": {
      "needs_background": "light"
     },
     "output_type": "display_data"
    }
   ],
   "source": [
    "sns.boxplot(d['charges'], color = 'skyblue')"
   ]
  },
  {
   "cell_type": "code",
   "execution_count": 9,
   "metadata": {},
   "outputs": [
    {
     "data": {
      "text/plain": [
       "count     1338.000000\n",
       "mean     13270.422265\n",
       "std      12110.011237\n",
       "min       1121.873900\n",
       "25%       4740.287150\n",
       "50%       9382.033000\n",
       "75%      16639.912515\n",
       "max      63770.428010\n",
       "Name: charges, dtype: float64"
      ]
     },
     "execution_count": 9,
     "metadata": {},
     "output_type": "execute_result"
    }
   ],
   "source": [
    "d['charges'].describe()"
   ]
  },
  {
   "cell_type": "markdown",
   "metadata": {},
   "source": [
    "## Cross-validation\n",
    "\n",
    "Here I use the `H2OGeneralizedLinearEstimator` module in `h2o` package to perform cross-validation. I set the number of cross-validation as 5 by `nfolds=5`, in which 6 models will be built. The first 5 models (cross-validation models) are built on 80% of the training data, and a different 20% is held out for each of the 5 models. Then the main model is built on 100% of the training data."
   ]
  },
  {
   "cell_type": "code",
   "execution_count": 10,
   "metadata": {
    "scrolled": true
   },
   "outputs": [
    {
     "name": "stdout",
     "output_type": "stream",
     "text": [
      "glm Model Build progress: |███████████████████████████████████████████████| 100%\n",
      "Model Details\n",
      "=============\n",
      "H2OGeneralizedLinearEstimator :  Generalized Linear Modeling\n",
      "Model Key:  d_glm_0\n",
      "\n",
      "\n",
      "ModelMetricsRegressionGLM: glm\n",
      "** Reported on train data. **\n",
      "\n",
      "MSE: 125728309.44330035\n",
      "RMSE: 11212.863570172445\n",
      "MAE: 8471.397911142334\n",
      "RMSLE: 0.9331157151413909\n",
      "R^2: 0.14203674139265943\n",
      "Mean Residual Deviance: 125728309.44330035\n",
      "Null degrees of freedom: 1337\n",
      "Residual degrees of freedom: 1326\n",
      "Null deviance: 196074221532.74988\n",
      "Residual deviance: 168224478035.13586\n",
      "AIC: 28776.289622947068\n",
      "\n",
      "ModelMetricsRegressionGLM: glm\n",
      "** Reported on cross-validation data. **\n",
      "\n",
      "MSE: 129830749.84711617\n",
      "RMSE: 11394.32972346843\n",
      "MAE: 8600.97548619905\n",
      "RMSLE: 0.9464119017196216\n",
      "R^2: 0.11404190751089327\n",
      "Mean Residual Deviance: 129830749.84711617\n",
      "Null degrees of freedom: 1337\n",
      "Residual degrees of freedom: 1326\n",
      "Null deviance: 196632689167.88873\n",
      "Residual deviance: 173713543295.44144\n",
      "AIC: 28819.25062652632\n",
      "Cross-Validation Metrics Summary: \n"
     ]
    },
    {
     "data": {
      "text/html": [
       "<div style=\"overflow:auto\"><table style=\"width:50%\"><tr><td><b></b></td>\n",
       "<td><b>mean</b></td>\n",
       "<td><b>sd</b></td>\n",
       "<td><b>cv_1_valid</b></td>\n",
       "<td><b>cv_2_valid</b></td>\n",
       "<td><b>cv_3_valid</b></td>\n",
       "<td><b>cv_4_valid</b></td>\n",
       "<td><b>cv_5_valid</b></td></tr>\n",
       "<tr><td>mae</td>\n",
       "<td>8592.547</td>\n",
       "<td>295.31107</td>\n",
       "<td>8582.3125</td>\n",
       "<td>7818.5264</td>\n",
       "<td>8785.108</td>\n",
       "<td>8714.119</td>\n",
       "<td>9062.668</td></tr>\n",
       "<tr><td>mean_residual_deviance</td>\n",
       "<td>129275808.0000000</td>\n",
       "<td>12568459.0000000</td>\n",
       "<td>122953088.0000000</td>\n",
       "<td>102175632.0000000</td>\n",
       "<td>153850944.0000000</td>\n",
       "<td>124694504.0000000</td>\n",
       "<td>142704864.0000000</td></tr>\n",
       "<tr><td>mse</td>\n",
       "<td>129275808.0000000</td>\n",
       "<td>12568459.0000000</td>\n",
       "<td>122953088.0000000</td>\n",
       "<td>102175632.0000000</td>\n",
       "<td>153850944.0000000</td>\n",
       "<td>124694504.0000000</td>\n",
       "<td>142704864.0000000</td></tr>\n",
       "<tr><td>null_deviance</td>\n",
       "<td>39326540000.0000000</td>\n",
       "<td>4538068000.0000000</td>\n",
       "<td>37283930000.0000000</td>\n",
       "<td>29694271500.0000000</td>\n",
       "<td>49030697000.0000000</td>\n",
       "<td>37774651000.0000000</td>\n",
       "<td>42849141000.0000000</td></tr>\n",
       "<tr><td>r2</td>\n",
       "<td>0.1105586</td>\n",
       "<td>0.0058998</td>\n",
       "<td>0.1174623</td>\n",
       "<td>0.1147653</td>\n",
       "<td>0.1004910</td>\n",
       "<td>0.1195456</td>\n",
       "<td>0.1005287</td></tr>\n",
       "<tr><td>residual_deviance</td>\n",
       "<td>34742710000.0000000</td>\n",
       "<td>4171281920.0000000</td>\n",
       "<td>32705521700.0000000</td>\n",
       "<td>26156961800.0000000</td>\n",
       "<td>43847520000.0000000</td>\n",
       "<td>33044043800.0000000</td>\n",
       "<td>37959496000.0000000</td></tr>\n",
       "<tr><td>rmse</td>\n",
       "<td>11342.573</td>\n",
       "<td>557.5985</td>\n",
       "<td>11088.422</td>\n",
       "<td>10108.196</td>\n",
       "<td>12403.667</td>\n",
       "<td>11166.67</td>\n",
       "<td>11945.914</td></tr>\n",
       "<tr><td>rmsle</td>\n",
       "<td>0.9458453</td>\n",
       "<td>0.0343231</td>\n",
       "<td>0.9813831</td>\n",
       "<td>0.9140743</td>\n",
       "<td>0.8841538</td>\n",
       "<td>1.0196682</td>\n",
       "<td>0.9299473</td></tr></table></div>"
      ],
      "text/plain": [
       "                        mean         sd           cv_1_valid    cv_2_valid    cv_3_valid    cv_4_valid    cv_5_valid\n",
       "----------------------  -----------  -----------  ------------  ------------  ------------  ------------  ------------\n",
       "mae                     8592.55      295.311      8582.31       7818.53       8785.11       8714.12       9062.67\n",
       "mean_residual_deviance  1.29276e+08  1.25685e+07  1.22953e+08   1.02176e+08   1.53851e+08   1.24695e+08   1.42705e+08\n",
       "mse                     1.29276e+08  1.25685e+07  1.22953e+08   1.02176e+08   1.53851e+08   1.24695e+08   1.42705e+08\n",
       "null_deviance           3.93265e+10  4.53807e+09  3.72839e+10   2.96943e+10   4.90307e+10   3.77747e+10   4.28491e+10\n",
       "r2                      0.110559     0.00589982   0.117462      0.114765      0.100491      0.119546      0.100529\n",
       "residual_deviance       3.47427e+10  4.17128e+09  3.27055e+10   2.6157e+10    4.38475e+10   3.3044e+10    3.79595e+10\n",
       "rmse                    11342.6      557.598      11088.4       10108.2       12403.7       11166.7       11945.9\n",
       "rmsle                   0.945845     0.0343231    0.981383      0.914074      0.884154      1.01967       0.929947"
      ]
     },
     "metadata": {},
     "output_type": "display_data"
    },
    {
     "name": "stdout",
     "output_type": "stream",
     "text": [
      "Scoring History: \n"
     ]
    },
    {
     "data": {
      "text/html": [
       "<div style=\"overflow:auto\"><table style=\"width:50%\"><tr><td><b></b></td>\n",
       "<td><b>timestamp</b></td>\n",
       "<td><b>duration</b></td>\n",
       "<td><b>iterations</b></td>\n",
       "<td><b>negative_log_likelihood</b></td>\n",
       "<td><b>objective</b></td></tr>\n",
       "<tr><td></td>\n",
       "<td>2019-05-12 21:59:24</td>\n",
       "<td> 0.000 sec</td>\n",
       "<td>0</td>\n",
       "<td>196074221568.3671875</td>\n",
       "<td>146542766.4935480</td></tr></table></div>"
      ],
      "text/plain": [
       "    timestamp            duration    iterations    negative_log_likelihood    objective\n",
       "--  -------------------  ----------  ------------  -------------------------  -----------\n",
       "    2019-05-12 21:59:24  0.000 sec   0             1.96074e+11                1.46543e+08"
      ]
     },
     "metadata": {},
     "output_type": "display_data"
    }
   ],
   "source": [
    "target_var = 'charges'\n",
    "input_var = ['age', 'sex', 'bmi', \n",
    "             'children', 'smoker', 'region']\n",
    "glm_mod0 = \\\n",
    "    H2OGeneralizedLinearEstimator(model_id = 'd_glm_0',\n",
    "                                  family = 'gaussian',\n",
    "                                  nfolds = 5,\n",
    "                                  seed = 123)\n",
    "glm_mod0.train(x = input_var, \n",
    "               y = target_var, \n",
    "               training_frame = d0)\n",
    "glm_mod0.show()"
   ]
  },
  {
   "cell_type": "markdown",
   "metadata": {},
   "source": [
    "## Machine learning\n",
    "\n",
    "### Regularized regression\n"
   ]
  },
  {
   "cell_type": "code",
   "execution_count": 11,
   "metadata": {},
   "outputs": [
    {
     "name": "stdout",
     "output_type": "stream",
     "text": [
      "glm Grid Build progress: |████████████████████████████████████████████████| 100%\n",
      "      alpha                                                    model_ids  \\\n",
      "0     [1.0]  Grid_GLM_py_4_sid_8b51_model_python_1557652172496_2_model_5   \n",
      "1    [0.75]  Grid_GLM_py_4_sid_8b51_model_python_1557652172496_2_model_4   \n",
      "2     [0.5]  Grid_GLM_py_4_sid_8b51_model_python_1557652172496_2_model_3   \n",
      "3    [0.25]  Grid_GLM_py_4_sid_8b51_model_python_1557652172496_2_model_2   \n",
      "4     [0.0]  Grid_GLM_py_4_sid_8b51_model_python_1557652172496_2_model_1   \n",
      "\n",
      "       residual_deviance  \n",
      "0    6.232294045221491E9  \n",
      "1  2.7448416102541004E10  \n",
      "2  2.7451841045226257E10  \n",
      "3  2.7452983289290577E10  \n",
      "4  2.7453233838145943E10  \n"
     ]
    }
   ],
   "source": [
    "from h2o.grid.grid_search import H2OGridSearch\n",
    "\n",
    "alpha_values = {'alpha': [0, 0.25, 0.5, 0.75, 1]}\n",
    "glm_mod2 = H2OGridSearch(\n",
    "    H2OGeneralizedLinearEstimator(family = 'gaussian',\n",
    "                                  lambda_search = True,\n",
    "                                  seed = 123), \\\n",
    "hyper_params = alpha_values)\n",
    "\n",
    "glm_mod2.train(x = input_var, \n",
    "               y = target_var, \n",
    "               training_frame = dtrain,\n",
    "              validation_frame = dvalid)\n",
    "\n",
    "glm_mod2.show()"
   ]
  },
  {
   "cell_type": "code",
   "execution_count": 12,
   "metadata": {},
   "outputs": [
    {
     "data": {
      "text/html": [
       "<div>\n",
       "<style scoped>\n",
       "    .dataframe tbody tr th:only-of-type {\n",
       "        vertical-align: middle;\n",
       "    }\n",
       "\n",
       "    .dataframe tbody tr th {\n",
       "        vertical-align: top;\n",
       "    }\n",
       "\n",
       "    .dataframe thead th {\n",
       "        text-align: right;\n",
       "    }\n",
       "</style>\n",
       "<table border=\"1\" class=\"dataframe\">\n",
       "  <thead>\n",
       "    <tr style=\"text-align: right;\">\n",
       "      <th></th>\n",
       "      <th>names</th>\n",
       "      <th>coefficients</th>\n",
       "      <th>standardized_coefficients</th>\n",
       "    </tr>\n",
       "  </thead>\n",
       "  <tbody>\n",
       "    <tr>\n",
       "      <th>0</th>\n",
       "      <td>Intercept</td>\n",
       "      <td>-7206.776563</td>\n",
       "      <td>13492.999531</td>\n",
       "    </tr>\n",
       "    <tr>\n",
       "      <th>1</th>\n",
       "      <td>region.northeast</td>\n",
       "      <td>83.984427</td>\n",
       "      <td>83.984427</td>\n",
       "    </tr>\n",
       "    <tr>\n",
       "      <th>2</th>\n",
       "      <td>region.northwest</td>\n",
       "      <td>111.459665</td>\n",
       "      <td>111.459665</td>\n",
       "    </tr>\n",
       "    <tr>\n",
       "      <th>3</th>\n",
       "      <td>region.southeast</td>\n",
       "      <td>-192.376821</td>\n",
       "      <td>-192.376821</td>\n",
       "    </tr>\n",
       "    <tr>\n",
       "      <th>4</th>\n",
       "      <td>region.southwest</td>\n",
       "      <td>-70.256674</td>\n",
       "      <td>-70.256674</td>\n",
       "    </tr>\n",
       "    <tr>\n",
       "      <th>5</th>\n",
       "      <td>smoker.no</td>\n",
       "      <td>-5020.292788</td>\n",
       "      <td>-5020.292788</td>\n",
       "    </tr>\n",
       "    <tr>\n",
       "      <th>6</th>\n",
       "      <td>smoker.yes</td>\n",
       "      <td>18846.423625</td>\n",
       "      <td>18846.423625</td>\n",
       "    </tr>\n",
       "    <tr>\n",
       "      <th>7</th>\n",
       "      <td>sex.female</td>\n",
       "      <td>147.142857</td>\n",
       "      <td>147.142857</td>\n",
       "    </tr>\n",
       "    <tr>\n",
       "      <th>8</th>\n",
       "      <td>sex.male</td>\n",
       "      <td>-142.895434</td>\n",
       "      <td>-142.895434</td>\n",
       "    </tr>\n",
       "    <tr>\n",
       "      <th>9</th>\n",
       "      <td>age</td>\n",
       "      <td>255.041295</td>\n",
       "      <td>3604.495432</td>\n",
       "    </tr>\n",
       "    <tr>\n",
       "      <th>10</th>\n",
       "      <td>bmi</td>\n",
       "      <td>329.352274</td>\n",
       "      <td>2038.979286</td>\n",
       "    </tr>\n",
       "    <tr>\n",
       "      <th>11</th>\n",
       "      <td>children</td>\n",
       "      <td>477.291820</td>\n",
       "      <td>563.040100</td>\n",
       "    </tr>\n",
       "  </tbody>\n",
       "</table>\n",
       "</div>"
      ],
      "text/plain": [
       "               names  coefficients  standardized_coefficients\n",
       "0          Intercept  -7206.776563               13492.999531\n",
       "1   region.northeast     83.984427                  83.984427\n",
       "2   region.northwest    111.459665                 111.459665\n",
       "3   region.southeast   -192.376821                -192.376821\n",
       "4   region.southwest    -70.256674                 -70.256674\n",
       "5          smoker.no  -5020.292788               -5020.292788\n",
       "6         smoker.yes  18846.423625               18846.423625\n",
       "7         sex.female    147.142857                 147.142857\n",
       "8           sex.male   -142.895434                -142.895434\n",
       "9                age    255.041295                3604.495432\n",
       "10               bmi    329.352274                2038.979286\n",
       "11          children    477.291820                 563.040100"
      ]
     },
     "execution_count": 12,
     "metadata": {},
     "output_type": "execute_result"
    }
   ],
   "source": [
    "glm_best = glm_mod2.get_grid()[0]\n",
    "glm_best._model_json['output']['coefficients_table'].as_data_frame()"
   ]
  },
  {
   "cell_type": "code",
   "execution_count": 13,
   "metadata": {},
   "outputs": [
    {
     "name": "stdout",
     "output_type": "stream",
     "text": [
      "\n",
      "ModelMetricsRegressionGLM: glm\n",
      "** Reported on train data. **\n",
      "\n",
      "MSE: 36244089.05252515\n",
      "RMSE: 6020.306391914381\n",
      "MAE: 4175.590832941357\n",
      "RMSLE: NaN\n",
      "R^2: 0.7557379707834732\n",
      "Mean Residual Deviance: 36244089.05252515\n",
      "Null degrees of freedom: 955\n",
      "Residual degrees of freedom: 944\n",
      "Null deviance: 141853194478.7002\n",
      "Residual deviance: 34649349134.21404\n",
      "AIC: 19378.942718761107\n"
     ]
    },
    {
     "data": {
      "text/plain": []
     },
     "execution_count": 13,
     "metadata": {},
     "output_type": "execute_result"
    }
   ],
   "source": [
    "glm_best._model_json['output']['training_metrics']"
   ]
  },
  {
   "cell_type": "code",
   "execution_count": 14,
   "metadata": {},
   "outputs": [
    {
     "name": "stdout",
     "output_type": "stream",
     "text": [
      "\n",
      "ModelMetricsRegressionGLM: glm\n",
      "** Reported on validation data. **\n",
      "\n",
      "MSE: 30107700.701553095\n",
      "RMSE: 5487.04845081152\n",
      "MAE: 3827.8094066015087\n",
      "RMSLE: 0.5274009774363978\n",
      "R^2: 0.7699240420817869\n",
      "Mean Residual Deviance: 30107700.701553095\n",
      "Null degrees of freedom: 206\n",
      "Residual degrees of freedom: 195\n",
      "Null deviance: 27453554523.254715\n",
      "Residual deviance: 6232294045.221491\n",
      "AIC: 4178.040900338396\n"
     ]
    },
    {
     "data": {
      "text/plain": []
     },
     "execution_count": 14,
     "metadata": {},
     "output_type": "execute_result"
    }
   ],
   "source": [
    "glm_best._model_json['output']['validation_metrics']"
   ]
  },
  {
   "cell_type": "markdown",
   "metadata": {},
   "source": [
    "### Auto-ML"
   ]
  },
  {
   "cell_type": "code",
   "execution_count": 15,
   "metadata": {},
   "outputs": [
    {
     "name": "stdout",
     "output_type": "stream",
     "text": [
      "AutoML progress: |████████████████████████████████████████████████████████| 100%\n"
     ]
    },
    {
     "data": {
      "text/html": [
       "<table>\n",
       "<thead>\n",
       "<tr><th>model_id                                     </th><th style=\"text-align: right;\">  mean_residual_deviance</th><th style=\"text-align: right;\">   rmse</th><th style=\"text-align: right;\">        mse</th><th style=\"text-align: right;\">    mae</th><th style=\"text-align: right;\">   rmsle</th></tr>\n",
       "</thead>\n",
       "<tbody>\n",
       "<tr><td>XGBoost_3_AutoML_20190512_215925             </td><td style=\"text-align: right;\">             2.01133e+07</td><td style=\"text-align: right;\">4484.78</td><td style=\"text-align: right;\">2.01133e+07</td><td style=\"text-align: right;\">2408.37</td><td style=\"text-align: right;\">0.420762</td></tr>\n",
       "<tr><td>XGBoost_grid_1_AutoML_20190512_215925_model_1</td><td style=\"text-align: right;\">             2.02136e+07</td><td style=\"text-align: right;\">4495.95</td><td style=\"text-align: right;\">2.02136e+07</td><td style=\"text-align: right;\">2399.7 </td><td style=\"text-align: right;\">0.415415</td></tr>\n",
       "<tr><td>XGBoost_1_AutoML_20190512_215925             </td><td style=\"text-align: right;\">             2.02299e+07</td><td style=\"text-align: right;\">4497.77</td><td style=\"text-align: right;\">2.02299e+07</td><td style=\"text-align: right;\">2455.43</td><td style=\"text-align: right;\">0.421335</td></tr>\n",
       "<tr><td>XGBoost_2_AutoML_20190512_215925             </td><td style=\"text-align: right;\">             2.06302e+07</td><td style=\"text-align: right;\">4542.05</td><td style=\"text-align: right;\">2.06302e+07</td><td style=\"text-align: right;\">2437.3 </td><td style=\"text-align: right;\">0.430953</td></tr>\n",
       "<tr><td>GBM_grid_1_AutoML_20190512_215925_model_8    </td><td style=\"text-align: right;\">             2.0729e+07 </td><td style=\"text-align: right;\">4552.91</td><td style=\"text-align: right;\">2.0729e+07 </td><td style=\"text-align: right;\">2506.67</td><td style=\"text-align: right;\">0.432793</td></tr>\n",
       "<tr><td>XGBoost_grid_1_AutoML_20190512_215925_model_2</td><td style=\"text-align: right;\">             2.10893e+07</td><td style=\"text-align: right;\">4592.31</td><td style=\"text-align: right;\">2.10893e+07</td><td style=\"text-align: right;\">2623.96</td><td style=\"text-align: right;\">0.397967</td></tr>\n",
       "<tr><td>GBM_2_AutoML_20190512_215925                 </td><td style=\"text-align: right;\">             2.19025e+07</td><td style=\"text-align: right;\">4680.01</td><td style=\"text-align: right;\">2.19025e+07</td><td style=\"text-align: right;\">2789.41</td><td style=\"text-align: right;\">0.464864</td></tr>\n",
       "<tr><td>GBM_4_AutoML_20190512_215925                 </td><td style=\"text-align: right;\">             2.19714e+07</td><td style=\"text-align: right;\">4687.36</td><td style=\"text-align: right;\">2.19714e+07</td><td style=\"text-align: right;\">2818.77</td><td style=\"text-align: right;\">0.474246</td></tr>\n",
       "<tr><td>DRF_1_AutoML_20190512_215925                 </td><td style=\"text-align: right;\">             2.23091e+07</td><td style=\"text-align: right;\">4723.25</td><td style=\"text-align: right;\">2.23091e+07</td><td style=\"text-align: right;\">2699.82</td><td style=\"text-align: right;\">0.429298</td></tr>\n",
       "<tr><td>XGBoost_grid_1_AutoML_20190512_215925_model_4</td><td style=\"text-align: right;\">             2.24414e+07</td><td style=\"text-align: right;\">4737.23</td><td style=\"text-align: right;\">2.24414e+07</td><td style=\"text-align: right;\">2802.44</td><td style=\"text-align: right;\">0.437267</td></tr>\n",
       "</tbody>\n",
       "</table>"
      ]
     },
     "metadata": {},
     "output_type": "display_data"
    },
    {
     "data": {
      "text/plain": []
     },
     "execution_count": 15,
     "metadata": {},
     "output_type": "execute_result"
    }
   ],
   "source": [
    "from h2o.automl.autoh2o import H2OAutoML\n",
    "\n",
    "autom1_1 = H2OAutoML(max_runtime_secs = 60)\n",
    "autom1_1.train(x = input_var, \n",
    "               y = target_var, \n",
    "               training_frame = dtrain,\n",
    "               validation_frame = dvalid)\n",
    "autom1_1.leaderboard"
   ]
  },
  {
   "cell_type": "code",
   "execution_count": 16,
   "metadata": {},
   "outputs": [
    {
     "name": "stdout",
     "output_type": "stream",
     "text": [
      "Model Details\n",
      "=============\n",
      "H2OXGBoostEstimator :  XGBoost\n",
      "Model Key:  XGBoost_3_AutoML_20190512_215925\n",
      "\n",
      "\n",
      "ModelMetricsRegression: xgboost\n",
      "** Reported on train data. **\n",
      "\n",
      "MSE: 12369972.464902513\n",
      "RMSE: 3517.0971645523973\n",
      "MAE: 1829.37691175389\n",
      "RMSLE: 0.3047167549002243\n",
      "Mean Residual Deviance: 12369972.464902513\n",
      "\n",
      "ModelMetricsRegression: xgboost\n",
      "** Reported on validation data. **\n",
      "\n",
      "MSE: 19493080.685072906\n",
      "RMSE: 4415.096905513276\n",
      "MAE: 2434.8985572114657\n",
      "RMSLE: 0.41544327944168136\n",
      "Mean Residual Deviance: 19493080.685072906\n",
      "\n",
      "ModelMetricsRegression: xgboost\n",
      "** Reported on cross-validation data. **\n",
      "\n",
      "MSE: 20113295.29822988\n",
      "RMSE: 4484.784866437841\n",
      "MAE: 2408.368408203125\n",
      "RMSLE: 0.42076198171872353\n",
      "Mean Residual Deviance: 20113295.29822988\n",
      "Cross-Validation Metrics Summary: \n"
     ]
    },
    {
     "data": {
      "text/html": [
       "<div style=\"overflow:auto\"><table style=\"width:50%\"><tr><td><b></b></td>\n",
       "<td><b>mean</b></td>\n",
       "<td><b>sd</b></td>\n",
       "<td><b>cv_1_valid</b></td>\n",
       "<td><b>cv_2_valid</b></td>\n",
       "<td><b>cv_3_valid</b></td>\n",
       "<td><b>cv_4_valid</b></td>\n",
       "<td><b>cv_5_valid</b></td></tr>\n",
       "<tr><td>mae</td>\n",
       "<td>2408.4348</td>\n",
       "<td>88.44179</td>\n",
       "<td>2345.043</td>\n",
       "<td>2257.3213</td>\n",
       "<td>2325.7712</td>\n",
       "<td>2570.7644</td>\n",
       "<td>2543.2737</td></tr>\n",
       "<tr><td>mean_residual_deviance</td>\n",
       "<td>20111320.0000000</td>\n",
       "<td>1536773.4</td>\n",
       "<td>22000234.0000000</td>\n",
       "<td>19989642.0000000</td>\n",
       "<td>17701492.0000000</td>\n",
       "<td>17784956.0000000</td>\n",
       "<td>23080272.0000000</td></tr>\n",
       "<tr><td>mse</td>\n",
       "<td>20111320.0000000</td>\n",
       "<td>1536773.4</td>\n",
       "<td>22000234.0000000</td>\n",
       "<td>19989642.0000000</td>\n",
       "<td>17701492.0000000</td>\n",
       "<td>17784956.0000000</td>\n",
       "<td>23080272.0000000</td></tr>\n",
       "<tr><td>r2</td>\n",
       "<td>0.8623933</td>\n",
       "<td>0.0118941</td>\n",
       "<td>0.8743982</td>\n",
       "<td>0.8321578</td>\n",
       "<td>0.8794898</td>\n",
       "<td>0.8685932</td>\n",
       "<td>0.8573273</td></tr>\n",
       "<tr><td>residual_deviance</td>\n",
       "<td>20111320.0000000</td>\n",
       "<td>1536773.4</td>\n",
       "<td>22000234.0000000</td>\n",
       "<td>19989642.0000000</td>\n",
       "<td>17701492.0000000</td>\n",
       "<td>17784956.0000000</td>\n",
       "<td>23080272.0000000</td></tr>\n",
       "<tr><td>rmse</td>\n",
       "<td>4478.0293</td>\n",
       "<td>171.13116</td>\n",
       "<td>4690.441</td>\n",
       "<td>4470.9775</td>\n",
       "<td>4207.314</td>\n",
       "<td>4217.221</td>\n",
       "<td>4804.1934</td></tr>\n",
       "<tr><td>rmsle</td>\n",
       "<td>0.4199139</td>\n",
       "<td>0.0191806</td>\n",
       "<td>0.3939941</td>\n",
       "<td>0.4434429</td>\n",
       "<td>0.4156436</td>\n",
       "<td>0.3885092</td>\n",
       "<td>0.4579797</td></tr></table></div>"
      ],
      "text/plain": [
       "                        mean         sd           cv_1_valid    cv_2_valid    cv_3_valid    cv_4_valid    cv_5_valid\n",
       "----------------------  -----------  -----------  ------------  ------------  ------------  ------------  ------------\n",
       "mae                     2408.43      88.4418      2345.04       2257.32       2325.77       2570.76       2543.27\n",
       "mean_residual_deviance  2.01113e+07  1.53677e+06  2.20002e+07   1.99896e+07   1.77015e+07   1.7785e+07    2.30803e+07\n",
       "mse                     2.01113e+07  1.53677e+06  2.20002e+07   1.99896e+07   1.77015e+07   1.7785e+07    2.30803e+07\n",
       "r2                      0.862393     0.0118941    0.874398      0.832158      0.87949       0.868593      0.857327\n",
       "residual_deviance       2.01113e+07  1.53677e+06  2.20002e+07   1.99896e+07   1.77015e+07   1.7785e+07    2.30803e+07\n",
       "rmse                    4478.03      171.131      4690.44       4470.98       4207.31       4217.22       4804.19\n",
       "rmsle                   0.419914     0.0191806    0.393994      0.443443      0.415644      0.388509      0.45798"
      ]
     },
     "metadata": {},
     "output_type": "display_data"
    },
    {
     "name": "stdout",
     "output_type": "stream",
     "text": [
      "Scoring History: \n"
     ]
    },
    {
     "data": {
      "text/html": [
       "<div style=\"overflow:auto\"><table style=\"width:50%\"><tr><td><b></b></td>\n",
       "<td><b>timestamp</b></td>\n",
       "<td><b>duration</b></td>\n",
       "<td><b>number_of_trees</b></td>\n",
       "<td><b>training_rmse</b></td>\n",
       "<td><b>training_mae</b></td>\n",
       "<td><b>training_deviance</b></td>\n",
       "<td><b>validation_rmse</b></td>\n",
       "<td><b>validation_mae</b></td>\n",
       "<td><b>validation_deviance</b></td></tr>\n",
       "<tr><td></td>\n",
       "<td>2019-05-12 21:59:35</td>\n",
       "<td> 1.422 sec</td>\n",
       "<td>0.0</td>\n",
       "<td>18177.7211428</td>\n",
       "<td>13492.4995221</td>\n",
       "<td>330429545.9456137</td>\n",
       "<td>16697.6769005</td>\n",
       "<td>12163.5761206</td>\n",
       "<td>278812413.8726478</td></tr>\n",
       "<tr><td></td>\n",
       "<td>2019-05-12 21:59:35</td>\n",
       "<td> 1.431 sec</td>\n",
       "<td>5.0</td>\n",
       "<td>14579.4256104</td>\n",
       "<td>10497.9319757</td>\n",
       "<td>212559651.1282056</td>\n",
       "<td>13398.4643698</td>\n",
       "<td>9425.3058870</td>\n",
       "<td>179518847.4699410</td></tr>\n",
       "<tr><td></td>\n",
       "<td>2019-05-12 21:59:35</td>\n",
       "<td> 1.439 sec</td>\n",
       "<td>10.0</td>\n",
       "<td>11942.2769604</td>\n",
       "<td>8234.4031103</td>\n",
       "<td>142617978.9984459</td>\n",
       "<td>11030.6117069</td>\n",
       "<td>7368.6559398</td>\n",
       "<td>121674394.6281583</td></tr>\n",
       "<tr><td></td>\n",
       "<td>2019-05-12 21:59:35</td>\n",
       "<td> 1.447 sec</td>\n",
       "<td>15.0</td>\n",
       "<td>9717.6807738</td>\n",
       "<td>6484.7448404</td>\n",
       "<td>94433319.6214461</td>\n",
       "<td>9052.2572229</td>\n",
       "<td>5820.9508027</td>\n",
       "<td>81943360.8293773</td></tr>\n",
       "<tr><td></td>\n",
       "<td>2019-05-12 21:59:35</td>\n",
       "<td> 1.456 sec</td>\n",
       "<td>20.0</td>\n",
       "<td>8117.5392479</td>\n",
       "<td>5169.8806839</td>\n",
       "<td>65894443.4415627</td>\n",
       "<td>7665.4044065</td>\n",
       "<td>4664.4176273</td>\n",
       "<td>58758424.7147012</td></tr>\n",
       "<tr><td></td>\n",
       "<td>2019-05-12 21:59:35</td>\n",
       "<td> 1.466 sec</td>\n",
       "<td>25.0</td>\n",
       "<td>6865.8072951</td>\n",
       "<td>4161.0484652</td>\n",
       "<td>47139309.8128403</td>\n",
       "<td>6614.9724333</td>\n",
       "<td>3800.2514955</td>\n",
       "<td>43757860.2927784</td></tr>\n",
       "<tr><td></td>\n",
       "<td>2019-05-12 21:59:35</td>\n",
       "<td> 1.481 sec</td>\n",
       "<td>30.0</td>\n",
       "<td>5948.8822959</td>\n",
       "<td>3410.7915679</td>\n",
       "<td>35389200.5703800</td>\n",
       "<td>5897.5807599</td>\n",
       "<td>3200.7468156</td>\n",
       "<td>34781458.8200404</td></tr>\n",
       "<tr><td></td>\n",
       "<td>2019-05-12 21:59:35</td>\n",
       "<td> 1.500 sec</td>\n",
       "<td>35.0</td>\n",
       "<td>5288.9604867</td>\n",
       "<td>2896.2489824</td>\n",
       "<td>27973103.0296451</td>\n",
       "<td>5390.3569676</td>\n",
       "<td>2804.3424072</td>\n",
       "<td>29055948.2379673</td></tr>\n",
       "<tr><td></td>\n",
       "<td>2019-05-12 21:59:36</td>\n",
       "<td> 1.514 sec</td>\n",
       "<td>40.0</td>\n",
       "<td>4796.1451931</td>\n",
       "<td>2531.2451231</td>\n",
       "<td>23003008.7133036</td>\n",
       "<td>5022.5179617</td>\n",
       "<td>2556.1158884</td>\n",
       "<td>25225686.6755209</td></tr>\n",
       "<tr><td></td>\n",
       "<td>2019-05-12 21:59:36</td>\n",
       "<td> 1.529 sec</td>\n",
       "<td>45.0</td>\n",
       "<td>4414.2117100</td>\n",
       "<td>2286.3931906</td>\n",
       "<td>19485265.0205559</td>\n",
       "<td>4774.3897534</td>\n",
       "<td>2419.3711946</td>\n",
       "<td>22794797.5176634</td></tr>\n",
       "<tr><td></td>\n",
       "<td>2019-05-12 21:59:36</td>\n",
       "<td> 1.545 sec</td>\n",
       "<td>50.0</td>\n",
       "<td>4148.3650874</td>\n",
       "<td>2123.0390827</td>\n",
       "<td>17208932.8981849</td>\n",
       "<td>4621.4413849</td>\n",
       "<td>2360.2153721</td>\n",
       "<td>21357720.4739932</td></tr>\n",
       "<tr><td></td>\n",
       "<td>2019-05-12 21:59:36</td>\n",
       "<td> 1.563 sec</td>\n",
       "<td>55.0</td>\n",
       "<td>3963.3768562</td>\n",
       "<td>2031.7246326</td>\n",
       "<td>15708356.1045320</td>\n",
       "<td>4530.9407970</td>\n",
       "<td>2344.3639836</td>\n",
       "<td>20529424.5055622</td></tr>\n",
       "<tr><td></td>\n",
       "<td>2019-05-12 21:59:36</td>\n",
       "<td> 1.582 sec</td>\n",
       "<td>60.0</td>\n",
       "<td>3831.1800097</td>\n",
       "<td>1961.8170636</td>\n",
       "<td>14677940.2665460</td>\n",
       "<td>4474.3526180</td>\n",
       "<td>2336.3142102</td>\n",
       "<td>20019831.3498321</td></tr>\n",
       "<tr><td></td>\n",
       "<td>2019-05-12 21:59:36</td>\n",
       "<td> 1.601 sec</td>\n",
       "<td>65.0</td>\n",
       "<td>3742.9825247</td>\n",
       "<td>1915.9537052</td>\n",
       "<td>14009918.1799158</td>\n",
       "<td>4446.8808909</td>\n",
       "<td>2357.9399385</td>\n",
       "<td>19774749.6576361</td></tr>\n",
       "<tr><td></td>\n",
       "<td>2019-05-12 21:59:36</td>\n",
       "<td> 1.622 sec</td>\n",
       "<td>70.0</td>\n",
       "<td>3664.5296039</td>\n",
       "<td>1864.5979730</td>\n",
       "<td>13428777.2175097</td>\n",
       "<td>4417.2671283</td>\n",
       "<td>2349.2622760</td>\n",
       "<td>19512248.8826723</td></tr>\n",
       "<tr><td></td>\n",
       "<td>2019-05-12 21:59:36</td>\n",
       "<td> 1.644 sec</td>\n",
       "<td>75.0</td>\n",
       "<td>3586.1556284</td>\n",
       "<td>1841.5868668</td>\n",
       "<td>12860512.1907721</td>\n",
       "<td>4425.9536516</td>\n",
       "<td>2391.4934837</td>\n",
       "<td>19589065.7262839</td></tr>\n",
       "<tr><td></td>\n",
       "<td>2019-05-12 21:59:36</td>\n",
       "<td> 1.667 sec</td>\n",
       "<td>80.0</td>\n",
       "<td>3527.4441381</td>\n",
       "<td>1834.7278744</td>\n",
       "<td>12442862.1470825</td>\n",
       "<td>4421.2696932</td>\n",
       "<td>2438.7534887</td>\n",
       "<td>19547625.7001103</td></tr>\n",
       "<tr><td></td>\n",
       "<td>2019-05-12 21:59:36</td>\n",
       "<td> 1.687 sec</td>\n",
       "<td>81.0</td>\n",
       "<td>3517.0971646</td>\n",
       "<td>1829.3769118</td>\n",
       "<td>12369972.4649025</td>\n",
       "<td>4415.0969055</td>\n",
       "<td>2434.8985572</td>\n",
       "<td>19493080.6850729</td></tr></table></div>"
      ],
      "text/plain": [
       "    timestamp            duration    number_of_trees    training_rmse    training_mae    training_deviance    validation_rmse    validation_mae    validation_deviance\n",
       "--  -------------------  ----------  -----------------  ---------------  --------------  -------------------  -----------------  ----------------  ---------------------\n",
       "    2019-05-12 21:59:35  1.422 sec   0                  18177.7          13492.5         3.3043e+08           16697.7            12163.6           2.78812e+08\n",
       "    2019-05-12 21:59:35  1.431 sec   5                  14579.4          10497.9         2.1256e+08           13398.5            9425.31           1.79519e+08\n",
       "    2019-05-12 21:59:35  1.439 sec   10                 11942.3          8234.4          1.42618e+08          11030.6            7368.66           1.21674e+08\n",
       "    2019-05-12 21:59:35  1.447 sec   15                 9717.68          6484.74         9.44333e+07          9052.26            5820.95           8.19434e+07\n",
       "    2019-05-12 21:59:35  1.456 sec   20                 8117.54          5169.88         6.58944e+07          7665.4             4664.42           5.87584e+07\n",
       "    2019-05-12 21:59:35  1.466 sec   25                 6865.81          4161.05         4.71393e+07          6614.97            3800.25           4.37579e+07\n",
       "    2019-05-12 21:59:35  1.481 sec   30                 5948.88          3410.79         3.53892e+07          5897.58            3200.75           3.47815e+07\n",
       "    2019-05-12 21:59:35  1.500 sec   35                 5288.96          2896.25         2.79731e+07          5390.36            2804.34           2.90559e+07\n",
       "    2019-05-12 21:59:36  1.514 sec   40                 4796.15          2531.25         2.3003e+07           5022.52            2556.12           2.52257e+07\n",
       "    2019-05-12 21:59:36  1.529 sec   45                 4414.21          2286.39         1.94853e+07          4774.39            2419.37           2.27948e+07\n",
       "    2019-05-12 21:59:36  1.545 sec   50                 4148.37          2123.04         1.72089e+07          4621.44            2360.22           2.13577e+07\n",
       "    2019-05-12 21:59:36  1.563 sec   55                 3963.38          2031.72         1.57084e+07          4530.94            2344.36           2.05294e+07\n",
       "    2019-05-12 21:59:36  1.582 sec   60                 3831.18          1961.82         1.46779e+07          4474.35            2336.31           2.00198e+07\n",
       "    2019-05-12 21:59:36  1.601 sec   65                 3742.98          1915.95         1.40099e+07          4446.88            2357.94           1.97747e+07\n",
       "    2019-05-12 21:59:36  1.622 sec   70                 3664.53          1864.6          1.34288e+07          4417.27            2349.26           1.95122e+07\n",
       "    2019-05-12 21:59:36  1.644 sec   75                 3586.16          1841.59         1.28605e+07          4425.95            2391.49           1.95891e+07\n",
       "    2019-05-12 21:59:36  1.667 sec   80                 3527.44          1834.73         1.24429e+07          4421.27            2438.75           1.95476e+07\n",
       "    2019-05-12 21:59:36  1.687 sec   81                 3517.1           1829.38         1.237e+07            4415.1             2434.9            1.94931e+07"
      ]
     },
     "metadata": {},
     "output_type": "display_data"
    },
    {
     "name": "stdout",
     "output_type": "stream",
     "text": [
      "Variable Importances: \n"
     ]
    },
    {
     "data": {
      "text/html": [
       "<div style=\"overflow:auto\"><table style=\"width:50%\"><tr><td><b>variable</b></td>\n",
       "<td><b>relative_importance</b></td>\n",
       "<td><b>scaled_importance</b></td>\n",
       "<td><b>percentage</b></td></tr>\n",
       "<tr><td>smoker.yes</td>\n",
       "<td>292871471104.0000000</td>\n",
       "<td>1.0</td>\n",
       "<td>0.3608626</td></tr>\n",
       "<tr><td>smoker.no</td>\n",
       "<td>250345291776.0000000</td>\n",
       "<td>0.8547958</td>\n",
       "<td>0.3084638</td></tr>\n",
       "<tr><td>bmi</td>\n",
       "<td>149117681664.0000000</td>\n",
       "<td>0.5091574</td>\n",
       "<td>0.1837359</td></tr>\n",
       "<tr><td>age</td>\n",
       "<td>97079910400.0000000</td>\n",
       "<td>0.3314762</td>\n",
       "<td>0.1196174</td></tr>\n",
       "<tr><td>children</td>\n",
       "<td>8583273984.0000000</td>\n",
       "<td>0.0293073</td>\n",
       "<td>0.0105759</td></tr>\n",
       "<tr><td>region.northeast</td>\n",
       "<td>3446181632.0000000</td>\n",
       "<td>0.0117669</td>\n",
       "<td>0.0042462</td></tr>\n",
       "<tr><td>sex.female</td>\n",
       "<td>2542201600.0000000</td>\n",
       "<td>0.0086803</td>\n",
       "<td>0.0031324</td></tr>\n",
       "<tr><td>region.southeast</td>\n",
       "<td>2035579392.0000000</td>\n",
       "<td>0.0069504</td>\n",
       "<td>0.0025081</td></tr>\n",
       "<tr><td>region.southwest</td>\n",
       "<td>1918613504.0000000</td>\n",
       "<td>0.0065510</td>\n",
       "<td>0.0023640</td></tr>\n",
       "<tr><td>region.northwest</td>\n",
       "<td>1885211648.0000000</td>\n",
       "<td>0.0064370</td>\n",
       "<td>0.0023229</td></tr>\n",
       "<tr><td>sex.male</td>\n",
       "<td>1761779712.0000000</td>\n",
       "<td>0.0060155</td>\n",
       "<td>0.0021708</td></tr></table></div>"
      ],
      "text/plain": [
       "variable          relative_importance    scaled_importance    percentage\n",
       "----------------  ---------------------  -------------------  ------------\n",
       "smoker.yes        2.92871e+11            1                    0.360863\n",
       "smoker.no         2.50345e+11            0.854796             0.308464\n",
       "bmi               1.49118e+11            0.509157             0.183736\n",
       "age               9.70799e+10            0.331476             0.119617\n",
       "children          8.58327e+09            0.0293073            0.0105759\n",
       "region.northeast  3.44618e+09            0.0117669            0.00424622\n",
       "sex.female        2.5422e+09             0.00868026           0.00313238\n",
       "region.southeast  2.03558e+09            0.00695042           0.00250815\n",
       "region.southwest  1.91861e+09            0.00655104           0.00236403\n",
       "region.northwest  1.88521e+09            0.00643699           0.00232287\n",
       "sex.male          1.76178e+09            0.00601554           0.00217078"
      ]
     },
     "metadata": {},
     "output_type": "display_data"
    },
    {
     "data": {
      "text/plain": []
     },
     "execution_count": 16,
     "metadata": {},
     "output_type": "execute_result"
    }
   ],
   "source": [
    "autom1_1.leader"
   ]
  },
  {
   "cell_type": "code",
   "execution_count": 17,
   "metadata": {},
   "outputs": [
    {
     "name": "stdout",
     "output_type": "stream",
     "text": [
      "Cross-Validation Metrics Summary: \n"
     ]
    },
    {
     "data": {
      "text/html": [
       "<div style=\"overflow:auto\"><table style=\"width:50%\"><tr><td><b></b></td>\n",
       "<td><b>mean</b></td>\n",
       "<td><b>sd</b></td>\n",
       "<td><b>cv_1_valid</b></td>\n",
       "<td><b>cv_2_valid</b></td>\n",
       "<td><b>cv_3_valid</b></td>\n",
       "<td><b>cv_4_valid</b></td>\n",
       "<td><b>cv_5_valid</b></td></tr>\n",
       "<tr><td>mae</td>\n",
       "<td>2408.4348</td>\n",
       "<td>88.44179</td>\n",
       "<td>2345.043</td>\n",
       "<td>2257.3213</td>\n",
       "<td>2325.7712</td>\n",
       "<td>2570.7644</td>\n",
       "<td>2543.2737</td></tr>\n",
       "<tr><td>mean_residual_deviance</td>\n",
       "<td>20111320.0000000</td>\n",
       "<td>1536773.4</td>\n",
       "<td>22000234.0000000</td>\n",
       "<td>19989642.0000000</td>\n",
       "<td>17701492.0000000</td>\n",
       "<td>17784956.0000000</td>\n",
       "<td>23080272.0000000</td></tr>\n",
       "<tr><td>mse</td>\n",
       "<td>20111320.0000000</td>\n",
       "<td>1536773.4</td>\n",
       "<td>22000234.0000000</td>\n",
       "<td>19989642.0000000</td>\n",
       "<td>17701492.0000000</td>\n",
       "<td>17784956.0000000</td>\n",
       "<td>23080272.0000000</td></tr>\n",
       "<tr><td>r2</td>\n",
       "<td>0.8623933</td>\n",
       "<td>0.0118941</td>\n",
       "<td>0.8743982</td>\n",
       "<td>0.8321578</td>\n",
       "<td>0.8794898</td>\n",
       "<td>0.8685932</td>\n",
       "<td>0.8573273</td></tr>\n",
       "<tr><td>residual_deviance</td>\n",
       "<td>20111320.0000000</td>\n",
       "<td>1536773.4</td>\n",
       "<td>22000234.0000000</td>\n",
       "<td>19989642.0000000</td>\n",
       "<td>17701492.0000000</td>\n",
       "<td>17784956.0000000</td>\n",
       "<td>23080272.0000000</td></tr>\n",
       "<tr><td>rmse</td>\n",
       "<td>4478.0293</td>\n",
       "<td>171.13116</td>\n",
       "<td>4690.441</td>\n",
       "<td>4470.9775</td>\n",
       "<td>4207.314</td>\n",
       "<td>4217.221</td>\n",
       "<td>4804.1934</td></tr>\n",
       "<tr><td>rmsle</td>\n",
       "<td>0.4199139</td>\n",
       "<td>0.0191806</td>\n",
       "<td>0.3939941</td>\n",
       "<td>0.4434429</td>\n",
       "<td>0.4156436</td>\n",
       "<td>0.3885092</td>\n",
       "<td>0.4579797</td></tr></table></div>"
      ],
      "text/plain": [
       "                        mean         sd           cv_1_valid    cv_2_valid    cv_3_valid    cv_4_valid    cv_5_valid\n",
       "----------------------  -----------  -----------  ------------  ------------  ------------  ------------  ------------\n",
       "mae                     2408.43      88.4418      2345.04       2257.32       2325.77       2570.76       2543.27\n",
       "mean_residual_deviance  2.01113e+07  1.53677e+06  2.20002e+07   1.99896e+07   1.77015e+07   1.7785e+07    2.30803e+07\n",
       "mse                     2.01113e+07  1.53677e+06  2.20002e+07   1.99896e+07   1.77015e+07   1.7785e+07    2.30803e+07\n",
       "r2                      0.862393     0.0118941    0.874398      0.832158      0.87949       0.868593      0.857327\n",
       "residual_deviance       2.01113e+07  1.53677e+06  2.20002e+07   1.99896e+07   1.77015e+07   1.7785e+07    2.30803e+07\n",
       "rmse                    4478.03      171.131      4690.44       4470.98       4207.31       4217.22       4804.19\n",
       "rmsle                   0.419914     0.0191806    0.393994      0.443443      0.415644      0.388509      0.45798"
      ]
     },
     "metadata": {},
     "output_type": "display_data"
    },
    {
     "data": {
      "text/plain": []
     },
     "execution_count": 17,
     "metadata": {},
     "output_type": "execute_result"
    }
   ],
   "source": [
    "autom1_1.leader.cross_validation_metrics_summary()"
   ]
  },
  {
   "cell_type": "markdown",
   "metadata": {},
   "source": [
    "## Neural networks using kera and tensorflow"
   ]
  },
  {
   "cell_type": "code",
   "execution_count": 18,
   "metadata": {},
   "outputs": [
    {
     "name": "stderr",
     "output_type": "stream",
     "text": [
      "Using TensorFlow backend.\n",
      "/Users/miaocai/anaconda3/lib/python3.7/site-packages/sklearn/model_selection/_split.py:2179: FutureWarning: From version 0.21, test_size will always complement train_size unless both are specified.\n",
      "  FutureWarning)\n",
      "WARNING:tensorflow:From /Users/miaocai/anaconda3/lib/python3.7/site-packages/tensorflow/python/framework/op_def_library.py:263: colocate_with (from tensorflow.python.framework.ops) is deprecated and will be removed in a future version.\n",
      "Instructions for updating:\n",
      "Colocations handled automatically by placer.\n",
      "WARNING:tensorflow:From /Users/miaocai/anaconda3/lib/python3.7/site-packages/tensorflow/python/ops/math_ops.py:3066: to_int32 (from tensorflow.python.ops.math_ops) is deprecated and will be removed in a future version.\n",
      "Instructions for updating:\n",
      "Use tf.cast instead.\n"
     ]
    },
    {
     "data": {
      "text/plain": [
       "<keras.callbacks.History at 0x1a342d7358>"
      ]
     },
     "execution_count": 18,
     "metadata": {},
     "output_type": "execute_result"
    }
   ],
   "source": [
    "from keras import models\n",
    "from keras import layers\n",
    "from keras import optimizers\n",
    "from sklearn import preprocessing\n",
    "from sklearn.model_selection import train_test_split\n",
    "import matplotlib.pyplot as plt\n",
    "\n",
    "d = pd.read_csv(\"insurance.csv\")\n",
    "col_types = d.dtypes.to_dict()\n",
    "col_types['age'] = 'float64'\n",
    "d = pd.read_csv(\"insurance.csv\", dtype=col_types)\n",
    "\n",
    "d_dummy = pd.get_dummies(d, drop_first = True)\n",
    "y = d_dummy['charges'].values\n",
    "X = d_dummy.drop('charges', axis = 1).values\n",
    "\n",
    "X_train0, X_test0 = train_test_split(\n",
    "    X, train_size = 0.8, random_state = 123)\n",
    "y_train0, y_test0 = train_test_split(\n",
    "    y, train_size = 0.8, random_state = 123)\n",
    "X_train1, X_valid1 = train_test_split(\n",
    "    X, train_size = 0.75, random_state = 123)\n",
    "y_train1, y_valid1 = train_test_split(\n",
    "    y, train_size = 0.75, random_state = 123)\n",
    "\n",
    "# logistic regression\n",
    "def nn_model1():\n",
    "    model = models.Sequential()\n",
    "    model.add(layers.Dense(64, activation = 'relu',\n",
    "                          input_dim = X_train1.shape[1]))\n",
    "    model.add(layers.Dense(1,\n",
    "                          activation = 'linear'))\n",
    "    model.compile(optimizer = 'rmsprop',\n",
    "                 loss = 'mse',\n",
    "                 metrics = ['mae'])\n",
    "    return model\n",
    "\n",
    "reg0 = nn_model1()\n",
    "reg0.fit(X_train1, y_train1, epochs = 200, \n",
    "         validation_data = [X_valid1, y_valid1],\n",
    "        verbose = 0)"
   ]
  },
  {
   "cell_type": "code",
   "execution_count": 35,
   "metadata": {},
   "outputs": [
    {
     "name": "stdout",
     "output_type": "stream",
     "text": [
      "_________________________________________________________________\n",
      "Layer (type)                 Output Shape              Param #   \n",
      "=================================================================\n",
      "dense_1 (Dense)              (None, 64)                576       \n",
      "_________________________________________________________________\n",
      "dense_2 (Dense)              (None, 1)                 65        \n",
      "=================================================================\n",
      "Total params: 641\n",
      "Trainable params: 641\n",
      "Non-trainable params: 0\n",
      "_________________________________________________________________\n"
     ]
    }
   ],
   "source": [
    "reg0.summary()"
   ]
  },
  {
   "cell_type": "code",
   "execution_count": 19,
   "metadata": {},
   "outputs": [
    {
     "data": {
      "text/plain": [
       "125999985.79461615"
      ]
     },
     "execution_count": 19,
     "metadata": {},
     "output_type": "execute_result"
    }
   ],
   "source": [
    "reg0.history.history['loss'][199]"
   ]
  },
  {
   "cell_type": "code",
   "execution_count": 20,
   "metadata": {},
   "outputs": [
    {
     "data": {
      "text/plain": [
       "133231690.3522388"
      ]
     },
     "execution_count": 20,
     "metadata": {},
     "output_type": "execute_result"
    }
   ],
   "source": [
    "reg0.history.history['val_loss'][199]"
   ]
  },
  {
   "cell_type": "code",
   "execution_count": 21,
   "metadata": {
    "scrolled": true
   },
   "outputs": [
    {
     "data": {
      "text/plain": [
       "9078.393216534514"
      ]
     },
     "execution_count": 21,
     "metadata": {},
     "output_type": "execute_result"
    }
   ],
   "source": [
    "reg0.history.history['val_mean_absolute_error'][199]"
   ]
  },
  {
   "cell_type": "code",
   "execution_count": 22,
   "metadata": {},
   "outputs": [
    {
     "data": {
      "text/plain": [
       "[<matplotlib.lines.Line2D at 0x1a34fc2860>]"
      ]
     },
     "execution_count": 22,
     "metadata": {},
     "output_type": "execute_result"
    },
    {
     "data": {
      "image/png": "[encoded data removed]",
      "text/plain": [
       "<Figure size 432x288 with 1 Axes>"
      ]
     },
     "metadata": {
      "needs_background": "light"
     },
     "output_type": "display_data"
    }
   ],
   "source": [
    "plt.plot(reg0.history.history['loss'], color = 'red')\n",
    "plt.plot(reg0.history.history['val_loss'], color = 'blue')"
   ]
  },
  {
   "cell_type": "code",
   "execution_count": 23,
   "metadata": {},
   "outputs": [
    {
     "data": {
      "text/plain": [
       "[<matplotlib.lines.Line2D at 0x1a3502af60>]"
      ]
     },
     "execution_count": 23,
     "metadata": {},
     "output_type": "execute_result"
    },
    {
     "data": {
      "image/png": "[encoded data removed]",
      "text/plain": [
       "<Figure size 432x288 with 1 Axes>"
      ]
     },
     "metadata": {
      "needs_background": "light"
     },
     "output_type": "display_data"
    }
   ],
   "source": [
    "plt.plot(reg0.history.history['mean_absolute_error'], color = 'red')\n",
    "plt.plot(reg0.history.history['val_mean_absolute_error'], color = 'blue')"
   ]
  },
  {
   "cell_type": "code",
   "execution_count": 24,
   "metadata": {},
   "outputs": [
    {
     "name": "stderr",
     "output_type": "stream",
     "text": [
      "WARNING:tensorflow:From /Users/miaocai/anaconda3/lib/python3.7/site-packages/keras/backend/tensorflow_backend.py:3445: calling dropout (from tensorflow.python.ops.nn_ops) with keep_prob is deprecated and will be removed in a future version.\n",
      "Instructions for updating:\n",
      "Please use `rate` instead of `keep_prob`. Rate should be set to `rate = 1 - keep_prob`.\n"
     ]
    },
    {
     "data": {
      "text/plain": [
       "<keras.callbacks.History at 0x1a2341d588>"
      ]
     },
     "execution_count": 24,
     "metadata": {},
     "output_type": "execute_result"
    }
   ],
   "source": [
    "def nn_model2():\n",
    "    model = models.Sequential()\n",
    "    model.add(layers.Dense(64, activation = 'relu',\n",
    "                          input_dim = X_train1.shape[1]))\n",
    "    model.add(layers.Dropout(0.5))\n",
    "    model.add(layers.Dense(64, activation = 'relu'))\n",
    "    model.add(layers.Dropout(0.5))\n",
    "    model.add(layers.Dense(1, activation = 'linear'))\n",
    "    model.compile(optimizer = 'rmsprop',\n",
    "                 loss = 'mse',\n",
    "                 metrics = ['mae'])\n",
    "    return model\n",
    "\n",
    "reg2 = nn_model2()\n",
    "reg2.fit(X_train1, y_train1, epochs = 200, \n",
    "         validation_data = [X_valid1, y_valid1],\n",
    "        verbose = 0)"
   ]
  },
  {
   "cell_type": "code",
   "execution_count": 25,
   "metadata": {},
   "outputs": [
    {
     "data": {
      "text/plain": [
       "[<matplotlib.lines.Line2D at 0x1a35587d30>]"
      ]
     },
     "execution_count": 25,
     "metadata": {},
     "output_type": "execute_result"
    },
    {
     "data": {
      "image/png": "[encoded data removed]",
      "text/plain": [
       "<Figure size 432x288 with 1 Axes>"
      ]
     },
     "metadata": {
      "needs_background": "light"
     },
     "output_type": "display_data"
    }
   ],
   "source": [
    "plt.plot(reg2.history.history['loss'], color = 'red')\n",
    "plt.plot(reg2.history.history['val_loss'], color = 'blue')"
   ]
  },
  {
   "cell_type": "code",
   "execution_count": 26,
   "metadata": {},
   "outputs": [
    {
     "data": {
      "text/plain": [
       "[<matplotlib.lines.Line2D at 0x1a355f3470>]"
      ]
     },
     "execution_count": 26,
     "metadata": {},
     "output_type": "execute_result"
    },
    {
     "data": {
      "image/png": "[encoded data removed]",
      "text/plain": [
       "<Figure size 432x288 with 1 Axes>"
      ]
     },
     "metadata": {
      "needs_background": "light"
     },
     "output_type": "display_data"
    }
   ],
   "source": [
    "plt.plot(reg2.history.history['mean_absolute_error'], color = 'red')\n",
    "plt.plot(reg2.history.history['val_mean_absolute_error'], color = 'blue')"
   ]
  },
  {
   "cell_type": "markdown",
   "metadata": {},
   "source": [
    "### A more complex model with dropout, L1 regularization, smaller weight"
   ]
  },
  {
   "cell_type": "code",
   "execution_count": 27,
   "metadata": {},
   "outputs": [],
   "source": [
    "from keras.regularizers import l1\n",
    "\n",
    "def nn_model3(l1_penalty):\n",
    "    model = models.Sequential()\n",
    "    model.add(layers.Dense(64, activation = 'relu',\n",
    "                           kernel_regularizer = \n",
    "                               l1(l1_penalty),\n",
    "                          input_dim = X_train1.shape[1]))\n",
    "    model.add(layers.Dropout(0.5))\n",
    "    model.add(layers.Dense(64, activation = 'relu', \n",
    "                          kernel_regularizer = l1(l1_penalty)))\n",
    "    model.add(layers.Dropout(0.5))\n",
    "    model.add(layers.Dense(1, activation = 'linear'))\n",
    "    model.compile(optimizer = 'rmsprop',\n",
    "                 loss = 'mse',\n",
    "                 metrics = ['mae'])\n",
    "    return model"
   ]
  },
  {
   "cell_type": "code",
   "execution_count": 36,
   "metadata": {},
   "outputs": [
    {
     "name": "stdout",
     "output_type": "stream",
     "text": [
      "_________________________________________________________________\n",
      "Layer (type)                 Output Shape              Param #   \n",
      "=================================================================\n",
      "dense_15 (Dense)             (None, 64)                576       \n",
      "_________________________________________________________________\n",
      "dropout_9 (Dropout)          (None, 64)                0         \n",
      "_________________________________________________________________\n",
      "dense_16 (Dense)             (None, 64)                4160      \n",
      "_________________________________________________________________\n",
      "dropout_10 (Dropout)         (None, 64)                0         \n",
      "_________________________________________________________________\n",
      "dense_17 (Dense)             (None, 1)                 65        \n",
      "=================================================================\n",
      "Total params: 4,801\n",
      "Trainable params: 4,801\n",
      "Non-trainable params: 0\n",
      "_________________________________________________________________\n"
     ]
    }
   ],
   "source": [
    "reg3 = nn_model3(0.1)\n",
    "reg3.fit(X_train1, y_train1, epochs = 200, \n",
    "         validation_data = [X_valid1, y_valid1],\n",
    "        verbose = 0)\n",
    "reg3.summary()"
   ]
  },
  {
   "cell_type": "code",
   "execution_count": 37,
   "metadata": {},
   "outputs": [
    {
     "data": {
      "text/plain": [
       "[<matplotlib.lines.Line2D at 0x1a39946828>]"
      ]
     },
     "execution_count": 37,
     "metadata": {},
     "output_type": "execute_result"
    },
    {
     "data": {
      "image/png": "[encoded data removed]",
      "text/plain": [
       "<Figure size 432x288 with 1 Axes>"
      ]
     },
     "metadata": {
      "needs_background": "light"
     },
     "output_type": "display_data"
    }
   ],
   "source": [
    "plt.plot(reg3.history.history['loss'], color = 'red')\n",
    "plt.plot(reg3.history.history['val_loss'], color = 'blue')"
   ]
  },
  {
   "cell_type": "code",
   "execution_count": 29,
   "metadata": {},
   "outputs": [
    {
     "data": {
      "text/plain": [
       "[<matplotlib.lines.Line2D at 0x1a35c57860>]"
      ]
     },
     "execution_count": 29,
     "metadata": {},
     "output_type": "execute_result"
    },
    {
     "data": {
      "image/png": "[encoded data removed]",
      "text/plain": [
       "<Figure size 432x288 with 1 Axes>"
      ]
     },
     "metadata": {
      "needs_background": "light"
     },
     "output_type": "display_data"
    }
   ],
   "source": [
    "plt.plot(reg3.history.history['mean_absolute_error'], color = 'red')\n",
    "plt.plot(reg3.history.history['val_mean_absolute_error'], color = 'blue')"
   ]
  },
  {
   "cell_type": "code",
   "execution_count": 30,
   "metadata": {},
   "outputs": [
    {
     "data": {
      "text/plain": [
       "[<matplotlib.lines.Line2D at 0x1a3624e390>]"
      ]
     },
     "execution_count": 30,
     "metadata": {},
     "output_type": "execute_result"
    },
    {
     "data": {
      "image/png": "[encoded data removed]",
      "text/plain": [
       "<Figure size 432x288 with 1 Axes>"
      ]
     },
     "metadata": {
      "needs_background": "light"
     },
     "output_type": "display_data"
    }
   ],
   "source": [
    "reg3 = nn_model3(0.2)\n",
    "reg3.fit(X_train1, y_train1, epochs = 200, \n",
    "         validation_data = [X_valid1, y_valid1],\n",
    "        verbose = 0)\n",
    "plt.plot(reg3.history.history['loss'], color = 'red')\n",
    "plt.plot(reg3.history.history['val_loss'], color = 'blue')"
   ]
  },
  {
   "cell_type": "code",
   "execution_count": 31,
   "metadata": {},
   "outputs": [
    {
     "data": {
      "text/plain": [
       "[<matplotlib.lines.Line2D at 0x1a362afb38>]"
      ]
     },
     "execution_count": 31,
     "metadata": {},
     "output_type": "execute_result"
    },
    {
     "data": {
      "image/png": "[encoded data removed]",
      "text/plain": [
       "<Figure size 432x288 with 1 Axes>"
      ]
     },
     "metadata": {
      "needs_background": "light"
     },
     "output_type": "display_data"
    }
   ],
   "source": [
    "plt.plot(reg3.history.history['mean_absolute_error'], color = 'red')\n",
    "plt.plot(reg3.history.history['val_mean_absolute_error'], color = 'blue')"
   ]
  },
  {
   "cell_type": "code",
   "execution_count": 32,
   "metadata": {},
   "outputs": [
    {
     "data": {
      "text/plain": [
       "[<matplotlib.lines.Line2D at 0x1a3688ef60>]"
      ]
     },
     "execution_count": 32,
     "metadata": {},
     "output_type": "execute_result"
    },
    {
     "data": {
      "image/png": "[encoded data removed]",
      "text/plain": [
       "<Figure size 432x288 with 1 Axes>"
      ]
     },
     "metadata": {
      "needs_background": "light"
     },
     "output_type": "display_data"
    }
   ],
   "source": [
    "reg3 = nn_model3(0.3)\n",
    "reg3.fit(X_train1, y_train1, epochs = 200, \n",
    "         validation_data = [X_valid1, y_valid1],\n",
    "        verbose = 0)\n",
    "plt.plot(reg3.history.history['loss'], color = 'red')\n",
    "plt.plot(reg3.history.history['val_loss'], color = 'blue')"
   ]
  },
  {
   "cell_type": "code",
   "execution_count": 33,
   "metadata": {},
   "outputs": [
    {
     "data": {
      "text/plain": [
       "[<matplotlib.lines.Line2D at 0x1a369588d0>]"
      ]
     },
     "execution_count": 33,
     "metadata": {},
     "output_type": "execute_result"
    },
    {
     "data": {
      "image/png": "[encoded data removed]",
      "text/plain": [
       "<Figure size 432x288 with 1 Axes>"
      ]
     },
     "metadata": {
      "needs_background": "light"
     },
     "output_type": "display_data"
    }
   ],
   "source": [
    "plt.plot(reg3.history.history['mean_absolute_error'], color = 'red')\n",
    "plt.plot(reg3.history.history['val_mean_absolute_error'], color = 'blue')"
   ]
  },
  {
   "cell_type": "markdown",
   "metadata": {},
   "source": [
    "# Conclusion"
   ]
  },
  {
   "cell_type": "markdown",
   "metadata": {},
   "source": [
    "Based on the machine learning and deep learning models used above, I found that using XGBoost provided in `auto-ML` tool provided by `h2o` tends to have the best model prediction performance. With regard to deep learning models, a two-layer neural network with L1 regularization seems to have the best prediction performance."
   ]
  }
 ],
 "metadata": {
  "kernelspec": {
   "display_name": "Python 3",
   "language": "python",
   "name": "python3"
  },
  "language_info": {
   "codemirror_mode": {
    "name": "ipython",
    "version": 3
   },
   "file_extension": ".py",
   "mimetype": "text/x-python",
   "name": "python",
   "nbconvert_exporter": "python",
   "pygments_lexer": "ipython3",
   "version": "3.7.1"
  }
 },
 "nbformat": 4,
 "nbformat_minor": 2
}
