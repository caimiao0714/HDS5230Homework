{
 "cells": [
  {
   "cell_type": "markdown",
   "metadata": {},
   "source": [
    "**HDS 5230 High Performance Computing**\n",
    "\n",
    "**Final Exam - Progamming Part**\n",
    "\n",
    "\n",
    "*Miao Cai*"
   ]
  },
  {
   "cell_type": "markdown",
   "metadata": {},
   "source": [
    "The big goal is to use the provided dataset on health insurance charges to create a model that predicts charges as accurately as possible, based on the patient traits of age, sex, bmi, children, smoker, and region. As you generate this model, you should perform and document initial data quality checks, exploratory data analysis, and all of the models you try to fit.\n",
    "\n",
    "General components:\n",
    "\n",
    "- Brief data summary for EDA summarizing the model input variables\n",
    "\n",
    "- Univariate summary of the model output (cost)\n",
    "\n",
    "- Pick a loss function and explain why you think it is a reasonable choice.\n",
    "\n",
    "- Implement a cross validation scheme. Explain how you did this in your report.\n",
    "\n",
    "- For the machine learning sections, implement at least the following models:\n",
    "\n",
    "    + A few different models using H2O (random forest, gbm, regularized regression, Auto-ML)\n",
    "\n",
    "    + At least 2 different architectures of neural networks using keras and tensorflow, implementing some form of regularization\n",
    "\n",
    "- A summary of the training error versus generalization error to ensure you didn’t overfit the data.\n",
    "\n",
    "- Estimate the generalization error in your final model. Clearly state how you chose to estimate the generalization error, as well as what final expected value is. This is based on your choice of loss function"
   ]
  },
  {
   "cell_type": "markdown",
   "metadata": {},
   "source": [
    "# Introduction\n",
    "\n",
    "The big goal is to use the provided dataset on health insurance charges to create a model that predicts charges as accurately as possible, based on the patient traits of age, sex, bmi, children, smoker, and region. As you generate this model, you should perform and document initial data quality checks, exploratory data analysis, and all of the models you try to fit."
   ]
  },
  {
   "cell_type": "markdown",
   "metadata": {},
   "source": [
    "# Methods summary\n",
    "\n",
    "All the data cleaning, visualization, and modeling were conducted in Python, and this reported was wrote in jupyternotebook. The Python session and package version information is shown below."
   ]
  },
  {
   "cell_type": "code",
   "execution_count": null,
   "metadata": {},
   "outputs": [],
   "source": []
  },
  {
   "cell_type": "code",
   "execution_count": null,
   "metadata": {},
   "outputs": [],
   "source": []
  },
  {
   "cell_type": "code",
   "execution_count": 29,
   "metadata": {},
   "outputs": [
    {
     "name": "stdout",
     "output_type": "stream",
     "text": [
      "3.6.8 |Anaconda, Inc.| (default, Feb 21 2019, 18:30:04) [MSC v.1916 64 bit (AMD64)]\n",
      "Pandas version: 0.24.2\n",
      "Numpy version:1.16.2\n",
      "Seaborn version:0.9.0\n",
      "h2o version:3.24.0.1\n",
      "My working directory:\n",
      "C:\\Users\\miaocai\\Dropbox\\@2018 SPRING HDS5230 High performance computing\\hds5230Homework\\Final exam\n"
     ]
    }
   ],
   "source": [
    "import os\n",
    "import sys\n",
    "import pathlib\n",
    "from tableone import TableOne\n",
    "import pandas as pd\n",
    "import numpy as np\n",
    "import seaborn as sns\n",
    "import h2o\n",
    "from h2o.estimators.glm import H2OGeneralizedLinearEstimator\n",
    "\n",
    "print(sys.version)\n",
    "print(\"Pandas version: {0}\".format(pd.__version__))\n",
    "print(\"Numpy version:{0}\".format(np.__version__))\n",
    "print(\"Seaborn version:{0}\".format(sns.__version__))\n",
    "print(\"h2o version:{0}\".format(h2o.__version__))\n",
    "print(\"My working directory:\\n\" + os.getcwd())"
   ]
  },
  {
   "cell_type": "markdown",
   "metadata": {},
   "source": [
    "### Loss function\n",
    "\n",
    "I pick the loss function as the mean absolute error (MAE). I chose this loss function since the outcome variable charges are highly right-skewed. Using the most commonly used mean square error (MSE) will not be as robust as MAE since the error will be squared, which is strongly influenced by outliers.\n",
    "\n",
    "### Initiate h2o and read data"
   ]
  },
  {
   "cell_type": "code",
   "execution_count": 5,
   "metadata": {},
   "outputs": [
    {
     "name": "stdout",
     "output_type": "stream",
     "text": [
      "Checking whether there is an H2O instance running at http://localhost:54321 ..... not found.\n",
      "Attempting to start a local H2O server...\n",
      "; Java HotSpot(TM) 64-Bit Server VM (build 25.201-b09, mixed mode)\n",
      "  Starting server from C:\\Users\\miaocai\\.conda\\envs\\p36ws\\lib\\site-packages\\h2o\\backend\\bin\\h2o.jar\n",
      "  Ice root: C:\\Users\\miaocai\\AppData\\Local\\Temp\\tmp1s5x382w\n",
      "  JVM stdout: C:\\Users\\miaocai\\AppData\\Local\\Temp\\tmp1s5x382w\\h2o_miaocai_started_from_python.out\n",
      "  JVM stderr: C:\\Users\\miaocai\\AppData\\Local\\Temp\\tmp1s5x382w\\h2o_miaocai_started_from_python.err\n",
      "  Server is running at http://127.0.0.1:54321\n",
      "Connecting to H2O server at http://127.0.0.1:54321 ... successful.\n"
     ]
    },
    {
     "data": {
      "text/html": [
       "<div style=\"overflow:auto\"><table style=\"width:50%\"><tr><td>H2O cluster uptime:</td>\n",
       "<td>02 secs</td></tr>\n",
       "<tr><td>H2O cluster timezone:</td>\n",
       "<td>America/Chicago</td></tr>\n",
       "<tr><td>H2O data parsing timezone:</td>\n",
       "<td>UTC</td></tr>\n",
       "<tr><td>H2O cluster version:</td>\n",
       "<td>3.24.0.1</td></tr>\n",
       "<tr><td>H2O cluster version age:</td>\n",
       "<td>1 month and 8 days </td></tr>\n",
       "<tr><td>H2O cluster name:</td>\n",
       "<td>H2O_from_python_miaocai_xb5oj2</td></tr>\n",
       "<tr><td>H2O cluster total nodes:</td>\n",
       "<td>1</td></tr>\n",
       "<tr><td>H2O cluster free memory:</td>\n",
       "<td>1.778 Gb</td></tr>\n",
       "<tr><td>H2O cluster total cores:</td>\n",
       "<td>4</td></tr>\n",
       "<tr><td>H2O cluster allowed cores:</td>\n",
       "<td>4</td></tr>\n",
       "<tr><td>H2O cluster status:</td>\n",
       "<td>accepting new members, healthy</td></tr>\n",
       "<tr><td>H2O connection url:</td>\n",
       "<td>http://127.0.0.1:54321</td></tr>\n",
       "<tr><td>H2O connection proxy:</td>\n",
       "<td>None</td></tr>\n",
       "<tr><td>H2O internal security:</td>\n",
       "<td>False</td></tr>\n",
       "<tr><td>H2O API Extensions:</td>\n",
       "<td>Amazon S3, Algos, AutoML, Core V3, Core V4</td></tr>\n",
       "<tr><td>Python version:</td>\n",
       "<td>3.6.8 final</td></tr></table></div>"
      ],
      "text/plain": [
       "--------------------------  ------------------------------------------\n",
       "H2O cluster uptime:         02 secs\n",
       "H2O cluster timezone:       America/Chicago\n",
       "H2O data parsing timezone:  UTC\n",
       "H2O cluster version:        3.24.0.1\n",
       "H2O cluster version age:    1 month and 8 days\n",
       "H2O cluster name:           H2O_from_python_miaocai_xb5oj2\n",
       "H2O cluster total nodes:    1\n",
       "H2O cluster free memory:    1.778 Gb\n",
       "H2O cluster total cores:    4\n",
       "H2O cluster allowed cores:  4\n",
       "H2O cluster status:         accepting new members, healthy\n",
       "H2O connection url:         http://127.0.0.1:54321\n",
       "H2O connection proxy:\n",
       "H2O internal security:      False\n",
       "H2O API Extensions:         Amazon S3, Algos, AutoML, Core V3, Core V4\n",
       "Python version:             3.6.8 final\n",
       "--------------------------  ------------------------------------------"
      ]
     },
     "metadata": {},
     "output_type": "display_data"
    }
   ],
   "source": [
    "h2o.init(ip='localhost', port=54321, nthreads=-1, max_mem_size='2G')"
   ]
  },
  {
   "cell_type": "code",
   "execution_count": 25,
   "metadata": {},
   "outputs": [
    {
     "name": "stdout",
     "output_type": "stream",
     "text": [
      "Parse progress: |█████████████████████████████████████████████████████████| 100%\n"
     ]
    },
    {
     "data": {
      "text/html": [
       "<table>\n",
       "<thead>\n",
       "<tr><th style=\"text-align: right;\">  age</th><th>sex   </th><th style=\"text-align: right;\">   bmi</th><th style=\"text-align: right;\">  children</th><th>smoker  </th><th>region   </th><th style=\"text-align: right;\">  charges</th></tr>\n",
       "</thead>\n",
       "<tbody>\n",
       "<tr><td style=\"text-align: right;\">   19</td><td>female</td><td style=\"text-align: right;\">27.9  </td><td style=\"text-align: right;\">         0</td><td>yes     </td><td>southwest</td><td style=\"text-align: right;\"> 16884.9 </td></tr>\n",
       "<tr><td style=\"text-align: right;\">   18</td><td>male  </td><td style=\"text-align: right;\">33.77 </td><td style=\"text-align: right;\">         1</td><td>no      </td><td>southeast</td><td style=\"text-align: right;\">  1725.55</td></tr>\n",
       "<tr><td style=\"text-align: right;\">   28</td><td>male  </td><td style=\"text-align: right;\">33    </td><td style=\"text-align: right;\">         3</td><td>no      </td><td>southeast</td><td style=\"text-align: right;\">  4449.46</td></tr>\n",
       "<tr><td style=\"text-align: right;\">   33</td><td>male  </td><td style=\"text-align: right;\">22.705</td><td style=\"text-align: right;\">         0</td><td>no      </td><td>northwest</td><td style=\"text-align: right;\"> 21984.5 </td></tr>\n",
       "<tr><td style=\"text-align: right;\">   32</td><td>male  </td><td style=\"text-align: right;\">28.88 </td><td style=\"text-align: right;\">         0</td><td>no      </td><td>northwest</td><td style=\"text-align: right;\">  3866.86</td></tr>\n",
       "<tr><td style=\"text-align: right;\">   31</td><td>female</td><td style=\"text-align: right;\">25.74 </td><td style=\"text-align: right;\">         0</td><td>no      </td><td>southeast</td><td style=\"text-align: right;\">  3756.62</td></tr>\n",
       "<tr><td style=\"text-align: right;\">   46</td><td>female</td><td style=\"text-align: right;\">33.44 </td><td style=\"text-align: right;\">         1</td><td>no      </td><td>southeast</td><td style=\"text-align: right;\">  8240.59</td></tr>\n",
       "<tr><td style=\"text-align: right;\">   37</td><td>female</td><td style=\"text-align: right;\">27.74 </td><td style=\"text-align: right;\">         3</td><td>no      </td><td>northwest</td><td style=\"text-align: right;\">  7281.51</td></tr>\n",
       "<tr><td style=\"text-align: right;\">   37</td><td>male  </td><td style=\"text-align: right;\">29.83 </td><td style=\"text-align: right;\">         2</td><td>no      </td><td>northeast</td><td style=\"text-align: right;\">  6406.41</td></tr>\n",
       "<tr><td style=\"text-align: right;\">   60</td><td>female</td><td style=\"text-align: right;\">25.84 </td><td style=\"text-align: right;\">         0</td><td>no      </td><td>northwest</td><td style=\"text-align: right;\"> 28923.1 </td></tr>\n",
       "</tbody>\n",
       "</table>"
      ]
     },
     "metadata": {},
     "output_type": "display_data"
    },
    {
     "data": {
      "text/plain": []
     },
     "execution_count": 25,
     "metadata": {},
     "output_type": "execute_result"
    }
   ],
   "source": [
    "d0 = h2o.import_file(\"insurance.csv\")\n",
    "d0"
   ]
  },
  {
   "cell_type": "code",
   "execution_count": 26,
   "metadata": {},
   "outputs": [
    {
     "name": "stdout",
     "output_type": "stream",
     "text": [
      "The shape of the DataFrame is:\n",
      "(1338, 7)\n"
     ]
    },
    {
     "data": {
      "text/plain": [
       "[(0.0, 'age'),\n",
       " (0.0, 'sex'),\n",
       " (0.0, 'bmi'),\n",
       " (0.0, 'children'),\n",
       " (0.0, 'smoker'),\n",
       " (0.0, 'region'),\n",
       " (0.0, 'charges')]"
      ]
     },
     "execution_count": 26,
     "metadata": {},
     "output_type": "execute_result"
    }
   ],
   "source": [
    "print(\"The shape of the DataFrame is:\")\n",
    "print(d0.shape)\n",
    "list(zip(d0.nacnt(), d0.names))"
   ]
  },
  {
   "cell_type": "markdown",
   "metadata": {},
   "source": [
    "After reading the .csv file by using h2o, I found that there are no missing values in the data, which is great! "
   ]
  },
  {
   "cell_type": "markdown",
   "metadata": {},
   "source": [
    "### Split into train/validation/testing splits\n",
    "\n",
    "We then need to convert some categorical variables into factors, and split the data into train, test, and validation sets."
   ]
  },
  {
   "cell_type": "code",
   "execution_count": 27,
   "metadata": {},
   "outputs": [],
   "source": [
    "d0[['sex', 'smoker', 'region']] = d0[['sex', 'smoker', 'region']].asfactor()\n",
    "dtrain, dtest, dvalid = \\\n",
    "    d0.split_frame([0.7, 0.15], seed = 666)"
   ]
  },
  {
   "cell_type": "markdown",
   "metadata": {},
   "source": [
    "# Results\n",
    "\n",
    "## Summary statistics of model input variables"
   ]
  },
  {
   "cell_type": "code",
   "execution_count": 16,
   "metadata": {},
   "outputs": [
    {
     "data": {
      "text/html": [
       "<div>\n",
       "<style scoped>\n",
       "    .dataframe tbody tr th:only-of-type {\n",
       "        vertical-align: middle;\n",
       "    }\n",
       "\n",
       "    .dataframe tbody tr th {\n",
       "        vertical-align: top;\n",
       "    }\n",
       "\n",
       "    .dataframe thead tr th {\n",
       "        text-align: left;\n",
       "    }\n",
       "\n",
       "    .dataframe thead tr:last-of-type th {\n",
       "        text-align: right;\n",
       "    }\n",
       "</style>\n",
       "<table border=\"1\" class=\"dataframe\">\n",
       "  <thead>\n",
       "    <tr>\n",
       "      <th></th>\n",
       "      <th></th>\n",
       "      <th colspan=\"5\" halign=\"left\">Grouped by sex</th>\n",
       "    </tr>\n",
       "    <tr>\n",
       "      <th></th>\n",
       "      <th></th>\n",
       "      <th>isnull</th>\n",
       "      <th>female</th>\n",
       "      <th>male</th>\n",
       "      <th>pval</th>\n",
       "      <th>ptest</th>\n",
       "    </tr>\n",
       "    <tr>\n",
       "      <th>variable</th>\n",
       "      <th>level</th>\n",
       "      <th></th>\n",
       "      <th></th>\n",
       "      <th></th>\n",
       "      <th></th>\n",
       "      <th></th>\n",
       "    </tr>\n",
       "  </thead>\n",
       "  <tbody>\n",
       "    <tr>\n",
       "      <th>n</th>\n",
       "      <th></th>\n",
       "      <td></td>\n",
       "      <td>662</td>\n",
       "      <td>676</td>\n",
       "      <td></td>\n",
       "      <td></td>\n",
       "    </tr>\n",
       "    <tr>\n",
       "      <th>age, mean (SD)</th>\n",
       "      <th></th>\n",
       "      <td>0</td>\n",
       "      <td>39.5 (14.1)</td>\n",
       "      <td>38.9 (14.1)</td>\n",
       "      <td>0.446</td>\n",
       "      <td>Two Sample T-test</td>\n",
       "    </tr>\n",
       "    <tr>\n",
       "      <th>bmi, mean (SD)</th>\n",
       "      <th></th>\n",
       "      <td>0</td>\n",
       "      <td>30.4 (6.0)</td>\n",
       "      <td>30.9 (6.1)</td>\n",
       "      <td>0.090</td>\n",
       "      <td>Two Sample T-test</td>\n",
       "    </tr>\n",
       "    <tr>\n",
       "      <th rowspan=\"6\" valign=\"top\">children, n (%)</th>\n",
       "      <th>0</th>\n",
       "      <td>0</td>\n",
       "      <td>289 (43.7)</td>\n",
       "      <td>285 (42.2)</td>\n",
       "      <td>0.981</td>\n",
       "      <td>Chi-squared</td>\n",
       "    </tr>\n",
       "    <tr>\n",
       "      <th>1</th>\n",
       "      <td></td>\n",
       "      <td>158 (23.9)</td>\n",
       "      <td>166 (24.6)</td>\n",
       "      <td></td>\n",
       "      <td></td>\n",
       "    </tr>\n",
       "    <tr>\n",
       "      <th>2</th>\n",
       "      <td></td>\n",
       "      <td>119 (18.0)</td>\n",
       "      <td>121 (17.9)</td>\n",
       "      <td></td>\n",
       "      <td></td>\n",
       "    </tr>\n",
       "    <tr>\n",
       "      <th>3</th>\n",
       "      <td></td>\n",
       "      <td>77 (11.6)</td>\n",
       "      <td>80 (11.8)</td>\n",
       "      <td></td>\n",
       "      <td></td>\n",
       "    </tr>\n",
       "    <tr>\n",
       "      <th>4</th>\n",
       "      <td></td>\n",
       "      <td>11 (1.7)</td>\n",
       "      <td>14 (2.1)</td>\n",
       "      <td></td>\n",
       "      <td></td>\n",
       "    </tr>\n",
       "    <tr>\n",
       "      <th>5</th>\n",
       "      <td></td>\n",
       "      <td>8 (1.2)</td>\n",
       "      <td>10 (1.5)</td>\n",
       "      <td></td>\n",
       "      <td></td>\n",
       "    </tr>\n",
       "    <tr>\n",
       "      <th rowspan=\"2\" valign=\"top\">smoker, n (%)</th>\n",
       "      <th>no</th>\n",
       "      <td>0</td>\n",
       "      <td>547 (82.6)</td>\n",
       "      <td>517 (76.5)</td>\n",
       "      <td>0.007</td>\n",
       "      <td>Chi-squared</td>\n",
       "    </tr>\n",
       "    <tr>\n",
       "      <th>yes</th>\n",
       "      <td></td>\n",
       "      <td>115 (17.4)</td>\n",
       "      <td>159 (23.5)</td>\n",
       "      <td></td>\n",
       "      <td></td>\n",
       "    </tr>\n",
       "    <tr>\n",
       "      <th rowspan=\"4\" valign=\"top\">region, n (%)</th>\n",
       "      <th>northeast</th>\n",
       "      <td>0</td>\n",
       "      <td>161 (24.3)</td>\n",
       "      <td>163 (24.1)</td>\n",
       "      <td>0.933</td>\n",
       "      <td>Chi-squared</td>\n",
       "    </tr>\n",
       "    <tr>\n",
       "      <th>northwest</th>\n",
       "      <td></td>\n",
       "      <td>164 (24.8)</td>\n",
       "      <td>161 (23.8)</td>\n",
       "      <td></td>\n",
       "      <td></td>\n",
       "    </tr>\n",
       "    <tr>\n",
       "      <th>southeast</th>\n",
       "      <td></td>\n",
       "      <td>175 (26.4)</td>\n",
       "      <td>189 (28.0)</td>\n",
       "      <td></td>\n",
       "      <td></td>\n",
       "    </tr>\n",
       "    <tr>\n",
       "      <th>southwest</th>\n",
       "      <td></td>\n",
       "      <td>162 (24.5)</td>\n",
       "      <td>163 (24.1)</td>\n",
       "      <td></td>\n",
       "      <td></td>\n",
       "    </tr>\n",
       "  </tbody>\n",
       "</table>\n",
       "</div><br />[1] Warning, Hartigan's Dip Test reports possible multimodal distributions for: age.<br />[2] Warning, test for normality reports non-normal distributions for: age.<br />"
      ],
      "text/plain": [
       "                          Grouped by sex                                                    \n",
       "                                  isnull       female         male   pval              ptest\n",
       "variable        level                                                                       \n",
       "n                                                 662          676                          \n",
       "age, mean (SD)                         0  39.5 (14.1)  38.9 (14.1)  0.446  Two Sample T-test\n",
       "bmi, mean (SD)                         0   30.4 (6.0)   30.9 (6.1)  0.090  Two Sample T-test\n",
       "children, n (%) 0                      0   289 (43.7)   285 (42.2)  0.981        Chi-squared\n",
       "                1                          158 (23.9)   166 (24.6)                          \n",
       "                2                          119 (18.0)   121 (17.9)                          \n",
       "                3                           77 (11.6)    80 (11.8)                          \n",
       "                4                            11 (1.7)     14 (2.1)                          \n",
       "                5                             8 (1.2)     10 (1.5)                          \n",
       "smoker, n (%)   no                     0   547 (82.6)   517 (76.5)  0.007        Chi-squared\n",
       "                yes                        115 (17.4)   159 (23.5)                          \n",
       "region, n (%)   northeast              0   161 (24.3)   163 (24.1)  0.933        Chi-squared\n",
       "                northwest                  164 (24.8)   161 (23.8)                          \n",
       "                southeast                  175 (26.4)   189 (28.0)                          \n",
       "                southwest                  162 (24.5)   163 (24.1)                          \n",
       "[1] Warning, Hartigan's Dip Test reports possible multimodal distributions for: age.\n",
       "[2] Warning, test for normality reports non-normal distributions for: age."
      ]
     },
     "execution_count": 16,
     "metadata": {},
     "output_type": "execute_result"
    }
   ],
   "source": [
    "d = pd.read_csv(\"insurance.csv\")\n",
    "col_types = d.dtypes.to_dict()\n",
    "col_types['age'] = 'float64'\n",
    "d = pd.read_csv(\"insurance.csv\", dtype=col_types)\n",
    "\n",
    "overall_table = TableOne(\n",
    "    d, columns = ['age', 'bmi', 'children', 'smoker', 'region'], \n",
    "    categorical = ['children', 'smoker', 'region'], \n",
    "    groupby = 'sex', label_suffix=True, pval = True)\n",
    "overall_table"
   ]
  },
  {
   "cell_type": "markdown",
   "metadata": {},
   "source": [
    "## Descriptive analysis of the outcome variable charges"
   ]
  },
  {
   "cell_type": "code",
   "execution_count": 70,
   "metadata": {},
   "outputs": [
    {
     "data": {
      "text/plain": [
       "<matplotlib.axes._subplots.AxesSubplot at 0x1a20e62390>"
      ]
     },
     "execution_count": 70,
     "metadata": {},
     "output_type": "execute_result"
    },
    {
     "data": {
      "image/png": "[encoded data removed]",
      "text/plain": [
       "<Figure size 432x288 with 1 Axes>"
      ]
     },
     "metadata": {
      "needs_background": "light"
     },
     "output_type": "display_data"
    }
   ],
   "source": [
    "sns.distplot(d['charges'], hist=True, kde=True, \n",
    "             bins=int(180/5), color = 'skyblue', \n",
    "             hist_kws={'edgecolor':'grey'},\n",
    "             kde_kws={'linewidth': 2})"
   ]
  },
  {
   "cell_type": "code",
   "execution_count": 72,
   "metadata": {},
   "outputs": [
    {
     "data": {
      "text/plain": [
       "<matplotlib.axes._subplots.AxesSubplot at 0x1a20ef2908>"
      ]
     },
     "execution_count": 72,
     "metadata": {},
     "output_type": "execute_result"
    },
    {
     "data": {
      "image/png": "[encoded data removed]",
      "text/plain": [
       "<Figure size 432x288 with 1 Axes>"
      ]
     },
     "metadata": {
      "needs_background": "light"
     },
     "output_type": "display_data"
    }
   ],
   "source": [
    "sns.boxplot(d['charges'], color = 'skyblue')"
   ]
  },
  {
   "cell_type": "code",
   "execution_count": 74,
   "metadata": {},
   "outputs": [
    {
     "data": {
      "text/plain": [
       "count    1338.00\n",
       "mean    13270.42\n",
       "std     12110.01\n",
       "min      1121.87\n",
       "25%      4740.29\n",
       "50%      9382.03\n",
       "75%     16639.91\n",
       "max     63770.43\n",
       "Name: charges, dtype: float64"
      ]
     },
     "execution_count": 74,
     "metadata": {},
     "output_type": "execute_result"
    }
   ],
   "source": [
    "d['charges'].describe()"
   ]
  },
  {
   "cell_type": "markdown",
   "metadata": {},
   "source": [
    "## Cross-validation\n",
    "\n",
    "Here I use the `H2OGeneralizedLinearEstimator` module in `h2o` package to perform cross-validation. I set the number of cross-validation as 5 by `nfolds=5`, in which 6 models will be built. The first 5 models (cross-validation models) are built on 80% of the training data, and a different 20% is held out for each of the 5 models. Then the main model is built on 100% of the training data."
   ]
  },
  {
   "cell_type": "code",
   "execution_count": 38,
   "metadata": {
    "scrolled": true
   },
   "outputs": [
    {
     "name": "stdout",
     "output_type": "stream",
     "text": [
      "glm Model Build progress: |███████████████████████████████████████████████| 100%\n",
      "Model Details\n",
      "=============\n",
      "H2OGeneralizedLinearEstimator :  Generalized Linear Modeling\n",
      "Model Key:  d_glm_0\n",
      "\n",
      "\n",
      "ModelMetricsRegressionGLM: glm\n",
      "** Reported on train data. **\n",
      "\n",
      "MSE: 125728309.44330035\n",
      "RMSE: 11212.863570172445\n",
      "MAE: 8471.397911142334\n",
      "RMSLE: 0.9331157151413909\n",
      "R^2: 0.14203674139265943\n",
      "Mean Residual Deviance: 125728309.44330035\n",
      "Null degrees of freedom: 1337\n",
      "Residual degrees of freedom: 1326\n",
      "Null deviance: 196074221532.74988\n",
      "Residual deviance: 168224478035.13586\n",
      "AIC: 28776.289622947068\n",
      "\n",
      "ModelMetricsRegressionGLM: glm\n",
      "** Reported on cross-validation data. **\n",
      "\n",
      "MSE: 129830749.84711617\n",
      "RMSE: 11394.32972346843\n",
      "MAE: 8600.97548619905\n",
      "RMSLE: 0.9464119017196216\n",
      "R^2: 0.11404190751089327\n",
      "Mean Residual Deviance: 129830749.84711617\n",
      "Null degrees of freedom: 1337\n",
      "Residual degrees of freedom: 1326\n",
      "Null deviance: 196632689167.88873\n",
      "Residual deviance: 173713543295.44144\n",
      "AIC: 28819.25062652632\n",
      "Cross-Validation Metrics Summary: \n"
     ]
    },
    {
     "data": {
      "text/html": [
       "<div style=\"overflow:auto\"><table style=\"width:50%\"><tr><td><b></b></td>\n",
       "<td><b>mean</b></td>\n",
       "<td><b>sd</b></td>\n",
       "<td><b>cv_1_valid</b></td>\n",
       "<td><b>cv_2_valid</b></td>\n",
       "<td><b>cv_3_valid</b></td>\n",
       "<td><b>cv_4_valid</b></td>\n",
       "<td><b>cv_5_valid</b></td></tr>\n",
       "<tr><td>mae</td>\n",
       "<td>8592.547</td>\n",
       "<td>295.31107</td>\n",
       "<td>8582.3125</td>\n",
       "<td>7818.5264</td>\n",
       "<td>8785.108</td>\n",
       "<td>8714.119</td>\n",
       "<td>9062.668</td></tr>\n",
       "<tr><td>mean_residual_deviance</td>\n",
       "<td>129275808.0000000</td>\n",
       "<td>12568459.0000000</td>\n",
       "<td>122953088.0000000</td>\n",
       "<td>102175632.0000000</td>\n",
       "<td>153850944.0000000</td>\n",
       "<td>124694504.0000000</td>\n",
       "<td>142704864.0000000</td></tr>\n",
       "<tr><td>mse</td>\n",
       "<td>129275808.0000000</td>\n",
       "<td>12568459.0000000</td>\n",
       "<td>122953088.0000000</td>\n",
       "<td>102175632.0000000</td>\n",
       "<td>153850944.0000000</td>\n",
       "<td>124694504.0000000</td>\n",
       "<td>142704864.0000000</td></tr>\n",
       "<tr><td>null_deviance</td>\n",
       "<td>39326540000.0000000</td>\n",
       "<td>4538068000.0000000</td>\n",
       "<td>37283930000.0000000</td>\n",
       "<td>29694271500.0000000</td>\n",
       "<td>49030697000.0000000</td>\n",
       "<td>37774651000.0000000</td>\n",
       "<td>42849141000.0000000</td></tr>\n",
       "<tr><td>r2</td>\n",
       "<td>0.1105586</td>\n",
       "<td>0.0058998</td>\n",
       "<td>0.1174623</td>\n",
       "<td>0.1147653</td>\n",
       "<td>0.1004910</td>\n",
       "<td>0.1195456</td>\n",
       "<td>0.1005287</td></tr>\n",
       "<tr><td>residual_deviance</td>\n",
       "<td>34742710000.0000000</td>\n",
       "<td>4171281920.0000000</td>\n",
       "<td>32705521700.0000000</td>\n",
       "<td>26156961800.0000000</td>\n",
       "<td>43847520000.0000000</td>\n",
       "<td>33044043800.0000000</td>\n",
       "<td>37959496000.0000000</td></tr>\n",
       "<tr><td>rmse</td>\n",
       "<td>11342.573</td>\n",
       "<td>557.5985</td>\n",
       "<td>11088.422</td>\n",
       "<td>10108.196</td>\n",
       "<td>12403.667</td>\n",
       "<td>11166.67</td>\n",
       "<td>11945.914</td></tr>\n",
       "<tr><td>rmsle</td>\n",
       "<td>0.9458453</td>\n",
       "<td>0.0343231</td>\n",
       "<td>0.9813831</td>\n",
       "<td>0.9140743</td>\n",
       "<td>0.8841538</td>\n",
       "<td>1.0196682</td>\n",
       "<td>0.9299473</td></tr></table></div>"
      ],
      "text/plain": [
       "                        mean         sd           cv_1_valid    cv_2_valid    cv_3_valid    cv_4_valid    cv_5_valid\n",
       "----------------------  -----------  -----------  ------------  ------------  ------------  ------------  ------------\n",
       "mae                     8592.55      295.311      8582.31       7818.53       8785.11       8714.12       9062.67\n",
       "mean_residual_deviance  1.29276e+08  1.25685e+07  1.22953e+08   1.02176e+08   1.53851e+08   1.24695e+08   1.42705e+08\n",
       "mse                     1.29276e+08  1.25685e+07  1.22953e+08   1.02176e+08   1.53851e+08   1.24695e+08   1.42705e+08\n",
       "null_deviance           3.93265e+10  4.53807e+09  3.72839e+10   2.96943e+10   4.90307e+10   3.77747e+10   4.28491e+10\n",
       "r2                      0.110559     0.00589982   0.117462      0.114765      0.100491      0.119546      0.100529\n",
       "residual_deviance       3.47427e+10  4.17128e+09  3.27055e+10   2.6157e+10    4.38475e+10   3.3044e+10    3.79595e+10\n",
       "rmse                    11342.6      557.598      11088.4       10108.2       12403.7       11166.7       11945.9\n",
       "rmsle                   0.945845     0.0343231    0.981383      0.914074      0.884154      1.01967       0.929947"
      ]
     },
     "metadata": {},
     "output_type": "display_data"
    },
    {
     "name": "stdout",
     "output_type": "stream",
     "text": [
      "Scoring History: \n"
     ]
    },
    {
     "data": {
      "text/html": [
       "<div style=\"overflow:auto\"><table style=\"width:50%\"><tr><td><b></b></td>\n",
       "<td><b>timestamp</b></td>\n",
       "<td><b>duration</b></td>\n",
       "<td><b>iterations</b></td>\n",
       "<td><b>negative_log_likelihood</b></td>\n",
       "<td><b>objective</b></td></tr>\n",
       "<tr><td></td>\n",
       "<td>2019-05-09 23:32:00</td>\n",
       "<td> 0.000 sec</td>\n",
       "<td>0</td>\n",
       "<td>196074221568.3671875</td>\n",
       "<td>146542766.4935480</td></tr></table></div>"
      ],
      "text/plain": [
       "    timestamp            duration    iterations    negative_log_likelihood    objective\n",
       "--  -------------------  ----------  ------------  -------------------------  -----------\n",
       "    2019-05-09 23:32:00  0.000 sec   0             1.96074e+11                1.46543e+08"
      ]
     },
     "metadata": {},
     "output_type": "display_data"
    }
   ],
   "source": [
    "target_var = 'charges'\n",
    "input_var = ['age', 'sex', 'bmi', \n",
    "             'children', 'smoker', 'region']\n",
    "glm_mod0 = \\\n",
    "    H2OGeneralizedLinearEstimator(model_id = 'd_glm_0',\n",
    "                                  family = 'gaussian',\n",
    "                                  nfolds = 5,\n",
    "                                  seed = 123)\n",
    "glm_mod0.train(x = input_var, \n",
    "               y = target_var, \n",
    "               training_frame = d0)\n",
    "glm_mod0.show()"
   ]
  },
  {
   "cell_type": "markdown",
   "metadata": {},
   "source": [
    "## Machine learning\n",
    "\n",
    "### Gradient boost machine\n",
    "\n",
    "\n",
    "### Regularized regression\n",
    "\n",
    "\n"
   ]
  },
  {
   "cell_type": "markdown",
   "metadata": {},
   "source": [
    "# Conclusion"
   ]
  },
  {
   "cell_type": "code",
   "execution_count": null,
   "metadata": {},
   "outputs": [],
   "source": []
  }
 ],
 "metadata": {
  "kernelspec": {
   "display_name": "p36ws",
   "language": "python",
   "name": "p36ws"
  },
  "language_info": {
   "codemirror_mode": {
    "name": "ipython",
    "version": 3
   },
   "file_extension": ".py",
   "mimetype": "text/x-python",
   "name": "python",
   "nbconvert_exporter": "python",
   "pygments_lexer": "ipython3",
   "version": "3.6.8"
  }
 },
 "nbformat": 4,
 "nbformat_minor": 2
}
