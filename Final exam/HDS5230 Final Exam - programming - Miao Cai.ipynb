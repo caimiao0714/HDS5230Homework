{
 "cells": [
  {
   "cell_type": "markdown",
   "metadata": {},
   "source": [
    "# HDS 5230 High Performance Computing\n",
    "\n",
    "## Final Exam - Progamming Part\n",
    "\n",
    "\n",
    "*Miao Cai* <miao.cai@slu.edu>"
   ]
  },
  {
   "cell_type": "markdown",
   "metadata": {},
   "source": [
    "# Introduction\n",
    "\n",
    "The big goal is to use the provided dataset on health insurance charges to create a model that predicts charges as accurately as possible, based on the patient traits of age, sex, bmi, children, smoker, and region. As you generate this model, you should perform and document initial data quality checks, exploratory data analysis, and all of the models you try to fit."
   ]
  },
  {
   "cell_type": "markdown",
   "metadata": {},
   "source": [
    "# Methods summary\n",
    "\n",
    "All the data cleaning, visualization, and modeling were conducted in Python, and this reported was wrote in jupyternotebook. The Python session and package version information is shown below."
   ]
  },
  {
   "cell_type": "code",
   "execution_count": 1,
   "metadata": {},
   "outputs": [
    {
     "name": "stdout",
     "output_type": "stream",
     "text": [
      "3.7.1 (default, Dec 14 2018, 13:28:58) \n",
      "[Clang 4.0.1 (tags/RELEASE_401/final)]\n",
      "Pandas version: 0.23.4\n",
      "Numpy version:1.15.4\n",
      "Seaborn version:0.9.0\n",
      "h2o version:3.22.1.3\n",
      "My working directory:\n",
      "/Users/miaocai/Dropbox/@2018 SPRING HDS5230 High performance computing/HDS5230Homework/Final exam\n"
     ]
    }
   ],
   "source": [
    "import os\n",
    "import sys\n",
    "import pathlib\n",
    "from tableone import TableOne\n",
    "import pandas as pd\n",
    "import numpy as np\n",
    "import seaborn as sns\n",
    "import h2o\n",
    "from h2o.estimators.glm import H2OGeneralizedLinearEstimator\n",
    "\n",
    "print(sys.version)\n",
    "print(\"Pandas version: {0}\".format(pd.__version__))\n",
    "print(\"Numpy version:{0}\".format(np.__version__))\n",
    "print(\"Seaborn version:{0}\".format(sns.__version__))\n",
    "print(\"h2o version:{0}\".format(h2o.__version__))\n",
    "print(\"My working directory:\\n\" + os.getcwd())"
   ]
  },
  {
   "cell_type": "markdown",
   "metadata": {},
   "source": [
    "### Loss function\n",
    "\n",
    "I pick the loss function as the mean absolute error (MAE). I chose this loss function since the outcome variable charges are highly right-skewed. Using the most commonly used mean square error (MSE) will not be as robust as MAE since the error will be squared, which is strongly influenced by outliers.\n",
    "\n",
    "### Initiate h2o and read data"
   ]
  },
  {
   "cell_type": "code",
   "execution_count": 2,
   "metadata": {},
   "outputs": [
    {
     "name": "stdout",
     "output_type": "stream",
     "text": [
      "Checking whether there is an H2O instance running at http://localhost:54321..... not found.\n",
      "Attempting to start a local H2O server...\n",
      "  Java Version: openjdk version \"11.0.2\" 2019-01-15; OpenJDK Runtime Environment 18.9 (build 11.0.2+9); OpenJDK 64-Bit Server VM 18.9 (build 11.0.2+9, mixed mode)\n",
      "  Starting server from /Users/miaocai/anaconda3/lib/python3.7/site-packages/h2o/backend/bin/h2o.jar\n",
      "  Ice root: /var/folders/ng/t3l4gg0s0l398768705lv8vm0000gn/T/tmp8sc0eobc\n",
      "  JVM stdout: /var/folders/ng/t3l4gg0s0l398768705lv8vm0000gn/T/tmp8sc0eobc/h2o_miaocai_started_from_python.out\n",
      "  JVM stderr: /var/folders/ng/t3l4gg0s0l398768705lv8vm0000gn/T/tmp8sc0eobc/h2o_miaocai_started_from_python.err\n",
      "  Server is running at http://127.0.0.1:54321\n",
      "Connecting to H2O server at http://127.0.0.1:54321... successful.\n",
      "Warning: Your H2O cluster version is too old (3 months and 16 days)! Please download and install the latest version from http://h2o.ai/download/\n"
     ]
    },
    {
     "data": {
      "text/html": [
       "<div style=\"overflow:auto\"><table style=\"width:50%\"><tr><td>H2O cluster uptime:</td>\n",
       "<td>01 secs</td></tr>\n",
       "<tr><td>H2O cluster timezone:</td>\n",
       "<td>America/Chicago</td></tr>\n",
       "<tr><td>H2O data parsing timezone:</td>\n",
       "<td>UTC</td></tr>\n",
       "<tr><td>H2O cluster version:</td>\n",
       "<td>3.22.1.3</td></tr>\n",
       "<tr><td>H2O cluster version age:</td>\n",
       "<td>3 months and 16 days !!!</td></tr>\n",
       "<tr><td>H2O cluster name:</td>\n",
       "<td>H2O_from_python_miaocai_k7904q</td></tr>\n",
       "<tr><td>H2O cluster total nodes:</td>\n",
       "<td>1</td></tr>\n",
       "<tr><td>H2O cluster free memory:</td>\n",
       "<td>2 Gb</td></tr>\n",
       "<tr><td>H2O cluster total cores:</td>\n",
       "<td>8</td></tr>\n",
       "<tr><td>H2O cluster allowed cores:</td>\n",
       "<td>8</td></tr>\n",
       "<tr><td>H2O cluster status:</td>\n",
       "<td>accepting new members, healthy</td></tr>\n",
       "<tr><td>H2O connection url:</td>\n",
       "<td>http://127.0.0.1:54321</td></tr>\n",
       "<tr><td>H2O connection proxy:</td>\n",
       "<td>None</td></tr>\n",
       "<tr><td>H2O internal security:</td>\n",
       "<td>False</td></tr>\n",
       "<tr><td>H2O API Extensions:</td>\n",
       "<td>XGBoost, Algos, AutoML, Core V3, Core V4</td></tr>\n",
       "<tr><td>Python version:</td>\n",
       "<td>3.7.1 final</td></tr></table></div>"
      ],
      "text/plain": [
       "--------------------------  ----------------------------------------\n",
       "H2O cluster uptime:         01 secs\n",
       "H2O cluster timezone:       America/Chicago\n",
       "H2O data parsing timezone:  UTC\n",
       "H2O cluster version:        3.22.1.3\n",
       "H2O cluster version age:    3 months and 16 days !!!\n",
       "H2O cluster name:           H2O_from_python_miaocai_k7904q\n",
       "H2O cluster total nodes:    1\n",
       "H2O cluster free memory:    2 Gb\n",
       "H2O cluster total cores:    8\n",
       "H2O cluster allowed cores:  8\n",
       "H2O cluster status:         accepting new members, healthy\n",
       "H2O connection url:         http://127.0.0.1:54321\n",
       "H2O connection proxy:\n",
       "H2O internal security:      False\n",
       "H2O API Extensions:         XGBoost, Algos, AutoML, Core V3, Core V4\n",
       "Python version:             3.7.1 final\n",
       "--------------------------  ----------------------------------------"
      ]
     },
     "metadata": {},
     "output_type": "display_data"
    }
   ],
   "source": [
    "h2o.init(ip='localhost', port=54321, nthreads=-1, max_mem_size='2G')"
   ]
  },
  {
   "cell_type": "code",
   "execution_count": 3,
   "metadata": {},
   "outputs": [
    {
     "name": "stdout",
     "output_type": "stream",
     "text": [
      "Parse progress: |█████████████████████████████████████████████████████████| 100%\n"
     ]
    },
    {
     "data": {
      "text/html": [
       "<table>\n",
       "<thead>\n",
       "<tr><th style=\"text-align: right;\">  age</th><th>sex   </th><th style=\"text-align: right;\">   bmi</th><th style=\"text-align: right;\">  children</th><th>smoker  </th><th>region   </th><th style=\"text-align: right;\">  charges</th></tr>\n",
       "</thead>\n",
       "<tbody>\n",
       "<tr><td style=\"text-align: right;\">   19</td><td>female</td><td style=\"text-align: right;\">27.9  </td><td style=\"text-align: right;\">         0</td><td>yes     </td><td>southwest</td><td style=\"text-align: right;\"> 16884.9 </td></tr>\n",
       "<tr><td style=\"text-align: right;\">   18</td><td>male  </td><td style=\"text-align: right;\">33.77 </td><td style=\"text-align: right;\">         1</td><td>no      </td><td>southeast</td><td style=\"text-align: right;\">  1725.55</td></tr>\n",
       "<tr><td style=\"text-align: right;\">   28</td><td>male  </td><td style=\"text-align: right;\">33    </td><td style=\"text-align: right;\">         3</td><td>no      </td><td>southeast</td><td style=\"text-align: right;\">  4449.46</td></tr>\n",
       "<tr><td style=\"text-align: right;\">   33</td><td>male  </td><td style=\"text-align: right;\">22.705</td><td style=\"text-align: right;\">         0</td><td>no      </td><td>northwest</td><td style=\"text-align: right;\"> 21984.5 </td></tr>\n",
       "<tr><td style=\"text-align: right;\">   32</td><td>male  </td><td style=\"text-align: right;\">28.88 </td><td style=\"text-align: right;\">         0</td><td>no      </td><td>northwest</td><td style=\"text-align: right;\">  3866.86</td></tr>\n",
       "<tr><td style=\"text-align: right;\">   31</td><td>female</td><td style=\"text-align: right;\">25.74 </td><td style=\"text-align: right;\">         0</td><td>no      </td><td>southeast</td><td style=\"text-align: right;\">  3756.62</td></tr>\n",
       "<tr><td style=\"text-align: right;\">   46</td><td>female</td><td style=\"text-align: right;\">33.44 </td><td style=\"text-align: right;\">         1</td><td>no      </td><td>southeast</td><td style=\"text-align: right;\">  8240.59</td></tr>\n",
       "<tr><td style=\"text-align: right;\">   37</td><td>female</td><td style=\"text-align: right;\">27.74 </td><td style=\"text-align: right;\">         3</td><td>no      </td><td>northwest</td><td style=\"text-align: right;\">  7281.51</td></tr>\n",
       "<tr><td style=\"text-align: right;\">   37</td><td>male  </td><td style=\"text-align: right;\">29.83 </td><td style=\"text-align: right;\">         2</td><td>no      </td><td>northeast</td><td style=\"text-align: right;\">  6406.41</td></tr>\n",
       "<tr><td style=\"text-align: right;\">   60</td><td>female</td><td style=\"text-align: right;\">25.84 </td><td style=\"text-align: right;\">         0</td><td>no      </td><td>northwest</td><td style=\"text-align: right;\"> 28923.1 </td></tr>\n",
       "</tbody>\n",
       "</table>"
      ]
     },
     "metadata": {},
     "output_type": "display_data"
    },
    {
     "data": {
      "text/plain": []
     },
     "execution_count": 3,
     "metadata": {},
     "output_type": "execute_result"
    }
   ],
   "source": [
    "d0 = h2o.import_file(\"insurance.csv\")\n",
    "d0"
   ]
  },
  {
   "cell_type": "code",
   "execution_count": 4,
   "metadata": {},
   "outputs": [
    {
     "name": "stdout",
     "output_type": "stream",
     "text": [
      "The shape of the DataFrame is:\n",
      "(1338, 7)\n"
     ]
    },
    {
     "data": {
      "text/plain": [
       "[(0.0, 'age'),\n",
       " (0.0, 'sex'),\n",
       " (0.0, 'bmi'),\n",
       " (0.0, 'children'),\n",
       " (0.0, 'smoker'),\n",
       " (0.0, 'region'),\n",
       " (0.0, 'charges')]"
      ]
     },
     "execution_count": 4,
     "metadata": {},
     "output_type": "execute_result"
    }
   ],
   "source": [
    "print(\"The shape of the DataFrame is:\")\n",
    "print(d0.shape)\n",
    "list(zip(d0.nacnt(), d0.names))"
   ]
  },
  {
   "cell_type": "markdown",
   "metadata": {},
   "source": [
    "After reading the .csv file by using h2o, I found that there are no missing values in the data, which is great! "
   ]
  },
  {
   "cell_type": "markdown",
   "metadata": {},
   "source": [
    "### Split into train/validation/testing splits\n",
    "\n",
    "We then need to convert some categorical variables into factors, and split the data into train, test, and validation sets."
   ]
  },
  {
   "cell_type": "code",
   "execution_count": 5,
   "metadata": {},
   "outputs": [],
   "source": [
    "d0[['sex', 'smoker', 'region']] = d0[['sex', 'smoker', 'region']].asfactor()\n",
    "dtrain, dtest, dvalid = \\\n",
    "    d0.split_frame([0.7, 0.15], seed = 666)"
   ]
  },
  {
   "cell_type": "markdown",
   "metadata": {},
   "source": [
    "# Results\n",
    "\n",
    "## Summary statistics of model input variables"
   ]
  },
  {
   "cell_type": "code",
   "execution_count": 6,
   "metadata": {},
   "outputs": [
    {
     "data": {
      "text/html": [
       "<div>\n",
       "<style scoped>\n",
       "    .dataframe tbody tr th:only-of-type {\n",
       "        vertical-align: middle;\n",
       "    }\n",
       "\n",
       "    .dataframe tbody tr th {\n",
       "        vertical-align: top;\n",
       "    }\n",
       "\n",
       "    .dataframe thead tr th {\n",
       "        text-align: left;\n",
       "    }\n",
       "\n",
       "    .dataframe thead tr:last-of-type th {\n",
       "        text-align: right;\n",
       "    }\n",
       "</style>\n",
       "<table border=\"1\" class=\"dataframe\">\n",
       "  <thead>\n",
       "    <tr>\n",
       "      <th></th>\n",
       "      <th></th>\n",
       "      <th colspan=\"5\" halign=\"left\">Grouped by sex</th>\n",
       "    </tr>\n",
       "    <tr>\n",
       "      <th></th>\n",
       "      <th></th>\n",
       "      <th>isnull</th>\n",
       "      <th>female</th>\n",
       "      <th>male</th>\n",
       "      <th>pval</th>\n",
       "      <th>ptest</th>\n",
       "    </tr>\n",
       "    <tr>\n",
       "      <th>variable</th>\n",
       "      <th>level</th>\n",
       "      <th></th>\n",
       "      <th></th>\n",
       "      <th></th>\n",
       "      <th></th>\n",
       "      <th></th>\n",
       "    </tr>\n",
       "  </thead>\n",
       "  <tbody>\n",
       "    <tr>\n",
       "      <th>n</th>\n",
       "      <th></th>\n",
       "      <td></td>\n",
       "      <td>662</td>\n",
       "      <td>676</td>\n",
       "      <td></td>\n",
       "      <td></td>\n",
       "    </tr>\n",
       "    <tr>\n",
       "      <th>age, mean (SD)</th>\n",
       "      <th></th>\n",
       "      <td>0</td>\n",
       "      <td>39.5 (14.1)</td>\n",
       "      <td>38.9 (14.1)</td>\n",
       "      <td>0.446</td>\n",
       "      <td>Two Sample T-test</td>\n",
       "    </tr>\n",
       "    <tr>\n",
       "      <th>bmi, mean (SD)</th>\n",
       "      <th></th>\n",
       "      <td>0</td>\n",
       "      <td>30.4 (6.0)</td>\n",
       "      <td>30.9 (6.1)</td>\n",
       "      <td>0.090</td>\n",
       "      <td>Two Sample T-test</td>\n",
       "    </tr>\n",
       "    <tr>\n",
       "      <th rowspan=\"6\" valign=\"top\">children, n (%)</th>\n",
       "      <th>0</th>\n",
       "      <td>0</td>\n",
       "      <td>289 (43.7)</td>\n",
       "      <td>285 (42.2)</td>\n",
       "      <td>0.981</td>\n",
       "      <td>Chi-squared</td>\n",
       "    </tr>\n",
       "    <tr>\n",
       "      <th>1</th>\n",
       "      <td></td>\n",
       "      <td>158 (23.9)</td>\n",
       "      <td>166 (24.6)</td>\n",
       "      <td></td>\n",
       "      <td></td>\n",
       "    </tr>\n",
       "    <tr>\n",
       "      <th>2</th>\n",
       "      <td></td>\n",
       "      <td>119 (18.0)</td>\n",
       "      <td>121 (17.9)</td>\n",
       "      <td></td>\n",
       "      <td></td>\n",
       "    </tr>\n",
       "    <tr>\n",
       "      <th>3</th>\n",
       "      <td></td>\n",
       "      <td>77 (11.6)</td>\n",
       "      <td>80 (11.8)</td>\n",
       "      <td></td>\n",
       "      <td></td>\n",
       "    </tr>\n",
       "    <tr>\n",
       "      <th>4</th>\n",
       "      <td></td>\n",
       "      <td>11 (1.7)</td>\n",
       "      <td>14 (2.1)</td>\n",
       "      <td></td>\n",
       "      <td></td>\n",
       "    </tr>\n",
       "    <tr>\n",
       "      <th>5</th>\n",
       "      <td></td>\n",
       "      <td>8 (1.2)</td>\n",
       "      <td>10 (1.5)</td>\n",
       "      <td></td>\n",
       "      <td></td>\n",
       "    </tr>\n",
       "    <tr>\n",
       "      <th rowspan=\"2\" valign=\"top\">smoker, n (%)</th>\n",
       "      <th>no</th>\n",
       "      <td>0</td>\n",
       "      <td>547 (82.6)</td>\n",
       "      <td>517 (76.5)</td>\n",
       "      <td>0.007</td>\n",
       "      <td>Chi-squared</td>\n",
       "    </tr>\n",
       "    <tr>\n",
       "      <th>yes</th>\n",
       "      <td></td>\n",
       "      <td>115 (17.4)</td>\n",
       "      <td>159 (23.5)</td>\n",
       "      <td></td>\n",
       "      <td></td>\n",
       "    </tr>\n",
       "    <tr>\n",
       "      <th rowspan=\"4\" valign=\"top\">region, n (%)</th>\n",
       "      <th>northeast</th>\n",
       "      <td>0</td>\n",
       "      <td>161 (24.3)</td>\n",
       "      <td>163 (24.1)</td>\n",
       "      <td>0.933</td>\n",
       "      <td>Chi-squared</td>\n",
       "    </tr>\n",
       "    <tr>\n",
       "      <th>northwest</th>\n",
       "      <td></td>\n",
       "      <td>164 (24.8)</td>\n",
       "      <td>161 (23.8)</td>\n",
       "      <td></td>\n",
       "      <td></td>\n",
       "    </tr>\n",
       "    <tr>\n",
       "      <th>southeast</th>\n",
       "      <td></td>\n",
       "      <td>175 (26.4)</td>\n",
       "      <td>189 (28.0)</td>\n",
       "      <td></td>\n",
       "      <td></td>\n",
       "    </tr>\n",
       "    <tr>\n",
       "      <th>southwest</th>\n",
       "      <td></td>\n",
       "      <td>162 (24.5)</td>\n",
       "      <td>163 (24.1)</td>\n",
       "      <td></td>\n",
       "      <td></td>\n",
       "    </tr>\n",
       "  </tbody>\n",
       "</table>\n",
       "</div><br />[1] Warning, Hartigan's Dip Test reports possible multimodal distributions for: age.<br />[2] Warning, test for normality reports non-normal distributions for: age.<br />"
      ],
      "text/plain": [
       "                          Grouped by sex                                                    \n",
       "                                  isnull       female         male   pval              ptest\n",
       "variable        level                                                                       \n",
       "n                                                 662          676                          \n",
       "age, mean (SD)                         0  39.5 (14.1)  38.9 (14.1)  0.446  Two Sample T-test\n",
       "bmi, mean (SD)                         0   30.4 (6.0)   30.9 (6.1)  0.090  Two Sample T-test\n",
       "children, n (%) 0                      0   289 (43.7)   285 (42.2)  0.981        Chi-squared\n",
       "                1                          158 (23.9)   166 (24.6)                          \n",
       "                2                          119 (18.0)   121 (17.9)                          \n",
       "                3                           77 (11.6)    80 (11.8)                          \n",
       "                4                            11 (1.7)     14 (2.1)                          \n",
       "                5                             8 (1.2)     10 (1.5)                          \n",
       "smoker, n (%)   no                     0   547 (82.6)   517 (76.5)  0.007        Chi-squared\n",
       "                yes                        115 (17.4)   159 (23.5)                          \n",
       "region, n (%)   northeast              0   161 (24.3)   163 (24.1)  0.933        Chi-squared\n",
       "                northwest                  164 (24.8)   161 (23.8)                          \n",
       "                southeast                  175 (26.4)   189 (28.0)                          \n",
       "                southwest                  162 (24.5)   163 (24.1)                          \n",
       "[1] Warning, Hartigan's Dip Test reports possible multimodal distributions for: age.\n",
       "[2] Warning, test for normality reports non-normal distributions for: age."
      ]
     },
     "execution_count": 6,
     "metadata": {},
     "output_type": "execute_result"
    }
   ],
   "source": [
    "d = pd.read_csv(\"insurance.csv\")\n",
    "col_types = d.dtypes.to_dict()\n",
    "col_types['age'] = 'float64'\n",
    "d = pd.read_csv(\"insurance.csv\", dtype=col_types)\n",
    "\n",
    "overall_table = TableOne(\n",
    "    d, columns = ['age', 'bmi', 'children', 'smoker', 'region'], \n",
    "    categorical = ['children', 'smoker', 'region'], \n",
    "    groupby = 'sex', label_suffix=True, pval = True)\n",
    "overall_table"
   ]
  },
  {
   "cell_type": "markdown",
   "metadata": {},
   "source": [
    "## Descriptive analysis of the outcome variable charges"
   ]
  },
  {
   "cell_type": "code",
   "execution_count": 7,
   "metadata": {},
   "outputs": [
    {
     "name": "stderr",
     "output_type": "stream",
     "text": [
      "/Users/miaocai/anaconda3/lib/python3.7/site-packages/scipy/stats/stats.py:1713: FutureWarning: Using a non-tuple sequence for multidimensional indexing is deprecated; use `arr[tuple(seq)]` instead of `arr[seq]`. In the future this will be interpreted as an array index, `arr[np.array(seq)]`, which will result either in an error or a different result.\n",
      "  return np.add.reduce(sorted[indexer] * weights, axis=axis) / sumval\n"
     ]
    },
    {
     "data": {
      "text/plain": [
       "<matplotlib.axes._subplots.AxesSubplot at 0x1a1badc160>"
      ]
     },
     "execution_count": 7,
     "metadata": {},
     "output_type": "execute_result"
    },
    {
     "data": {
      "image/png": "[encoded data removed]",
      "text/plain": [
       "<Figure size 432x288 with 1 Axes>"
      ]
     },
     "metadata": {
      "needs_background": "light"
     },
     "output_type": "display_data"
    }
   ],
   "source": [
    "sns.distplot(d['charges'], hist=True, kde=True, \n",
    "             bins=int(180/5), color = 'skyblue', \n",
    "             hist_kws={'edgecolor':'grey'},\n",
    "             kde_kws={'linewidth': 2})"
   ]
  },
  {
   "cell_type": "code",
   "execution_count": 8,
   "metadata": {},
   "outputs": [
    {
     "data": {
      "text/plain": [
       "<matplotlib.axes._subplots.AxesSubplot at 0x1a1c00b978>"
      ]
     },
     "execution_count": 8,
     "metadata": {},
     "output_type": "execute_result"
    },
    {
     "data": {
      "image/png": "[encoded data removed]",
      "text/plain": [
       "<Figure size 432x288 with 1 Axes>"
      ]
     },
     "metadata": {
      "needs_background": "light"
     },
     "output_type": "display_data"
    }
   ],
   "source": [
    "sns.boxplot(d['charges'], color = 'skyblue')"
   ]
  },
  {
   "cell_type": "code",
   "execution_count": 9,
   "metadata": {},
   "outputs": [
    {
     "data": {
      "text/plain": [
       "count     1338.000000\n",
       "mean     13270.422265\n",
       "std      12110.011237\n",
       "min       1121.873900\n",
       "25%       4740.287150\n",
       "50%       9382.033000\n",
       "75%      16639.912515\n",
       "max      63770.428010\n",
       "Name: charges, dtype: float64"
      ]
     },
     "execution_count": 9,
     "metadata": {},
     "output_type": "execute_result"
    }
   ],
   "source": [
    "d['charges'].describe()"
   ]
  },
  {
   "cell_type": "markdown",
   "metadata": {},
   "source": [
    "## Cross-validation\n",
    "\n",
    "Here I use the `H2OGeneralizedLinearEstimator` module in `h2o` package to perform cross-validation. I set the number of cross-validation as 5 by `nfolds=5`, in which 6 models will be built. The first 5 models (cross-validation models) are built on 80% of the training data, and a different 20% is held out for each of the 5 models. Then the main model is built on 100% of the training data."
   ]
  },
  {
   "cell_type": "code",
   "execution_count": 10,
   "metadata": {
    "scrolled": true
   },
   "outputs": [
    {
     "name": "stdout",
     "output_type": "stream",
     "text": [
      "glm Model Build progress: |███████████████████████████████████████████████| 100%\n",
      "Model Details\n",
      "=============\n",
      "H2OGeneralizedLinearEstimator :  Generalized Linear Modeling\n",
      "Model Key:  d_glm_0\n",
      "\n",
      "\n",
      "ModelMetricsRegressionGLM: glm\n",
      "** Reported on train data. **\n",
      "\n",
      "MSE: 125728309.44330035\n",
      "RMSE: 11212.863570172445\n",
      "MAE: 8471.397911142334\n",
      "RMSLE: 0.9331157151413909\n",
      "R^2: 0.14203674139265943\n",
      "Mean Residual Deviance: 125728309.44330035\n",
      "Null degrees of freedom: 1337\n",
      "Residual degrees of freedom: 1326\n",
      "Null deviance: 196074221532.74988\n",
      "Residual deviance: 168224478035.13586\n",
      "AIC: 28776.289622947068\n",
      "\n",
      "ModelMetricsRegressionGLM: glm\n",
      "** Reported on cross-validation data. **\n",
      "\n",
      "MSE: 129830749.84711617\n",
      "RMSE: 11394.32972346843\n",
      "MAE: 8600.97548619905\n",
      "RMSLE: 0.9464119017196216\n",
      "R^2: 0.11404190751089327\n",
      "Mean Residual Deviance: 129830749.84711617\n",
      "Null degrees of freedom: 1337\n",
      "Residual degrees of freedom: 1326\n",
      "Null deviance: 196632689167.88873\n",
      "Residual deviance: 173713543295.44144\n",
      "AIC: 28819.25062652632\n",
      "Cross-Validation Metrics Summary: \n"
     ]
    },
    {
     "data": {
      "text/html": [
       "<div style=\"overflow:auto\"><table style=\"width:50%\"><tr><td><b></b></td>\n",
       "<td><b>mean</b></td>\n",
       "<td><b>sd</b></td>\n",
       "<td><b>cv_1_valid</b></td>\n",
       "<td><b>cv_2_valid</b></td>\n",
       "<td><b>cv_3_valid</b></td>\n",
       "<td><b>cv_4_valid</b></td>\n",
       "<td><b>cv_5_valid</b></td></tr>\n",
       "<tr><td>mae</td>\n",
       "<td>8592.547</td>\n",
       "<td>295.31107</td>\n",
       "<td>8582.3125</td>\n",
       "<td>7818.5264</td>\n",
       "<td>8785.108</td>\n",
       "<td>8714.119</td>\n",
       "<td>9062.668</td></tr>\n",
       "<tr><td>mean_residual_deviance</td>\n",
       "<td>129275808.0000000</td>\n",
       "<td>12568459.0000000</td>\n",
       "<td>122953088.0000000</td>\n",
       "<td>102175632.0000000</td>\n",
       "<td>153850944.0000000</td>\n",
       "<td>124694504.0000000</td>\n",
       "<td>142704864.0000000</td></tr>\n",
       "<tr><td>mse</td>\n",
       "<td>129275808.0000000</td>\n",
       "<td>12568459.0000000</td>\n",
       "<td>122953088.0000000</td>\n",
       "<td>102175632.0000000</td>\n",
       "<td>153850944.0000000</td>\n",
       "<td>124694504.0000000</td>\n",
       "<td>142704864.0000000</td></tr>\n",
       "<tr><td>null_deviance</td>\n",
       "<td>39326540000.0000000</td>\n",
       "<td>4538068000.0000000</td>\n",
       "<td>37283930000.0000000</td>\n",
       "<td>29694271500.0000000</td>\n",
       "<td>49030697000.0000000</td>\n",
       "<td>37774651000.0000000</td>\n",
       "<td>42849141000.0000000</td></tr>\n",
       "<tr><td>r2</td>\n",
       "<td>0.1105586</td>\n",
       "<td>0.0058998</td>\n",
       "<td>0.1174623</td>\n",
       "<td>0.1147653</td>\n",
       "<td>0.1004910</td>\n",
       "<td>0.1195456</td>\n",
       "<td>0.1005287</td></tr>\n",
       "<tr><td>residual_deviance</td>\n",
       "<td>34742710000.0000000</td>\n",
       "<td>4171281920.0000000</td>\n",
       "<td>32705521700.0000000</td>\n",
       "<td>26156961800.0000000</td>\n",
       "<td>43847520000.0000000</td>\n",
       "<td>33044043800.0000000</td>\n",
       "<td>37959496000.0000000</td></tr>\n",
       "<tr><td>rmse</td>\n",
       "<td>11342.573</td>\n",
       "<td>557.5985</td>\n",
       "<td>11088.422</td>\n",
       "<td>10108.196</td>\n",
       "<td>12403.667</td>\n",
       "<td>11166.67</td>\n",
       "<td>11945.914</td></tr>\n",
       "<tr><td>rmsle</td>\n",
       "<td>0.9458453</td>\n",
       "<td>0.0343231</td>\n",
       "<td>0.9813831</td>\n",
       "<td>0.9140743</td>\n",
       "<td>0.8841538</td>\n",
       "<td>1.0196682</td>\n",
       "<td>0.9299473</td></tr></table></div>"
      ],
      "text/plain": [
       "                        mean         sd           cv_1_valid    cv_2_valid    cv_3_valid    cv_4_valid    cv_5_valid\n",
       "----------------------  -----------  -----------  ------------  ------------  ------------  ------------  ------------\n",
       "mae                     8592.55      295.311      8582.31       7818.53       8785.11       8714.12       9062.67\n",
       "mean_residual_deviance  1.29276e+08  1.25685e+07  1.22953e+08   1.02176e+08   1.53851e+08   1.24695e+08   1.42705e+08\n",
       "mse                     1.29276e+08  1.25685e+07  1.22953e+08   1.02176e+08   1.53851e+08   1.24695e+08   1.42705e+08\n",
       "null_deviance           3.93265e+10  4.53807e+09  3.72839e+10   2.96943e+10   4.90307e+10   3.77747e+10   4.28491e+10\n",
       "r2                      0.110559     0.00589982   0.117462      0.114765      0.100491      0.119546      0.100529\n",
       "residual_deviance       3.47427e+10  4.17128e+09  3.27055e+10   2.6157e+10    4.38475e+10   3.3044e+10    3.79595e+10\n",
       "rmse                    11342.6      557.598      11088.4       10108.2       12403.7       11166.7       11945.9\n",
       "rmsle                   0.945845     0.0343231    0.981383      0.914074      0.884154      1.01967       0.929947"
      ]
     },
     "metadata": {},
     "output_type": "display_data"
    },
    {
     "name": "stdout",
     "output_type": "stream",
     "text": [
      "Scoring History: \n"
     ]
    },
    {
     "data": {
      "text/html": [
       "<div style=\"overflow:auto\"><table style=\"width:50%\"><tr><td><b></b></td>\n",
       "<td><b>timestamp</b></td>\n",
       "<td><b>duration</b></td>\n",
       "<td><b>iterations</b></td>\n",
       "<td><b>negative_log_likelihood</b></td>\n",
       "<td><b>objective</b></td></tr>\n",
       "<tr><td></td>\n",
       "<td>2019-05-12 04:09:36</td>\n",
       "<td> 0.000 sec</td>\n",
       "<td>0</td>\n",
       "<td>196074221568.3671875</td>\n",
       "<td>146542766.4935480</td></tr></table></div>"
      ],
      "text/plain": [
       "    timestamp            duration    iterations    negative_log_likelihood    objective\n",
       "--  -------------------  ----------  ------------  -------------------------  -----------\n",
       "    2019-05-12 04:09:36  0.000 sec   0             1.96074e+11                1.46543e+08"
      ]
     },
     "metadata": {},
     "output_type": "display_data"
    }
   ],
   "source": [
    "target_var = 'charges'\n",
    "input_var = ['age', 'sex', 'bmi', \n",
    "             'children', 'smoker', 'region']\n",
    "glm_mod0 = \\\n",
    "    H2OGeneralizedLinearEstimator(model_id = 'd_glm_0',\n",
    "                                  family = 'gaussian',\n",
    "                                  nfolds = 5,\n",
    "                                  seed = 123)\n",
    "glm_mod0.train(x = input_var, \n",
    "               y = target_var, \n",
    "               training_frame = d0)\n",
    "glm_mod0.show()"
   ]
  },
  {
   "cell_type": "markdown",
   "metadata": {},
   "source": [
    "## Machine learning\n",
    "\n",
    "### Regularized regression\n"
   ]
  },
  {
   "cell_type": "code",
   "execution_count": 11,
   "metadata": {},
   "outputs": [
    {
     "name": "stdout",
     "output_type": "stream",
     "text": [
      "glm Grid Build progress: |████████████████████████████████████████████████| 100%\n",
      "      alpha                                                    model_ids  \\\n",
      "0     [1.0]  Grid_GLM_py_4_sid_b6da_model_python_1557652172496_1_model_5   \n",
      "1    [0.75]  Grid_GLM_py_4_sid_b6da_model_python_1557652172496_1_model_4   \n",
      "2     [0.5]  Grid_GLM_py_4_sid_b6da_model_python_1557652172496_1_model_3   \n",
      "3    [0.25]  Grid_GLM_py_4_sid_b6da_model_python_1557652172496_1_model_2   \n",
      "4     [0.0]  Grid_GLM_py_4_sid_b6da_model_python_1557652172496_1_model_1   \n",
      "\n",
      "       residual_deviance  \n",
      "0    6.232294045221491E9  \n",
      "1  2.7448416102541004E10  \n",
      "2  2.7451841045226257E10  \n",
      "3  2.7452983289290577E10  \n",
      "4  2.7453233838145943E10  \n"
     ]
    }
   ],
   "source": [
    "from h2o.grid.grid_search import H2OGridSearch\n",
    "\n",
    "alpha_values = {'alpha': [0, 0.25, 0.5, 0.75, 1]}\n",
    "glm_mod2 = H2OGridSearch(\n",
    "    H2OGeneralizedLinearEstimator(family = 'gaussian',\n",
    "                                  lambda_search = True,\n",
    "                                  seed = 123), \\\n",
    "hyper_params = alpha_values)\n",
    "\n",
    "glm_mod2.train(x = input_var, \n",
    "               y = target_var, \n",
    "               training_frame = dtrain,\n",
    "              validation_frame = dvalid)\n",
    "\n",
    "glm_mod2.show()"
   ]
  },
  {
   "cell_type": "code",
   "execution_count": 12,
   "metadata": {},
   "outputs": [
    {
     "data": {
      "text/html": [
       "<div>\n",
       "<style scoped>\n",
       "    .dataframe tbody tr th:only-of-type {\n",
       "        vertical-align: middle;\n",
       "    }\n",
       "\n",
       "    .dataframe tbody tr th {\n",
       "        vertical-align: top;\n",
       "    }\n",
       "\n",
       "    .dataframe thead th {\n",
       "        text-align: right;\n",
       "    }\n",
       "</style>\n",
       "<table border=\"1\" class=\"dataframe\">\n",
       "  <thead>\n",
       "    <tr style=\"text-align: right;\">\n",
       "      <th></th>\n",
       "      <th>names</th>\n",
       "      <th>coefficients</th>\n",
       "      <th>standardized_coefficients</th>\n",
       "    </tr>\n",
       "  </thead>\n",
       "  <tbody>\n",
       "    <tr>\n",
       "      <th>0</th>\n",
       "      <td>Intercept</td>\n",
       "      <td>-7206.776563</td>\n",
       "      <td>13492.999531</td>\n",
       "    </tr>\n",
       "    <tr>\n",
       "      <th>1</th>\n",
       "      <td>region.northeast</td>\n",
       "      <td>83.984427</td>\n",
       "      <td>83.984427</td>\n",
       "    </tr>\n",
       "    <tr>\n",
       "      <th>2</th>\n",
       "      <td>region.northwest</td>\n",
       "      <td>111.459665</td>\n",
       "      <td>111.459665</td>\n",
       "    </tr>\n",
       "    <tr>\n",
       "      <th>3</th>\n",
       "      <td>region.southeast</td>\n",
       "      <td>-192.376821</td>\n",
       "      <td>-192.376821</td>\n",
       "    </tr>\n",
       "    <tr>\n",
       "      <th>4</th>\n",
       "      <td>region.southwest</td>\n",
       "      <td>-70.256674</td>\n",
       "      <td>-70.256674</td>\n",
       "    </tr>\n",
       "    <tr>\n",
       "      <th>5</th>\n",
       "      <td>smoker.no</td>\n",
       "      <td>-5020.292788</td>\n",
       "      <td>-5020.292788</td>\n",
       "    </tr>\n",
       "    <tr>\n",
       "      <th>6</th>\n",
       "      <td>smoker.yes</td>\n",
       "      <td>18846.423625</td>\n",
       "      <td>18846.423625</td>\n",
       "    </tr>\n",
       "    <tr>\n",
       "      <th>7</th>\n",
       "      <td>sex.female</td>\n",
       "      <td>147.142857</td>\n",
       "      <td>147.142857</td>\n",
       "    </tr>\n",
       "    <tr>\n",
       "      <th>8</th>\n",
       "      <td>sex.male</td>\n",
       "      <td>-142.895434</td>\n",
       "      <td>-142.895434</td>\n",
       "    </tr>\n",
       "    <tr>\n",
       "      <th>9</th>\n",
       "      <td>age</td>\n",
       "      <td>255.041295</td>\n",
       "      <td>3604.495432</td>\n",
       "    </tr>\n",
       "    <tr>\n",
       "      <th>10</th>\n",
       "      <td>bmi</td>\n",
       "      <td>329.352274</td>\n",
       "      <td>2038.979286</td>\n",
       "    </tr>\n",
       "    <tr>\n",
       "      <th>11</th>\n",
       "      <td>children</td>\n",
       "      <td>477.291820</td>\n",
       "      <td>563.040100</td>\n",
       "    </tr>\n",
       "  </tbody>\n",
       "</table>\n",
       "</div>"
      ],
      "text/plain": [
       "               names  coefficients  standardized_coefficients\n",
       "0          Intercept  -7206.776563               13492.999531\n",
       "1   region.northeast     83.984427                  83.984427\n",
       "2   region.northwest    111.459665                 111.459665\n",
       "3   region.southeast   -192.376821                -192.376821\n",
       "4   region.southwest    -70.256674                 -70.256674\n",
       "5          smoker.no  -5020.292788               -5020.292788\n",
       "6         smoker.yes  18846.423625               18846.423625\n",
       "7         sex.female    147.142857                 147.142857\n",
       "8           sex.male   -142.895434                -142.895434\n",
       "9                age    255.041295                3604.495432\n",
       "10               bmi    329.352274                2038.979286\n",
       "11          children    477.291820                 563.040100"
      ]
     },
     "execution_count": 12,
     "metadata": {},
     "output_type": "execute_result"
    }
   ],
   "source": [
    "glm_best = glm_mod2.get_grid()[0]\n",
    "glm_best._model_json['output']['coefficients_table'].as_data_frame()"
   ]
  },
  {
   "cell_type": "code",
   "execution_count": 13,
   "metadata": {},
   "outputs": [
    {
     "name": "stdout",
     "output_type": "stream",
     "text": [
      "\n",
      "ModelMetricsRegressionGLM: glm\n",
      "** Reported on train data. **\n",
      "\n",
      "MSE: 36244089.05252515\n",
      "RMSE: 6020.306391914381\n",
      "MAE: 4175.590832941357\n",
      "RMSLE: NaN\n",
      "R^2: 0.7557379707834732\n",
      "Mean Residual Deviance: 36244089.05252515\n",
      "Null degrees of freedom: 955\n",
      "Residual degrees of freedom: 944\n",
      "Null deviance: 141853194478.7002\n",
      "Residual deviance: 34649349134.21404\n",
      "AIC: 19378.942718761107\n"
     ]
    },
    {
     "data": {
      "text/plain": []
     },
     "execution_count": 13,
     "metadata": {},
     "output_type": "execute_result"
    }
   ],
   "source": [
    "glm_best._model_json['output']['training_metrics']"
   ]
  },
  {
   "cell_type": "code",
   "execution_count": 14,
   "metadata": {},
   "outputs": [
    {
     "name": "stdout",
     "output_type": "stream",
     "text": [
      "\n",
      "ModelMetricsRegressionGLM: glm\n",
      "** Reported on validation data. **\n",
      "\n",
      "MSE: 30107700.701553095\n",
      "RMSE: 5487.04845081152\n",
      "MAE: 3827.8094066015087\n",
      "RMSLE: 0.5274009774363978\n",
      "R^2: 0.7699240420817869\n",
      "Mean Residual Deviance: 30107700.701553095\n",
      "Null degrees of freedom: 206\n",
      "Residual degrees of freedom: 195\n",
      "Null deviance: 27453554523.254715\n",
      "Residual deviance: 6232294045.221491\n",
      "AIC: 4178.040900338396\n"
     ]
    },
    {
     "data": {
      "text/plain": []
     },
     "execution_count": 14,
     "metadata": {},
     "output_type": "execute_result"
    }
   ],
   "source": [
    "glm_best._model_json['output']['validation_metrics']"
   ]
  },
  {
   "cell_type": "markdown",
   "metadata": {},
   "source": [
    "### Auto-ML"
   ]
  },
  {
   "cell_type": "code",
   "execution_count": 15,
   "metadata": {},
   "outputs": [
    {
     "name": "stdout",
     "output_type": "stream",
     "text": [
      "AutoML progress: |████████████████████████████████████████████████████████| 100%\n"
     ]
    },
    {
     "data": {
      "text/html": [
       "<table>\n",
       "<thead>\n",
       "<tr><th>model_id                                     </th><th style=\"text-align: right;\">  mean_residual_deviance</th><th style=\"text-align: right;\">   rmse</th><th style=\"text-align: right;\">        mse</th><th style=\"text-align: right;\">    mae</th><th style=\"text-align: right;\">   rmsle</th></tr>\n",
       "</thead>\n",
       "<tbody>\n",
       "<tr><td>XGBoost_3_AutoML_20190512_040937             </td><td style=\"text-align: right;\">             1.99985e+07</td><td style=\"text-align: right;\">4471.97</td><td style=\"text-align: right;\">1.99985e+07</td><td style=\"text-align: right;\">2408.43</td><td style=\"text-align: right;\">0.418593</td></tr>\n",
       "<tr><td>XGBoost_grid_1_AutoML_20190512_040937_model_1</td><td style=\"text-align: right;\">             2.02797e+07</td><td style=\"text-align: right;\">4503.29</td><td style=\"text-align: right;\">2.02797e+07</td><td style=\"text-align: right;\">2309.69</td><td style=\"text-align: right;\">0.418043</td></tr>\n",
       "<tr><td>XGBoost_grid_1_AutoML_20190512_040937_model_3</td><td style=\"text-align: right;\">             2.043e+07  </td><td style=\"text-align: right;\">4519.95</td><td style=\"text-align: right;\">2.043e+07  </td><td style=\"text-align: right;\">2472.84</td><td style=\"text-align: right;\">0.426693</td></tr>\n",
       "<tr><td>XGBoost_1_AutoML_20190512_040937             </td><td style=\"text-align: right;\">             2.05306e+07</td><td style=\"text-align: right;\">4531.07</td><td style=\"text-align: right;\">2.05306e+07</td><td style=\"text-align: right;\">2458.57</td><td style=\"text-align: right;\">0.423699</td></tr>\n",
       "<tr><td>XGBoost_grid_1_AutoML_20190512_040937_model_4</td><td style=\"text-align: right;\">             2.05339e+07</td><td style=\"text-align: right;\">4531.44</td><td style=\"text-align: right;\">2.05339e+07</td><td style=\"text-align: right;\">2585.55</td><td style=\"text-align: right;\">0.423268</td></tr>\n",
       "<tr><td>XGBoost_grid_1_AutoML_20190512_040937_model_5</td><td style=\"text-align: right;\">             2.05517e+07</td><td style=\"text-align: right;\">4533.4 </td><td style=\"text-align: right;\">2.05517e+07</td><td style=\"text-align: right;\">2584.39</td><td style=\"text-align: right;\">0.420026</td></tr>\n",
       "<tr><td>XGBoost_2_AutoML_20190512_040937             </td><td style=\"text-align: right;\">             2.10181e+07</td><td style=\"text-align: right;\">4584.55</td><td style=\"text-align: right;\">2.10181e+07</td><td style=\"text-align: right;\">2478.73</td><td style=\"text-align: right;\">0.441783</td></tr>\n",
       "<tr><td>GBM_2_AutoML_20190512_040937                 </td><td style=\"text-align: right;\">             2.19524e+07</td><td style=\"text-align: right;\">4685.34</td><td style=\"text-align: right;\">2.19524e+07</td><td style=\"text-align: right;\">2741.22</td><td style=\"text-align: right;\">0.473882</td></tr>\n",
       "<tr><td>GBM_4_AutoML_20190512_040937                 </td><td style=\"text-align: right;\">             2.26487e+07</td><td style=\"text-align: right;\">4759.06</td><td style=\"text-align: right;\">2.26487e+07</td><td style=\"text-align: right;\">2883.42</td><td style=\"text-align: right;\">0.475797</td></tr>\n",
       "<tr><td>XRT_1_AutoML_20190512_040937                 </td><td style=\"text-align: right;\">             2.29779e+07</td><td style=\"text-align: right;\">4793.52</td><td style=\"text-align: right;\">2.29779e+07</td><td style=\"text-align: right;\">2812.71</td><td style=\"text-align: right;\">0.446226</td></tr>\n",
       "</tbody>\n",
       "</table>"
      ]
     },
     "metadata": {},
     "output_type": "display_data"
    },
    {
     "data": {
      "text/plain": []
     },
     "execution_count": 15,
     "metadata": {},
     "output_type": "execute_result"
    }
   ],
   "source": [
    "from h2o.automl.autoh2o import H2OAutoML\n",
    "\n",
    "autom1_1 = H2OAutoML(max_runtime_secs = 60)\n",
    "autom1_1.train(x = input_var, \n",
    "               y = target_var, \n",
    "               training_frame = dtrain,\n",
    "               validation_frame = dvalid)\n",
    "autom1_1.leaderboard"
   ]
  },
  {
   "cell_type": "code",
   "execution_count": 16,
   "metadata": {},
   "outputs": [
    {
     "name": "stdout",
     "output_type": "stream",
     "text": [
      "Model Details\n",
      "=============\n",
      "H2OXGBoostEstimator :  XGBoost\n",
      "Model Key:  XGBoost_3_AutoML_20190512_040937\n",
      "\n",
      "\n",
      "ModelMetricsRegression: xgboost\n",
      "** Reported on train data. **\n",
      "\n",
      "MSE: 12188391.73287312\n",
      "RMSE: 3491.187725240956\n",
      "MAE: 1819.1937206060816\n",
      "RMSLE: 0.3021820933709707\n",
      "Mean Residual Deviance: 12188391.73287312\n",
      "\n",
      "ModelMetricsRegression: xgboost\n",
      "** Reported on validation data. **\n",
      "\n",
      "MSE: 19380121.92359663\n",
      "RMSE: 4402.285988392466\n",
      "MAE: 2431.2812163864355\n",
      "RMSLE: 0.40985324039544335\n",
      "Mean Residual Deviance: 19380121.92359663\n",
      "\n",
      "ModelMetricsRegression: xgboost\n",
      "** Reported on cross-validation data. **\n",
      "\n",
      "MSE: 19998514.578738146\n",
      "RMSE: 4471.969876769984\n",
      "MAE: 2408.4270772894056\n",
      "RMSLE: 0.41859298826412966\n",
      "Mean Residual Deviance: 19998514.578738146\n",
      "Cross-Validation Metrics Summary: \n"
     ]
    },
    {
     "data": {
      "text/html": [
       "<div style=\"overflow:auto\"><table style=\"width:50%\"><tr><td><b></b></td>\n",
       "<td><b>mean</b></td>\n",
       "<td><b>sd</b></td>\n",
       "<td><b>cv_1_valid</b></td>\n",
       "<td><b>cv_2_valid</b></td>\n",
       "<td><b>cv_3_valid</b></td>\n",
       "<td><b>cv_4_valid</b></td>\n",
       "<td><b>cv_5_valid</b></td></tr>\n",
       "<tr><td>mae</td>\n",
       "<td>2408.4575</td>\n",
       "<td>82.22321</td>\n",
       "<td>2379.3691</td>\n",
       "<td>2247.667</td>\n",
       "<td>2338.202</td>\n",
       "<td>2505.8438</td>\n",
       "<td>2571.2056</td></tr>\n",
       "<tr><td>mean_residual_deviance</td>\n",
       "<td>19996742.0000000</td>\n",
       "<td>1456113.6</td>\n",
       "<td>21690544.0000000</td>\n",
       "<td>2.03256E7</td>\n",
       "<td>1.75627E7</td>\n",
       "<td>17730960.0000000</td>\n",
       "<td>22673910.0000000</td></tr>\n",
       "<tr><td>mse</td>\n",
       "<td>19996742.0000000</td>\n",
       "<td>1456113.6</td>\n",
       "<td>21690544.0000000</td>\n",
       "<td>2.03256E7</td>\n",
       "<td>1.75627E7</td>\n",
       "<td>17730960.0000000</td>\n",
       "<td>22673910.0000000</td></tr>\n",
       "<tr><td>r2</td>\n",
       "<td>0.8629539</td>\n",
       "<td>0.0128701</td>\n",
       "<td>0.8761662</td>\n",
       "<td>0.8293369</td>\n",
       "<td>0.8804347</td>\n",
       "<td>0.8689921</td>\n",
       "<td>0.8598393</td></tr>\n",
       "<tr><td>residual_deviance</td>\n",
       "<td>19996742.0000000</td>\n",
       "<td>1456113.6</td>\n",
       "<td>21690544.0000000</td>\n",
       "<td>2.03256E7</td>\n",
       "<td>1.75627E7</td>\n",
       "<td>17730960.0000000</td>\n",
       "<td>22673910.0000000</td></tr>\n",
       "<tr><td>rmse</td>\n",
       "<td>4465.8037</td>\n",
       "<td>163.31085</td>\n",
       "<td>4657.3105</td>\n",
       "<td>4508.392</td>\n",
       "<td>4190.7876</td>\n",
       "<td>4210.8145</td>\n",
       "<td>4761.713</td></tr>\n",
       "<tr><td>rmsle</td>\n",
       "<td>0.4178980</td>\n",
       "<td>0.0173632</td>\n",
       "<td>0.3931448</td>\n",
       "<td>0.4487622</td>\n",
       "<td>0.4163728</td>\n",
       "<td>0.3888037</td>\n",
       "<td>0.4424067</td></tr></table></div>"
      ],
      "text/plain": [
       "                        mean         sd           cv_1_valid    cv_2_valid    cv_3_valid    cv_4_valid    cv_5_valid\n",
       "----------------------  -----------  -----------  ------------  ------------  ------------  ------------  ------------\n",
       "mae                     2408.46      82.2232      2379.37       2247.67       2338.2        2505.84       2571.21\n",
       "mean_residual_deviance  1.99967e+07  1.45611e+06  2.16905e+07   2.03256e+07   1.75627e+07   1.7731e+07    2.26739e+07\n",
       "mse                     1.99967e+07  1.45611e+06  2.16905e+07   2.03256e+07   1.75627e+07   1.7731e+07    2.26739e+07\n",
       "r2                      0.862954     0.0128701    0.876166      0.829337      0.880435      0.868992      0.859839\n",
       "residual_deviance       1.99967e+07  1.45611e+06  2.16905e+07   2.03256e+07   1.75627e+07   1.7731e+07    2.26739e+07\n",
       "rmse                    4465.8       163.311      4657.31       4508.39       4190.79       4210.81       4761.71\n",
       "rmsle                   0.417898     0.0173632    0.393145      0.448762      0.416373      0.388804      0.442407"
      ]
     },
     "metadata": {},
     "output_type": "display_data"
    },
    {
     "name": "stdout",
     "output_type": "stream",
     "text": [
      "Scoring History: \n"
     ]
    },
    {
     "data": {
      "text/html": [
       "<div style=\"overflow:auto\"><table style=\"width:50%\"><tr><td><b></b></td>\n",
       "<td><b>timestamp</b></td>\n",
       "<td><b>duration</b></td>\n",
       "<td><b>number_of_trees</b></td>\n",
       "<td><b>training_rmse</b></td>\n",
       "<td><b>training_mae</b></td>\n",
       "<td><b>training_deviance</b></td>\n",
       "<td><b>validation_rmse</b></td>\n",
       "<td><b>validation_mae</b></td>\n",
       "<td><b>validation_deviance</b></td></tr>\n",
       "<tr><td></td>\n",
       "<td>2019-05-12 04:09:49</td>\n",
       "<td> 1.424 sec</td>\n",
       "<td>0.0</td>\n",
       "<td>18177.7211428</td>\n",
       "<td>13492.4995221</td>\n",
       "<td>330429545.9456137</td>\n",
       "<td>16697.6769005</td>\n",
       "<td>12163.5761206</td>\n",
       "<td>278812413.8726478</td></tr>\n",
       "<tr><td></td>\n",
       "<td>2019-05-12 04:09:49</td>\n",
       "<td> 1.437 sec</td>\n",
       "<td>5.0</td>\n",
       "<td>14489.6258859</td>\n",
       "<td>10517.1184088</td>\n",
       "<td>209949258.3141274</td>\n",
       "<td>13360.9696652</td>\n",
       "<td>9442.7956112</td>\n",
       "<td>178515510.3948993</td></tr>\n",
       "<tr><td></td>\n",
       "<td>2019-05-12 04:09:49</td>\n",
       "<td> 1.445 sec</td>\n",
       "<td>10.0</td>\n",
       "<td>11629.2448929</td>\n",
       "<td>8212.8250074</td>\n",
       "<td>135239336.7801346</td>\n",
       "<td>10793.8649442</td>\n",
       "<td>7348.7856935</td>\n",
       "<td>116507520.4327936</td></tr>\n",
       "<tr><td></td>\n",
       "<td>2019-05-12 04:09:49</td>\n",
       "<td> 1.456 sec</td>\n",
       "<td>15.0</td>\n",
       "<td>9524.7875493</td>\n",
       "<td>6461.6344722</td>\n",
       "<td>90721577.8599965</td>\n",
       "<td>8939.2594595</td>\n",
       "<td>5801.1728716</td>\n",
       "<td>79910359.6848535</td></tr>\n",
       "<tr><td></td>\n",
       "<td>2019-05-12 04:09:49</td>\n",
       "<td> 1.465 sec</td>\n",
       "<td>20.0</td>\n",
       "<td>7934.0592981</td>\n",
       "<td>5154.6803694</td>\n",
       "<td>62949296.9456882</td>\n",
       "<td>7551.2098025</td>\n",
       "<td>4637.8066282</td>\n",
       "<td>57020769.4814139</td></tr>\n",
       "<tr><td></td>\n",
       "<td>2019-05-12 04:09:49</td>\n",
       "<td> 1.475 sec</td>\n",
       "<td>25.0</td>\n",
       "<td>6704.4212949</td>\n",
       "<td>4165.2130269</td>\n",
       "<td>44949264.8994307</td>\n",
       "<td>6542.8837743</td>\n",
       "<td>3818.5464557</td>\n",
       "<td>42809328.0843040</td></tr>\n",
       "<tr><td></td>\n",
       "<td>2019-05-12 04:09:49</td>\n",
       "<td> 1.487 sec</td>\n",
       "<td>30.0</td>\n",
       "<td>5943.4856046</td>\n",
       "<td>3498.7831522</td>\n",
       "<td>35325021.1325843</td>\n",
       "<td>5990.0352127</td>\n",
       "<td>3322.1573675</td>\n",
       "<td>35880521.8488155</td></tr>\n",
       "<tr><td></td>\n",
       "<td>2019-05-12 04:09:49</td>\n",
       "<td> 1.499 sec</td>\n",
       "<td>35.0</td>\n",
       "<td>5275.1239760</td>\n",
       "<td>2966.5255090</td>\n",
       "<td>27826932.9623086</td>\n",
       "<td>5481.3063175</td>\n",
       "<td>2918.3437860</td>\n",
       "<td>30044718.9462433</td></tr>\n",
       "<tr><td></td>\n",
       "<td>2019-05-12 04:09:49</td>\n",
       "<td> 1.512 sec</td>\n",
       "<td>40.0</td>\n",
       "<td>4770.2554825</td>\n",
       "<td>2572.7083012</td>\n",
       "<td>22755337.3687558</td>\n",
       "<td>5103.3954002</td>\n",
       "<td>2672.1420657</td>\n",
       "<td>26044644.6110038</td></tr>\n",
       "<tr><td></td>\n",
       "<td>2019-05-12 04:09:49</td>\n",
       "<td> 1.526 sec</td>\n",
       "<td>45.0</td>\n",
       "<td>4406.4372657</td>\n",
       "<td>2309.0745012</td>\n",
       "<td>19416689.3767899</td>\n",
       "<td>4842.0910831</td>\n",
       "<td>2525.6913260</td>\n",
       "<td>23445846.0570105</td></tr>\n",
       "<tr><td></td>\n",
       "<td>2019-05-12 04:09:49</td>\n",
       "<td> 1.542 sec</td>\n",
       "<td>50.0</td>\n",
       "<td>4171.3666799</td>\n",
       "<td>2145.1874512</td>\n",
       "<td>17400299.9783301</td>\n",
       "<td>4693.5552242</td>\n",
       "<td>2432.6839122</td>\n",
       "<td>22029460.6423823</td></tr>\n",
       "<tr><td></td>\n",
       "<td>2019-05-12 04:09:49</td>\n",
       "<td> 1.559 sec</td>\n",
       "<td>55.0</td>\n",
       "<td>3978.8097034</td>\n",
       "<td>2037.9950449</td>\n",
       "<td>15830926.6555008</td>\n",
       "<td>4581.7135559</td>\n",
       "<td>2380.2709525</td>\n",
       "<td>20992099.1080848</td></tr>\n",
       "<tr><td></td>\n",
       "<td>2019-05-12 04:09:49</td>\n",
       "<td> 1.577 sec</td>\n",
       "<td>60.0</td>\n",
       "<td>3815.2010158</td>\n",
       "<td>1950.8260595</td>\n",
       "<td>14555758.7910726</td>\n",
       "<td>4503.1300507</td>\n",
       "<td>2357.8616466</td>\n",
       "<td>20278180.2535115</td></tr>\n",
       "<tr><td></td>\n",
       "<td>2019-05-12 04:09:49</td>\n",
       "<td> 1.596 sec</td>\n",
       "<td>65.0</td>\n",
       "<td>3698.7268281</td>\n",
       "<td>1890.0256346</td>\n",
       "<td>13680580.1489756</td>\n",
       "<td>4443.8714877</td>\n",
       "<td>2356.1478625</td>\n",
       "<td>19747993.7988749</td></tr>\n",
       "<tr><td></td>\n",
       "<td>2019-05-12 04:09:50</td>\n",
       "<td> 1.617 sec</td>\n",
       "<td>70.0</td>\n",
       "<td>3620.3840959</td>\n",
       "<td>1864.4142958</td>\n",
       "<td>13107181.0021735</td>\n",
       "<td>4430.4969007</td>\n",
       "<td>2386.8195547</td>\n",
       "<td>19629302.7873698</td></tr>\n",
       "<tr><td></td>\n",
       "<td>2019-05-12 04:09:50</td>\n",
       "<td> 1.639 sec</td>\n",
       "<td>75.0</td>\n",
       "<td>3548.9930913</td>\n",
       "<td>1837.8871921</td>\n",
       "<td>12595351.9622608</td>\n",
       "<td>4401.3376931</td>\n",
       "<td>2397.2540030</td>\n",
       "<td>19371773.4887456</td></tr>\n",
       "<tr><td></td>\n",
       "<td>2019-05-12 04:09:50</td>\n",
       "<td> 1.663 sec</td>\n",
       "<td>80.0</td>\n",
       "<td>3501.1680672</td>\n",
       "<td>1824.0258721</td>\n",
       "<td>12258177.8349916</td>\n",
       "<td>4399.9598679</td>\n",
       "<td>2425.2821629</td>\n",
       "<td>19359646.8394344</td></tr>\n",
       "<tr><td></td>\n",
       "<td>2019-05-12 04:09:50</td>\n",
       "<td> 1.683 sec</td>\n",
       "<td>81.0</td>\n",
       "<td>3491.1877252</td>\n",
       "<td>1819.1937206</td>\n",
       "<td>12188391.7328731</td>\n",
       "<td>4402.2859884</td>\n",
       "<td>2431.2812164</td>\n",
       "<td>19380121.9235966</td></tr></table></div>"
      ],
      "text/plain": [
       "    timestamp            duration    number_of_trees    training_rmse    training_mae    training_deviance    validation_rmse    validation_mae    validation_deviance\n",
       "--  -------------------  ----------  -----------------  ---------------  --------------  -------------------  -----------------  ----------------  ---------------------\n",
       "    2019-05-12 04:09:49  1.424 sec   0                  18177.7          13492.5         3.3043e+08           16697.7            12163.6           2.78812e+08\n",
       "    2019-05-12 04:09:49  1.437 sec   5                  14489.6          10517.1         2.09949e+08          13361              9442.8            1.78516e+08\n",
       "    2019-05-12 04:09:49  1.445 sec   10                 11629.2          8212.83         1.35239e+08          10793.9            7348.79           1.16508e+08\n",
       "    2019-05-12 04:09:49  1.456 sec   15                 9524.79          6461.63         9.07216e+07          8939.26            5801.17           7.99104e+07\n",
       "    2019-05-12 04:09:49  1.465 sec   20                 7934.06          5154.68         6.29493e+07          7551.21            4637.81           5.70208e+07\n",
       "    2019-05-12 04:09:49  1.475 sec   25                 6704.42          4165.21         4.49493e+07          6542.88            3818.55           4.28093e+07\n",
       "    2019-05-12 04:09:49  1.487 sec   30                 5943.49          3498.78         3.5325e+07           5990.04            3322.16           3.58805e+07\n",
       "    2019-05-12 04:09:49  1.499 sec   35                 5275.12          2966.53         2.78269e+07          5481.31            2918.34           3.00447e+07\n",
       "    2019-05-12 04:09:49  1.512 sec   40                 4770.26          2572.71         2.27553e+07          5103.4             2672.14           2.60446e+07\n",
       "    2019-05-12 04:09:49  1.526 sec   45                 4406.44          2309.07         1.94167e+07          4842.09            2525.69           2.34458e+07\n",
       "    2019-05-12 04:09:49  1.542 sec   50                 4171.37          2145.19         1.74003e+07          4693.56            2432.68           2.20295e+07\n",
       "    2019-05-12 04:09:49  1.559 sec   55                 3978.81          2038            1.58309e+07          4581.71            2380.27           2.09921e+07\n",
       "    2019-05-12 04:09:49  1.577 sec   60                 3815.2           1950.83         1.45558e+07          4503.13            2357.86           2.02782e+07\n",
       "    2019-05-12 04:09:49  1.596 sec   65                 3698.73          1890.03         1.36806e+07          4443.87            2356.15           1.9748e+07\n",
       "    2019-05-12 04:09:50  1.617 sec   70                 3620.38          1864.41         1.31072e+07          4430.5             2386.82           1.96293e+07\n",
       "    2019-05-12 04:09:50  1.639 sec   75                 3548.99          1837.89         1.25954e+07          4401.34            2397.25           1.93718e+07\n",
       "    2019-05-12 04:09:50  1.663 sec   80                 3501.17          1824.03         1.22582e+07          4399.96            2425.28           1.93596e+07\n",
       "    2019-05-12 04:09:50  1.683 sec   81                 3491.19          1819.19         1.21884e+07          4402.29            2431.28           1.93801e+07"
      ]
     },
     "metadata": {},
     "output_type": "display_data"
    },
    {
     "name": "stdout",
     "output_type": "stream",
     "text": [
      "Variable Importances: \n"
     ]
    },
    {
     "data": {
      "text/html": [
       "<div style=\"overflow:auto\"><table style=\"width:50%\"><tr><td><b>variable</b></td>\n",
       "<td><b>relative_importance</b></td>\n",
       "<td><b>scaled_importance</b></td>\n",
       "<td><b>percentage</b></td></tr>\n",
       "<tr><td>smoker.no</td>\n",
       "<td>410118160384.0000000</td>\n",
       "<td>1.0</td>\n",
       "<td>0.4998553</td></tr>\n",
       "<tr><td>smoker.yes</td>\n",
       "<td>148989853696.0000000</td>\n",
       "<td>0.3632852</td>\n",
       "<td>0.1815900</td></tr>\n",
       "<tr><td>bmi</td>\n",
       "<td>135327956992.0000000</td>\n",
       "<td>0.3299731</td>\n",
       "<td>0.1649388</td></tr>\n",
       "<tr><td>age</td>\n",
       "<td>102283608064.0000000</td>\n",
       "<td>0.2494003</td>\n",
       "<td>0.1246641</td></tr>\n",
       "<tr><td>children</td>\n",
       "<td>10495990784.0000000</td>\n",
       "<td>0.0255926</td>\n",
       "<td>0.0127926</td></tr>\n",
       "<tr><td>region.northeast</td>\n",
       "<td>4246134272.0000000</td>\n",
       "<td>0.0103534</td>\n",
       "<td>0.0051752</td></tr>\n",
       "<tr><td>sex.female</td>\n",
       "<td>2467715584.0000000</td>\n",
       "<td>0.0060171</td>\n",
       "<td>0.0030077</td></tr>\n",
       "<tr><td>region.southeast</td>\n",
       "<td>1952590208.0000000</td>\n",
       "<td>0.0047610</td>\n",
       "<td>0.0023798</td></tr>\n",
       "<tr><td>sex.male</td>\n",
       "<td>1750199552.0000000</td>\n",
       "<td>0.0042675</td>\n",
       "<td>0.0021332</td></tr>\n",
       "<tr><td>region.southwest</td>\n",
       "<td>1433155328.0000000</td>\n",
       "<td>0.0034945</td>\n",
       "<td>0.0017467</td></tr>\n",
       "<tr><td>region.northwest</td>\n",
       "<td>1408465024.0000000</td>\n",
       "<td>0.0034343</td>\n",
       "<td>0.0017166</td></tr></table></div>"
      ],
      "text/plain": [
       "variable          relative_importance    scaled_importance    percentage\n",
       "----------------  ---------------------  -------------------  ------------\n",
       "smoker.no         4.10118e+11            1                    0.499855\n",
       "smoker.yes        1.4899e+11             0.363285             0.18159\n",
       "bmi               1.35328e+11            0.329973             0.164939\n",
       "age               1.02284e+11            0.2494               0.124664\n",
       "children          1.0496e+10             0.0255926            0.0127926\n",
       "region.northeast  4.24613e+09            0.0103534            0.00517522\n",
       "sex.female        2.46772e+09            0.00601708           0.00300767\n",
       "region.southeast  1.95259e+09            0.00476104           0.00237983\n",
       "sex.male          1.7502e+09             0.00426755           0.00213316\n",
       "region.southwest  1.43316e+09            0.00349449           0.00174674\n",
       "region.northwest  1.40847e+09            0.00343429           0.00171665"
      ]
     },
     "metadata": {},
     "output_type": "display_data"
    },
    {
     "data": {
      "text/plain": []
     },
     "execution_count": 16,
     "metadata": {},
     "output_type": "execute_result"
    }
   ],
   "source": [
    "autom1_1.leader"
   ]
  },
  {
   "cell_type": "code",
   "execution_count": 17,
   "metadata": {},
   "outputs": [
    {
     "name": "stdout",
     "output_type": "stream",
     "text": [
      "Cross-Validation Metrics Summary: \n"
     ]
    },
    {
     "data": {
      "text/html": [
       "<div style=\"overflow:auto\"><table style=\"width:50%\"><tr><td><b></b></td>\n",
       "<td><b>mean</b></td>\n",
       "<td><b>sd</b></td>\n",
       "<td><b>cv_1_valid</b></td>\n",
       "<td><b>cv_2_valid</b></td>\n",
       "<td><b>cv_3_valid</b></td>\n",
       "<td><b>cv_4_valid</b></td>\n",
       "<td><b>cv_5_valid</b></td></tr>\n",
       "<tr><td>mae</td>\n",
       "<td>2408.4575</td>\n",
       "<td>82.22321</td>\n",
       "<td>2379.3691</td>\n",
       "<td>2247.667</td>\n",
       "<td>2338.202</td>\n",
       "<td>2505.8438</td>\n",
       "<td>2571.2056</td></tr>\n",
       "<tr><td>mean_residual_deviance</td>\n",
       "<td>19996742.0000000</td>\n",
       "<td>1456113.6</td>\n",
       "<td>21690544.0000000</td>\n",
       "<td>2.03256E7</td>\n",
       "<td>1.75627E7</td>\n",
       "<td>17730960.0000000</td>\n",
       "<td>22673910.0000000</td></tr>\n",
       "<tr><td>mse</td>\n",
       "<td>19996742.0000000</td>\n",
       "<td>1456113.6</td>\n",
       "<td>21690544.0000000</td>\n",
       "<td>2.03256E7</td>\n",
       "<td>1.75627E7</td>\n",
       "<td>17730960.0000000</td>\n",
       "<td>22673910.0000000</td></tr>\n",
       "<tr><td>r2</td>\n",
       "<td>0.8629539</td>\n",
       "<td>0.0128701</td>\n",
       "<td>0.8761662</td>\n",
       "<td>0.8293369</td>\n",
       "<td>0.8804347</td>\n",
       "<td>0.8689921</td>\n",
       "<td>0.8598393</td></tr>\n",
       "<tr><td>residual_deviance</td>\n",
       "<td>19996742.0000000</td>\n",
       "<td>1456113.6</td>\n",
       "<td>21690544.0000000</td>\n",
       "<td>2.03256E7</td>\n",
       "<td>1.75627E7</td>\n",
       "<td>17730960.0000000</td>\n",
       "<td>22673910.0000000</td></tr>\n",
       "<tr><td>rmse</td>\n",
       "<td>4465.8037</td>\n",
       "<td>163.31085</td>\n",
       "<td>4657.3105</td>\n",
       "<td>4508.392</td>\n",
       "<td>4190.7876</td>\n",
       "<td>4210.8145</td>\n",
       "<td>4761.713</td></tr>\n",
       "<tr><td>rmsle</td>\n",
       "<td>0.4178980</td>\n",
       "<td>0.0173632</td>\n",
       "<td>0.3931448</td>\n",
       "<td>0.4487622</td>\n",
       "<td>0.4163728</td>\n",
       "<td>0.3888037</td>\n",
       "<td>0.4424067</td></tr></table></div>"
      ],
      "text/plain": [
       "                        mean         sd           cv_1_valid    cv_2_valid    cv_3_valid    cv_4_valid    cv_5_valid\n",
       "----------------------  -----------  -----------  ------------  ------------  ------------  ------------  ------------\n",
       "mae                     2408.46      82.2232      2379.37       2247.67       2338.2        2505.84       2571.21\n",
       "mean_residual_deviance  1.99967e+07  1.45611e+06  2.16905e+07   2.03256e+07   1.75627e+07   1.7731e+07    2.26739e+07\n",
       "mse                     1.99967e+07  1.45611e+06  2.16905e+07   2.03256e+07   1.75627e+07   1.7731e+07    2.26739e+07\n",
       "r2                      0.862954     0.0128701    0.876166      0.829337      0.880435      0.868992      0.859839\n",
       "residual_deviance       1.99967e+07  1.45611e+06  2.16905e+07   2.03256e+07   1.75627e+07   1.7731e+07    2.26739e+07\n",
       "rmse                    4465.8       163.311      4657.31       4508.39       4190.79       4210.81       4761.71\n",
       "rmsle                   0.417898     0.0173632    0.393145      0.448762      0.416373      0.388804      0.442407"
      ]
     },
     "metadata": {},
     "output_type": "display_data"
    },
    {
     "data": {
      "text/plain": []
     },
     "execution_count": 17,
     "metadata": {},
     "output_type": "execute_result"
    }
   ],
   "source": [
    "autom1_1.leader.cross_validation_metrics_summary()"
   ]
  },
  {
   "cell_type": "markdown",
   "metadata": {},
   "source": [
    "## Neural networks using kera and tensorflow"
   ]
  },
  {
   "cell_type": "code",
   "execution_count": 18,
   "metadata": {},
   "outputs": [
    {
     "name": "stderr",
     "output_type": "stream",
     "text": [
      "Using TensorFlow backend.\n",
      "/Users/miaocai/anaconda3/lib/python3.7/site-packages/sklearn/model_selection/_split.py:2179: FutureWarning: From version 0.21, test_size will always complement train_size unless both are specified.\n",
      "  FutureWarning)\n",
      "WARNING:tensorflow:From /Users/miaocai/anaconda3/lib/python3.7/site-packages/tensorflow/python/framework/op_def_library.py:263: colocate_with (from tensorflow.python.framework.ops) is deprecated and will be removed in a future version.\n",
      "Instructions for updating:\n",
      "Colocations handled automatically by placer.\n",
      "WARNING:tensorflow:From /Users/miaocai/anaconda3/lib/python3.7/site-packages/tensorflow/python/ops/math_ops.py:3066: to_int32 (from tensorflow.python.ops.math_ops) is deprecated and will be removed in a future version.\n",
      "Instructions for updating:\n",
      "Use tf.cast instead.\n"
     ]
    },
    {
     "data": {
      "text/plain": [
       "<keras.callbacks.History at 0x1a2d078f28>"
      ]
     },
     "execution_count": 18,
     "metadata": {},
     "output_type": "execute_result"
    }
   ],
   "source": [
    "from keras import models\n",
    "from keras import layers\n",
    "from keras import optimizers\n",
    "from sklearn import preprocessing\n",
    "from sklearn.model_selection import train_test_split\n",
    "import matplotlib.pyplot as plt\n",
    "\n",
    "d = pd.read_csv(\"insurance.csv\")\n",
    "col_types = d.dtypes.to_dict()\n",
    "col_types['age'] = 'float64'\n",
    "d = pd.read_csv(\"insurance.csv\", dtype=col_types)\n",
    "\n",
    "d_dummy = pd.get_dummies(d, drop_first = True)\n",
    "y = d_dummy['charges'].values\n",
    "X = d_dummy.drop('charges', axis = 1).values\n",
    "\n",
    "X_train0, X_test0 = train_test_split(\n",
    "    X, train_size = 0.8, random_state = 123)\n",
    "y_train0, y_test0 = train_test_split(\n",
    "    y, train_size = 0.8, random_state = 123)\n",
    "X_train1, X_valid1 = train_test_split(\n",
    "    X, train_size = 0.75, random_state = 123)\n",
    "y_train1, y_valid1 = train_test_split(\n",
    "    y, train_size = 0.75, random_state = 123)\n",
    "\n",
    "# logistic regression\n",
    "def nn_model1():\n",
    "    model = models.Sequential()\n",
    "    model.add(layers.Dense(64, activation = 'relu',\n",
    "                          input_dim = X_train1.shape[1]))\n",
    "    model.add(layers.Dense(1,\n",
    "                          activation = 'linear'))\n",
    "    model.compile(optimizer = 'rmsprop',\n",
    "                 loss = 'mse',\n",
    "                 metrics = ['mae'])\n",
    "    return model\n",
    "\n",
    "reg0 = nn_model1()\n",
    "reg0.fit(X_train1, y_train1, epochs = 200, \n",
    "         validation_data = [X_valid1, y_valid1],\n",
    "        verbose = 0)"
   ]
  },
  {
   "cell_type": "code",
   "execution_count": 19,
   "metadata": {},
   "outputs": [
    {
     "data": {
      "text/plain": [
       "125999988.09172483"
      ]
     },
     "execution_count": 19,
     "metadata": {},
     "output_type": "execute_result"
    }
   ],
   "source": [
    "reg0.history.history['loss'][199]"
   ]
  },
  {
   "cell_type": "code",
   "execution_count": 20,
   "metadata": {},
   "outputs": [
    {
     "data": {
      "text/plain": [
       "133231693.99402985"
      ]
     },
     "execution_count": 20,
     "metadata": {},
     "output_type": "execute_result"
    }
   ],
   "source": [
    "reg0.history.history['val_loss'][199]"
   ]
  },
  {
   "cell_type": "code",
   "execution_count": 21,
   "metadata": {
    "scrolled": true
   },
   "outputs": [
    {
     "data": {
      "text/plain": [
       "9078.39338123834"
      ]
     },
     "execution_count": 21,
     "metadata": {},
     "output_type": "execute_result"
    }
   ],
   "source": [
    "reg0.history.history['val_mean_absolute_error'][199]"
   ]
  },
  {
   "cell_type": "code",
   "execution_count": 22,
   "metadata": {},
   "outputs": [
    {
     "data": {
      "text/plain": [
       "[<matplotlib.lines.Line2D at 0x1a2d822ba8>]"
      ]
     },
     "execution_count": 22,
     "metadata": {},
     "output_type": "execute_result"
    },
    {
     "data": {
      "image/png": "[encoded data removed]",
      "text/plain": [
       "<Figure size 432x288 with 1 Axes>"
      ]
     },
     "metadata": {
      "needs_background": "light"
     },
     "output_type": "display_data"
    }
   ],
   "source": [
    "plt.plot(reg0.history.history['loss'], color = 'red')\n",
    "plt.plot(reg0.history.history['val_loss'], color = 'blue')"
   ]
  },
  {
   "cell_type": "code",
   "execution_count": 23,
   "metadata": {},
   "outputs": [
    {
     "data": {
      "text/plain": [
       "[<matplotlib.lines.Line2D at 0x1a2d7dbda0>]"
      ]
     },
     "execution_count": 23,
     "metadata": {},
     "output_type": "execute_result"
    },
    {
     "data": {
      "image/png": "[encoded data removed]",
      "text/plain": [
       "<Figure size 432x288 with 1 Axes>"
      ]
     },
     "metadata": {
      "needs_background": "light"
     },
     "output_type": "display_data"
    }
   ],
   "source": [
    "plt.plot(reg0.history.history['mean_absolute_error'], color = 'red')\n",
    "plt.plot(reg0.history.history['val_mean_absolute_error'], color = 'blue')"
   ]
  },
  {
   "cell_type": "code",
   "execution_count": 24,
   "metadata": {},
   "outputs": [
    {
     "name": "stderr",
     "output_type": "stream",
     "text": [
      "WARNING:tensorflow:From /Users/miaocai/anaconda3/lib/python3.7/site-packages/keras/backend/tensorflow_backend.py:3445: calling dropout (from tensorflow.python.ops.nn_ops) with keep_prob is deprecated and will be removed in a future version.\n",
      "Instructions for updating:\n",
      "Please use `rate` instead of `keep_prob`. Rate should be set to `rate = 1 - keep_prob`.\n"
     ]
    },
    {
     "data": {
      "text/plain": [
       "<keras.callbacks.History at 0x1a2d8c7048>"
      ]
     },
     "execution_count": 24,
     "metadata": {},
     "output_type": "execute_result"
    }
   ],
   "source": [
    "def nn_model2():\n",
    "    model = models.Sequential()\n",
    "    model.add(layers.Dense(64, activation = 'relu',\n",
    "                          input_dim = X_train1.shape[1]))\n",
    "    model.add(layers.Dropout(0.5))\n",
    "    model.add(layers.Dense(64, activation = 'relu'))\n",
    "    model.add(layers.Dropout(0.5))\n",
    "    model.add(layers.Dense(1, activation = 'linear'))\n",
    "    model.compile(optimizer = 'rmsprop',\n",
    "                 loss = 'mse',\n",
    "                 metrics = ['mae'])\n",
    "    return model\n",
    "\n",
    "reg2 = nn_model2()\n",
    "reg2.fit(X_train1, y_train1, epochs = 200, \n",
    "         validation_data = [X_valid1, y_valid1],\n",
    "        verbose = 0)"
   ]
  },
  {
   "cell_type": "code",
   "execution_count": 25,
   "metadata": {},
   "outputs": [
    {
     "data": {
      "text/plain": [
       "[<matplotlib.lines.Line2D at 0x1a2dde9eb8>]"
      ]
     },
     "execution_count": 25,
     "metadata": {},
     "output_type": "execute_result"
    },
    {
     "data": {
      "image/png": "[encoded data removed]",
      "text/plain": [
       "<Figure size 432x288 with 1 Axes>"
      ]
     },
     "metadata": {
      "needs_background": "light"
     },
     "output_type": "display_data"
    }
   ],
   "source": [
    "plt.plot(reg2.history.history['loss'], color = 'red')\n",
    "plt.plot(reg2.history.history['val_loss'], color = 'blue')"
   ]
  },
  {
   "cell_type": "code",
   "execution_count": 26,
   "metadata": {},
   "outputs": [
    {
     "data": {
      "text/plain": [
       "[<matplotlib.lines.Line2D at 0x1a2deb2550>]"
      ]
     },
     "execution_count": 26,
     "metadata": {},
     "output_type": "execute_result"
    },
    {
     "data": {
      "image/png": "[encoded data removed]",
      "text/plain": [
       "<Figure size 432x288 with 1 Axes>"
      ]
     },
     "metadata": {
      "needs_background": "light"
     },
     "output_type": "display_data"
    }
   ],
   "source": [
    "plt.plot(reg2.history.history['mean_absolute_error'], color = 'red')\n",
    "plt.plot(reg2.history.history['val_mean_absolute_error'], color = 'blue')"
   ]
  },
  {
   "cell_type": "code",
   "execution_count": 27,
   "metadata": {},
   "outputs": [],
   "source": [
    "from keras.regularizers import l1\n",
    "\n",
    "def nn_model3(l1_penalty):\n",
    "    model = models.Sequential()\n",
    "    model.add(layers.Dense(64, activation = 'relu',\n",
    "                           kernel_regularizer = \n",
    "                               l1(l1_penalty),\n",
    "                          input_dim = X_train1.shape[1]))\n",
    "    model.add(layers.Dropout(0.5))\n",
    "    model.add(layers.Dense(64, activation = 'relu', \n",
    "                          kernel_regularizer = l1(l1_penalty)))\n",
    "    model.add(layers.Dropout(0.5))\n",
    "    model.add(layers.Dense(1, activation = 'linear'))\n",
    "    model.compile(optimizer = 'rmsprop',\n",
    "                 loss = 'mse',\n",
    "                 metrics = ['mae'])\n",
    "    return model"
   ]
  },
  {
   "cell_type": "code",
   "execution_count": 28,
   "metadata": {},
   "outputs": [
    {
     "data": {
      "text/plain": [
       "[<matplotlib.lines.Line2D at 0x1a2e446208>]"
      ]
     },
     "execution_count": 28,
     "metadata": {},
     "output_type": "execute_result"
    },
    {
     "data": {
      "image/png": "[encoded data removed]",
      "text/plain": [
       "<Figure size 432x288 with 1 Axes>"
      ]
     },
     "metadata": {
      "needs_background": "light"
     },
     "output_type": "display_data"
    }
   ],
   "source": [
    "reg3 = nn_model3(0.1)\n",
    "reg3.fit(X_train1, y_train1, epochs = 200, \n",
    "         validation_data = [X_valid1, y_valid1],\n",
    "        verbose = 0)\n",
    "plt.plot(reg3.history.history['loss'], color = 'red')\n",
    "plt.plot(reg3.history.history['val_loss'], color = 'blue')"
   ]
  },
  {
   "cell_type": "code",
   "execution_count": 29,
   "metadata": {},
   "outputs": [
    {
     "data": {
      "text/plain": [
       "[<matplotlib.lines.Line2D at 0x1a2e51b9e8>]"
      ]
     },
     "execution_count": 29,
     "metadata": {},
     "output_type": "execute_result"
    },
    {
     "data": {
      "image/png": "[encoded data removed]",
      "text/plain": [
       "<Figure size 432x288 with 1 Axes>"
      ]
     },
     "metadata": {
      "needs_background": "light"
     },
     "output_type": "display_data"
    }
   ],
   "source": [
    "plt.plot(reg3.history.history['mean_absolute_error'], color = 'red')\n",
    "plt.plot(reg3.history.history['val_mean_absolute_error'], color = 'blue')"
   ]
  },
  {
   "cell_type": "code",
   "execution_count": 30,
   "metadata": {},
   "outputs": [
    {
     "data": {
      "text/plain": [
       "[<matplotlib.lines.Line2D at 0x1a2eab65f8>]"
      ]
     },
     "execution_count": 30,
     "metadata": {},
     "output_type": "execute_result"
    },
    {
     "data": {
      "image/png": "[encoded data removed]",
      "text/plain": [
       "<Figure size 432x288 with 1 Axes>"
      ]
     },
     "metadata": {
      "needs_background": "light"
     },
     "output_type": "display_data"
    }
   ],
   "source": [
    "reg3 = nn_model3(0.2)\n",
    "reg3.fit(X_train1, y_train1, epochs = 200, \n",
    "         validation_data = [X_valid1, y_valid1],\n",
    "        verbose = 0)\n",
    "plt.plot(reg3.history.history['loss'], color = 'red')\n",
    "plt.plot(reg3.history.history['val_loss'], color = 'blue')"
   ]
  },
  {
   "cell_type": "code",
   "execution_count": 31,
   "metadata": {},
   "outputs": [
    {
     "data": {
      "text/plain": [
       "[<matplotlib.lines.Line2D at 0x1a2eb15cf8>]"
      ]
     },
     "execution_count": 31,
     "metadata": {},
     "output_type": "execute_result"
    },
    {
     "data": {
      "image/png": "[encoded data removed]",
      "text/plain": [
       "<Figure size 432x288 with 1 Axes>"
      ]
     },
     "metadata": {
      "needs_background": "light"
     },
     "output_type": "display_data"
    }
   ],
   "source": [
    "plt.plot(reg3.history.history['mean_absolute_error'], color = 'red')\n",
    "plt.plot(reg3.history.history['val_mean_absolute_error'], color = 'blue')"
   ]
  },
  {
   "cell_type": "code",
   "execution_count": 32,
   "metadata": {},
   "outputs": [
    {
     "data": {
      "text/plain": [
       "[<matplotlib.lines.Line2D at 0x1a2f0ebeb8>]"
      ]
     },
     "execution_count": 32,
     "metadata": {},
     "output_type": "execute_result"
    },
    {
     "data": {
      "image/png": "[encoded data removed]",
      "text/plain": [
       "<Figure size 432x288 with 1 Axes>"
      ]
     },
     "metadata": {
      "needs_background": "light"
     },
     "output_type": "display_data"
    }
   ],
   "source": [
    "reg3 = nn_model3(0.3)\n",
    "reg3.fit(X_train1, y_train1, epochs = 200, \n",
    "         validation_data = [X_valid1, y_valid1],\n",
    "        verbose = 0)\n",
    "plt.plot(reg3.history.history['loss'], color = 'red')\n",
    "plt.plot(reg3.history.history['val_loss'], color = 'blue')"
   ]
  },
  {
   "cell_type": "code",
   "execution_count": 33,
   "metadata": {},
   "outputs": [
    {
     "data": {
      "text/plain": [
       "[<matplotlib.lines.Line2D at 0x1a2f156630>]"
      ]
     },
     "execution_count": 33,
     "metadata": {},
     "output_type": "execute_result"
    },
    {
     "data": {
      "image/png": "[encoded data removed]",
      "text/plain": [
       "<Figure size 432x288 with 1 Axes>"
      ]
     },
     "metadata": {
      "needs_background": "light"
     },
     "output_type": "display_data"
    }
   ],
   "source": [
    "plt.plot(reg3.history.history['mean_absolute_error'], color = 'red')\n",
    "plt.plot(reg3.history.history['val_mean_absolute_error'], color = 'blue')"
   ]
  },
  {
   "cell_type": "markdown",
   "metadata": {},
   "source": [
    "# Conclusion"
   ]
  },
  {
   "cell_type": "code",
   "execution_count": null,
   "metadata": {},
   "outputs": [],
   "source": []
  },
  {
   "cell_type": "code",
   "execution_count": null,
   "metadata": {},
   "outputs": [],
   "source": []
  },
  {
   "cell_type": "code",
   "execution_count": null,
   "metadata": {},
   "outputs": [],
   "source": []
  }
 ],
 "metadata": {
  "kernelspec": {
   "display_name": "Python 3",
   "language": "python",
   "name": "python3"
  },
  "language_info": {
   "codemirror_mode": {
    "name": "ipython",
    "version": 3
   },
   "file_extension": ".py",
   "mimetype": "text/x-python",
   "name": "python",
   "nbconvert_exporter": "python",
   "pygments_lexer": "ipython3",
   "version": "3.7.1"
  }
 },
 "nbformat": 4,
 "nbformat_minor": 2
}
