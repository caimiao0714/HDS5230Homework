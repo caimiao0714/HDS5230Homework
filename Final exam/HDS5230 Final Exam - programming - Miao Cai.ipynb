{
 "cells": [
  {
   "cell_type": "markdown",
   "metadata": {},
   "source": [
    "# HDS 5230 High Performance Computing\n",
    "\n",
    "## Final Exam - Progamming Part\n",
    "\n",
    "\n",
    "*Miao Cai* <miao.cai@slu.edu>"
   ]
  },
  {
   "cell_type": "markdown",
   "metadata": {},
   "source": [
    "# Introduction\n",
    "\n",
    "The big goal of this project is to use the provided dataset on health insurance charges to create a model that predicts charges as accurately as possible, based on the patient traits of age, sex, bmi, children, smoker, and region. As I generate this model, I performed and documented initial data quality checks, exploratory data analysis, and all of the models I tried to fit."
   ]
  },
  {
   "cell_type": "markdown",
   "metadata": {},
   "source": [
    "# Methods summary\n",
    "\n",
    "All the data cleaning, visualization, and modeling were conducted in Python, and this reported was wrote in jupyternotebook. The Python session and package version information is shown below."
   ]
  },
  {
   "cell_type": "code",
   "execution_count": 38,
   "metadata": {},
   "outputs": [
    {
     "name": "stdout",
     "output_type": "stream",
     "text": [
      "3.7.1 (default, Dec 14 2018, 13:28:58) \n",
      "[Clang 4.0.1 (tags/RELEASE_401/final)]\n",
      "Pandas version: 0.23.4\n",
      "Numpy version:1.15.4\n",
      "Seaborn version:0.9.0\n",
      "h2o version:3.22.1.3\n",
      "My working directory:\n",
      "/Users/miaocai/Dropbox/@2018 SPRING HDS5230 High performance computing/HDS5230Homework/Final exam\n"
     ]
    }
   ],
   "source": [
    "import os\n",
    "import sys\n",
    "import pathlib\n",
    "from tableone import TableOne\n",
    "import pandas as pd\n",
    "import numpy as np\n",
    "import seaborn as sns\n",
    "import h2o\n",
    "from h2o.estimators.glm import H2OGeneralizedLinearEstimator\n",
    "\n",
    "print(sys.version)\n",
    "print(\"Pandas version: {0}\".format(pd.__version__))\n",
    "print(\"Numpy version:{0}\".format(np.__version__))\n",
    "print(\"Seaborn version:{0}\".format(sns.__version__))\n",
    "print(\"h2o version:{0}\".format(h2o.__version__))\n",
    "print(\"My working directory:\\n\" + os.getcwd())"
   ]
  },
  {
   "cell_type": "markdown",
   "metadata": {},
   "source": [
    "### Loss function\n",
    "\n",
    "I pick the loss function as the mean absolute error (MAE). I chose this loss function since the outcome variable charges are highly right-skewed. Using the most commonly used mean square error (MSE) will not be as robust as MAE since the error will be squared, which is strongly influenced by outliers.\n",
    "\n",
    "### Initiate h2o and read data"
   ]
  },
  {
   "cell_type": "code",
   "execution_count": 39,
   "metadata": {},
   "outputs": [
    {
     "name": "stdout",
     "output_type": "stream",
     "text": [
      "Checking whether there is an H2O instance running at http://localhost:54321. connected.\n",
      "Warning: Your H2O cluster version is too old (3 months and 17 days)! Please download and install the latest version from http://h2o.ai/download/\n"
     ]
    },
    {
     "data": {
      "text/html": [
       "<div style=\"overflow:auto\"><table style=\"width:50%\"><tr><td>H2O cluster uptime:</td>\n",
       "<td>18 hours 33 mins</td></tr>\n",
       "<tr><td>H2O cluster timezone:</td>\n",
       "<td>America/Chicago</td></tr>\n",
       "<tr><td>H2O data parsing timezone:</td>\n",
       "<td>UTC</td></tr>\n",
       "<tr><td>H2O cluster version:</td>\n",
       "<td>3.22.1.3</td></tr>\n",
       "<tr><td>H2O cluster version age:</td>\n",
       "<td>3 months and 17 days !!!</td></tr>\n",
       "<tr><td>H2O cluster name:</td>\n",
       "<td>H2O_from_python_miaocai_k7904q</td></tr>\n",
       "<tr><td>H2O cluster total nodes:</td>\n",
       "<td>1</td></tr>\n",
       "<tr><td>H2O cluster free memory:</td>\n",
       "<td>1.963 Gb</td></tr>\n",
       "<tr><td>H2O cluster total cores:</td>\n",
       "<td>8</td></tr>\n",
       "<tr><td>H2O cluster allowed cores:</td>\n",
       "<td>8</td></tr>\n",
       "<tr><td>H2O cluster status:</td>\n",
       "<td>locked, healthy</td></tr>\n",
       "<tr><td>H2O connection url:</td>\n",
       "<td>http://localhost:54321</td></tr>\n",
       "<tr><td>H2O connection proxy:</td>\n",
       "<td>None</td></tr>\n",
       "<tr><td>H2O internal security:</td>\n",
       "<td>False</td></tr>\n",
       "<tr><td>H2O API Extensions:</td>\n",
       "<td>XGBoost, Algos, AutoML, Core V3, Core V4</td></tr>\n",
       "<tr><td>Python version:</td>\n",
       "<td>3.7.1 final</td></tr></table></div>"
      ],
      "text/plain": [
       "--------------------------  ----------------------------------------\n",
       "H2O cluster uptime:         18 hours 33 mins\n",
       "H2O cluster timezone:       America/Chicago\n",
       "H2O data parsing timezone:  UTC\n",
       "H2O cluster version:        3.22.1.3\n",
       "H2O cluster version age:    3 months and 17 days !!!\n",
       "H2O cluster name:           H2O_from_python_miaocai_k7904q\n",
       "H2O cluster total nodes:    1\n",
       "H2O cluster free memory:    1.963 Gb\n",
       "H2O cluster total cores:    8\n",
       "H2O cluster allowed cores:  8\n",
       "H2O cluster status:         locked, healthy\n",
       "H2O connection url:         http://localhost:54321\n",
       "H2O connection proxy:\n",
       "H2O internal security:      False\n",
       "H2O API Extensions:         XGBoost, Algos, AutoML, Core V3, Core V4\n",
       "Python version:             3.7.1 final\n",
       "--------------------------  ----------------------------------------"
      ]
     },
     "metadata": {},
     "output_type": "display_data"
    }
   ],
   "source": [
    "h2o.init(ip='localhost', port=54321, nthreads=-1, max_mem_size='2G')"
   ]
  },
  {
   "cell_type": "code",
   "execution_count": 40,
   "metadata": {},
   "outputs": [
    {
     "name": "stdout",
     "output_type": "stream",
     "text": [
      "Parse progress: |█████████████████████████████████████████████████████████| 100%\n"
     ]
    },
    {
     "data": {
      "text/html": [
       "<table>\n",
       "<thead>\n",
       "<tr><th style=\"text-align: right;\">  age</th><th>sex   </th><th style=\"text-align: right;\">   bmi</th><th style=\"text-align: right;\">  children</th><th>smoker  </th><th>region   </th><th style=\"text-align: right;\">  charges</th></tr>\n",
       "</thead>\n",
       "<tbody>\n",
       "<tr><td style=\"text-align: right;\">   19</td><td>female</td><td style=\"text-align: right;\">27.9  </td><td style=\"text-align: right;\">         0</td><td>yes     </td><td>southwest</td><td style=\"text-align: right;\"> 16884.9 </td></tr>\n",
       "<tr><td style=\"text-align: right;\">   18</td><td>male  </td><td style=\"text-align: right;\">33.77 </td><td style=\"text-align: right;\">         1</td><td>no      </td><td>southeast</td><td style=\"text-align: right;\">  1725.55</td></tr>\n",
       "<tr><td style=\"text-align: right;\">   28</td><td>male  </td><td style=\"text-align: right;\">33    </td><td style=\"text-align: right;\">         3</td><td>no      </td><td>southeast</td><td style=\"text-align: right;\">  4449.46</td></tr>\n",
       "<tr><td style=\"text-align: right;\">   33</td><td>male  </td><td style=\"text-align: right;\">22.705</td><td style=\"text-align: right;\">         0</td><td>no      </td><td>northwest</td><td style=\"text-align: right;\"> 21984.5 </td></tr>\n",
       "<tr><td style=\"text-align: right;\">   32</td><td>male  </td><td style=\"text-align: right;\">28.88 </td><td style=\"text-align: right;\">         0</td><td>no      </td><td>northwest</td><td style=\"text-align: right;\">  3866.86</td></tr>\n",
       "<tr><td style=\"text-align: right;\">   31</td><td>female</td><td style=\"text-align: right;\">25.74 </td><td style=\"text-align: right;\">         0</td><td>no      </td><td>southeast</td><td style=\"text-align: right;\">  3756.62</td></tr>\n",
       "<tr><td style=\"text-align: right;\">   46</td><td>female</td><td style=\"text-align: right;\">33.44 </td><td style=\"text-align: right;\">         1</td><td>no      </td><td>southeast</td><td style=\"text-align: right;\">  8240.59</td></tr>\n",
       "<tr><td style=\"text-align: right;\">   37</td><td>female</td><td style=\"text-align: right;\">27.74 </td><td style=\"text-align: right;\">         3</td><td>no      </td><td>northwest</td><td style=\"text-align: right;\">  7281.51</td></tr>\n",
       "<tr><td style=\"text-align: right;\">   37</td><td>male  </td><td style=\"text-align: right;\">29.83 </td><td style=\"text-align: right;\">         2</td><td>no      </td><td>northeast</td><td style=\"text-align: right;\">  6406.41</td></tr>\n",
       "<tr><td style=\"text-align: right;\">   60</td><td>female</td><td style=\"text-align: right;\">25.84 </td><td style=\"text-align: right;\">         0</td><td>no      </td><td>northwest</td><td style=\"text-align: right;\"> 28923.1 </td></tr>\n",
       "</tbody>\n",
       "</table>"
      ]
     },
     "metadata": {},
     "output_type": "display_data"
    },
    {
     "data": {
      "text/plain": []
     },
     "execution_count": 40,
     "metadata": {},
     "output_type": "execute_result"
    }
   ],
   "source": [
    "d0 = h2o.import_file(\"insurance.csv\")\n",
    "d0"
   ]
  },
  {
   "cell_type": "code",
   "execution_count": 41,
   "metadata": {},
   "outputs": [
    {
     "name": "stdout",
     "output_type": "stream",
     "text": [
      "The shape of the DataFrame is:\n",
      "(1338, 7)\n"
     ]
    },
    {
     "data": {
      "text/plain": [
       "[(0.0, 'age'),\n",
       " (0.0, 'sex'),\n",
       " (0.0, 'bmi'),\n",
       " (0.0, 'children'),\n",
       " (0.0, 'smoker'),\n",
       " (0.0, 'region'),\n",
       " (0.0, 'charges')]"
      ]
     },
     "execution_count": 41,
     "metadata": {},
     "output_type": "execute_result"
    }
   ],
   "source": [
    "print(\"The shape of the DataFrame is:\")\n",
    "print(d0.shape)\n",
    "list(zip(d0.nacnt(), d0.names))"
   ]
  },
  {
   "cell_type": "markdown",
   "metadata": {},
   "source": [
    "After reading the .csv file by using h2o, I found that there are no missing values in the data, which is great! "
   ]
  },
  {
   "cell_type": "markdown",
   "metadata": {},
   "source": [
    "### Split into train/validation/testing splits\n",
    "\n",
    "We then need to convert some categorical variables into factors, and split the data into train, test, and validation sets."
   ]
  },
  {
   "cell_type": "code",
   "execution_count": 42,
   "metadata": {},
   "outputs": [],
   "source": [
    "d0[['sex', 'smoker', 'region']] = d0[['sex', 'smoker', 'region']].asfactor()\n",
    "dtrain, dtest, dvalid = \\\n",
    "    d0.split_frame([0.7, 0.15], seed = 666)"
   ]
  },
  {
   "cell_type": "markdown",
   "metadata": {},
   "source": [
    "# Results\n",
    "\n",
    "## Summary statistics of model input variables"
   ]
  },
  {
   "cell_type": "code",
   "execution_count": 43,
   "metadata": {},
   "outputs": [
    {
     "data": {
      "text/html": [
       "<div>\n",
       "<style scoped>\n",
       "    .dataframe tbody tr th:only-of-type {\n",
       "        vertical-align: middle;\n",
       "    }\n",
       "\n",
       "    .dataframe tbody tr th {\n",
       "        vertical-align: top;\n",
       "    }\n",
       "\n",
       "    .dataframe thead tr th {\n",
       "        text-align: left;\n",
       "    }\n",
       "\n",
       "    .dataframe thead tr:last-of-type th {\n",
       "        text-align: right;\n",
       "    }\n",
       "</style>\n",
       "<table border=\"1\" class=\"dataframe\">\n",
       "  <thead>\n",
       "    <tr>\n",
       "      <th></th>\n",
       "      <th></th>\n",
       "      <th colspan=\"5\" halign=\"left\">Grouped by sex</th>\n",
       "    </tr>\n",
       "    <tr>\n",
       "      <th></th>\n",
       "      <th></th>\n",
       "      <th>isnull</th>\n",
       "      <th>female</th>\n",
       "      <th>male</th>\n",
       "      <th>pval</th>\n",
       "      <th>ptest</th>\n",
       "    </tr>\n",
       "    <tr>\n",
       "      <th>variable</th>\n",
       "      <th>level</th>\n",
       "      <th></th>\n",
       "      <th></th>\n",
       "      <th></th>\n",
       "      <th></th>\n",
       "      <th></th>\n",
       "    </tr>\n",
       "  </thead>\n",
       "  <tbody>\n",
       "    <tr>\n",
       "      <th>n</th>\n",
       "      <th></th>\n",
       "      <td></td>\n",
       "      <td>662</td>\n",
       "      <td>676</td>\n",
       "      <td></td>\n",
       "      <td></td>\n",
       "    </tr>\n",
       "    <tr>\n",
       "      <th>age, mean (SD)</th>\n",
       "      <th></th>\n",
       "      <td>0</td>\n",
       "      <td>39.5 (14.1)</td>\n",
       "      <td>38.9 (14.1)</td>\n",
       "      <td>0.446</td>\n",
       "      <td>Two Sample T-test</td>\n",
       "    </tr>\n",
       "    <tr>\n",
       "      <th>bmi, mean (SD)</th>\n",
       "      <th></th>\n",
       "      <td>0</td>\n",
       "      <td>30.4 (6.0)</td>\n",
       "      <td>30.9 (6.1)</td>\n",
       "      <td>0.090</td>\n",
       "      <td>Two Sample T-test</td>\n",
       "    </tr>\n",
       "    <tr>\n",
       "      <th rowspan=\"6\" valign=\"top\">children, n (%)</th>\n",
       "      <th>0</th>\n",
       "      <td>0</td>\n",
       "      <td>289 (43.7)</td>\n",
       "      <td>285 (42.2)</td>\n",
       "      <td>0.981</td>\n",
       "      <td>Chi-squared</td>\n",
       "    </tr>\n",
       "    <tr>\n",
       "      <th>1</th>\n",
       "      <td></td>\n",
       "      <td>158 (23.9)</td>\n",
       "      <td>166 (24.6)</td>\n",
       "      <td></td>\n",
       "      <td></td>\n",
       "    </tr>\n",
       "    <tr>\n",
       "      <th>2</th>\n",
       "      <td></td>\n",
       "      <td>119 (18.0)</td>\n",
       "      <td>121 (17.9)</td>\n",
       "      <td></td>\n",
       "      <td></td>\n",
       "    </tr>\n",
       "    <tr>\n",
       "      <th>3</th>\n",
       "      <td></td>\n",
       "      <td>77 (11.6)</td>\n",
       "      <td>80 (11.8)</td>\n",
       "      <td></td>\n",
       "      <td></td>\n",
       "    </tr>\n",
       "    <tr>\n",
       "      <th>4</th>\n",
       "      <td></td>\n",
       "      <td>11 (1.7)</td>\n",
       "      <td>14 (2.1)</td>\n",
       "      <td></td>\n",
       "      <td></td>\n",
       "    </tr>\n",
       "    <tr>\n",
       "      <th>5</th>\n",
       "      <td></td>\n",
       "      <td>8 (1.2)</td>\n",
       "      <td>10 (1.5)</td>\n",
       "      <td></td>\n",
       "      <td></td>\n",
       "    </tr>\n",
       "    <tr>\n",
       "      <th rowspan=\"2\" valign=\"top\">smoker, n (%)</th>\n",
       "      <th>no</th>\n",
       "      <td>0</td>\n",
       "      <td>547 (82.6)</td>\n",
       "      <td>517 (76.5)</td>\n",
       "      <td>0.007</td>\n",
       "      <td>Chi-squared</td>\n",
       "    </tr>\n",
       "    <tr>\n",
       "      <th>yes</th>\n",
       "      <td></td>\n",
       "      <td>115 (17.4)</td>\n",
       "      <td>159 (23.5)</td>\n",
       "      <td></td>\n",
       "      <td></td>\n",
       "    </tr>\n",
       "    <tr>\n",
       "      <th rowspan=\"4\" valign=\"top\">region, n (%)</th>\n",
       "      <th>northeast</th>\n",
       "      <td>0</td>\n",
       "      <td>161 (24.3)</td>\n",
       "      <td>163 (24.1)</td>\n",
       "      <td>0.933</td>\n",
       "      <td>Chi-squared</td>\n",
       "    </tr>\n",
       "    <tr>\n",
       "      <th>northwest</th>\n",
       "      <td></td>\n",
       "      <td>164 (24.8)</td>\n",
       "      <td>161 (23.8)</td>\n",
       "      <td></td>\n",
       "      <td></td>\n",
       "    </tr>\n",
       "    <tr>\n",
       "      <th>southeast</th>\n",
       "      <td></td>\n",
       "      <td>175 (26.4)</td>\n",
       "      <td>189 (28.0)</td>\n",
       "      <td></td>\n",
       "      <td></td>\n",
       "    </tr>\n",
       "    <tr>\n",
       "      <th>southwest</th>\n",
       "      <td></td>\n",
       "      <td>162 (24.5)</td>\n",
       "      <td>163 (24.1)</td>\n",
       "      <td></td>\n",
       "      <td></td>\n",
       "    </tr>\n",
       "  </tbody>\n",
       "</table>\n",
       "</div><br />[1] Warning, Hartigan's Dip Test reports possible multimodal distributions for: age.<br />[2] Warning, test for normality reports non-normal distributions for: age.<br />"
      ],
      "text/plain": [
       "                          Grouped by sex                                                    \n",
       "                                  isnull       female         male   pval              ptest\n",
       "variable        level                                                                       \n",
       "n                                                 662          676                          \n",
       "age, mean (SD)                         0  39.5 (14.1)  38.9 (14.1)  0.446  Two Sample T-test\n",
       "bmi, mean (SD)                         0   30.4 (6.0)   30.9 (6.1)  0.090  Two Sample T-test\n",
       "children, n (%) 0                      0   289 (43.7)   285 (42.2)  0.981        Chi-squared\n",
       "                1                          158 (23.9)   166 (24.6)                          \n",
       "                2                          119 (18.0)   121 (17.9)                          \n",
       "                3                           77 (11.6)    80 (11.8)                          \n",
       "                4                            11 (1.7)     14 (2.1)                          \n",
       "                5                             8 (1.2)     10 (1.5)                          \n",
       "smoker, n (%)   no                     0   547 (82.6)   517 (76.5)  0.007        Chi-squared\n",
       "                yes                        115 (17.4)   159 (23.5)                          \n",
       "region, n (%)   northeast              0   161 (24.3)   163 (24.1)  0.933        Chi-squared\n",
       "                northwest                  164 (24.8)   161 (23.8)                          \n",
       "                southeast                  175 (26.4)   189 (28.0)                          \n",
       "                southwest                  162 (24.5)   163 (24.1)                          \n",
       "[1] Warning, Hartigan's Dip Test reports possible multimodal distributions for: age.\n",
       "[2] Warning, test for normality reports non-normal distributions for: age."
      ]
     },
     "execution_count": 43,
     "metadata": {},
     "output_type": "execute_result"
    }
   ],
   "source": [
    "d = pd.read_csv(\"insurance.csv\")\n",
    "col_types = d.dtypes.to_dict()\n",
    "col_types['age'] = 'float64'\n",
    "d = pd.read_csv(\"insurance.csv\", dtype=col_types)\n",
    "\n",
    "overall_table = TableOne(\n",
    "    d, columns = ['age', 'bmi', 'children', 'smoker', 'region'], \n",
    "    categorical = ['children', 'smoker', 'region'], \n",
    "    groupby = 'sex', label_suffix=True, pval = True)\n",
    "overall_table"
   ]
  },
  {
   "cell_type": "markdown",
   "metadata": {},
   "source": [
    "## Descriptive analysis of the outcome variable charges"
   ]
  },
  {
   "cell_type": "code",
   "execution_count": 44,
   "metadata": {},
   "outputs": [
    {
     "name": "stderr",
     "output_type": "stream",
     "text": [
      "/Users/miaocai/anaconda3/lib/python3.7/site-packages/scipy/stats/stats.py:1713: FutureWarning: Using a non-tuple sequence for multidimensional indexing is deprecated; use `arr[tuple(seq)]` instead of `arr[seq]`. In the future this will be interpreted as an array index, `arr[np.array(seq)]`, which will result either in an error or a different result.\n",
      "  return np.add.reduce(sorted[indexer] * weights, axis=axis) / sumval\n"
     ]
    },
    {
     "data": {
      "text/plain": [
       "<matplotlib.axes._subplots.AxesSubplot at 0x1a3997ec50>"
      ]
     },
     "execution_count": 44,
     "metadata": {},
     "output_type": "execute_result"
    },
    {
     "data": {
      "image/png": "[encoded data removed]",
      "text/plain": [
       "<Figure size 432x288 with 1 Axes>"
      ]
     },
     "metadata": {
      "needs_background": "light"
     },
     "output_type": "display_data"
    }
   ],
   "source": [
    "sns.distplot(d['charges'], hist=True, kde=True, \n",
    "             bins=int(180/5), color = 'skyblue', \n",
    "             hist_kws={'edgecolor':'grey'},\n",
    "             kde_kws={'linewidth': 2})"
   ]
  },
  {
   "cell_type": "code",
   "execution_count": 45,
   "metadata": {},
   "outputs": [
    {
     "data": {
      "text/plain": [
       "<matplotlib.axes._subplots.AxesSubplot at 0x1a39a7ce80>"
      ]
     },
     "execution_count": 45,
     "metadata": {},
     "output_type": "execute_result"
    },
    {
     "data": {
      "image/png": "[encoded data removed]",
      "text/plain": [
       "<Figure size 432x288 with 1 Axes>"
      ]
     },
     "metadata": {
      "needs_background": "light"
     },
     "output_type": "display_data"
    }
   ],
   "source": [
    "sns.boxplot(d['charges'], color = 'skyblue')"
   ]
  },
  {
   "cell_type": "code",
   "execution_count": 46,
   "metadata": {},
   "outputs": [
    {
     "data": {
      "text/plain": [
       "count     1338.000000\n",
       "mean     13270.422265\n",
       "std      12110.011237\n",
       "min       1121.873900\n",
       "25%       4740.287150\n",
       "50%       9382.033000\n",
       "75%      16639.912515\n",
       "max      63770.428010\n",
       "Name: charges, dtype: float64"
      ]
     },
     "execution_count": 46,
     "metadata": {},
     "output_type": "execute_result"
    }
   ],
   "source": [
    "d['charges'].describe()"
   ]
  },
  {
   "cell_type": "markdown",
   "metadata": {},
   "source": [
    "## Cross-validation\n",
    "\n",
    "Here I use the `H2OGeneralizedLinearEstimator` module in `h2o` package to perform cross-validation. I set the number of cross-validation as 5 by `nfolds=5`, in which 6 models will be built. The first 5 models (cross-validation models) are built on 80% of the training data, and a different 20% is held out for each of the 5 models. Then the main model is built on 100% of the training data."
   ]
  },
  {
   "cell_type": "code",
   "execution_count": 47,
   "metadata": {
    "scrolled": true
   },
   "outputs": [
    {
     "name": "stdout",
     "output_type": "stream",
     "text": [
      "glm Model Build progress: |███████████████████████████████████████████████| 100%\n",
      "Model Details\n",
      "=============\n",
      "H2OGeneralizedLinearEstimator :  Generalized Linear Modeling\n",
      "Model Key:  d_glm_0\n",
      "\n",
      "\n",
      "ModelMetricsRegressionGLM: glm\n",
      "** Reported on train data. **\n",
      "\n",
      "MSE: 125728309.44330035\n",
      "RMSE: 11212.863570172445\n",
      "MAE: 8471.397911142334\n",
      "RMSLE: 0.9331157151413909\n",
      "R^2: 0.14203674139265943\n",
      "Mean Residual Deviance: 125728309.44330035\n",
      "Null degrees of freedom: 1337\n",
      "Residual degrees of freedom: 1326\n",
      "Null deviance: 196074221532.74988\n",
      "Residual deviance: 168224478035.13586\n",
      "AIC: 28776.289622947068\n",
      "\n",
      "ModelMetricsRegressionGLM: glm\n",
      "** Reported on cross-validation data. **\n",
      "\n",
      "MSE: 129830749.84711617\n",
      "RMSE: 11394.32972346843\n",
      "MAE: 8600.97548619905\n",
      "RMSLE: 0.9464119017196216\n",
      "R^2: 0.11404190751089327\n",
      "Mean Residual Deviance: 129830749.84711617\n",
      "Null degrees of freedom: 1337\n",
      "Residual degrees of freedom: 1326\n",
      "Null deviance: 196632689167.88873\n",
      "Residual deviance: 173713543295.44144\n",
      "AIC: 28819.25062652632\n",
      "Cross-Validation Metrics Summary: \n"
     ]
    },
    {
     "data": {
      "text/html": [
       "<div style=\"overflow:auto\"><table style=\"width:50%\"><tr><td><b></b></td>\n",
       "<td><b>mean</b></td>\n",
       "<td><b>sd</b></td>\n",
       "<td><b>cv_1_valid</b></td>\n",
       "<td><b>cv_2_valid</b></td>\n",
       "<td><b>cv_3_valid</b></td>\n",
       "<td><b>cv_4_valid</b></td>\n",
       "<td><b>cv_5_valid</b></td></tr>\n",
       "<tr><td>mae</td>\n",
       "<td>8592.547</td>\n",
       "<td>295.31107</td>\n",
       "<td>8582.3125</td>\n",
       "<td>7818.5264</td>\n",
       "<td>8785.108</td>\n",
       "<td>8714.119</td>\n",
       "<td>9062.668</td></tr>\n",
       "<tr><td>mean_residual_deviance</td>\n",
       "<td>129275808.0000000</td>\n",
       "<td>12568459.0000000</td>\n",
       "<td>122953088.0000000</td>\n",
       "<td>102175632.0000000</td>\n",
       "<td>153850944.0000000</td>\n",
       "<td>124694504.0000000</td>\n",
       "<td>142704864.0000000</td></tr>\n",
       "<tr><td>mse</td>\n",
       "<td>129275808.0000000</td>\n",
       "<td>12568459.0000000</td>\n",
       "<td>122953088.0000000</td>\n",
       "<td>102175632.0000000</td>\n",
       "<td>153850944.0000000</td>\n",
       "<td>124694504.0000000</td>\n",
       "<td>142704864.0000000</td></tr>\n",
       "<tr><td>null_deviance</td>\n",
       "<td>39326540000.0000000</td>\n",
       "<td>4538068000.0000000</td>\n",
       "<td>37283930000.0000000</td>\n",
       "<td>29694271500.0000000</td>\n",
       "<td>49030697000.0000000</td>\n",
       "<td>37774651000.0000000</td>\n",
       "<td>42849141000.0000000</td></tr>\n",
       "<tr><td>r2</td>\n",
       "<td>0.1105586</td>\n",
       "<td>0.0058998</td>\n",
       "<td>0.1174623</td>\n",
       "<td>0.1147653</td>\n",
       "<td>0.1004910</td>\n",
       "<td>0.1195456</td>\n",
       "<td>0.1005287</td></tr>\n",
       "<tr><td>residual_deviance</td>\n",
       "<td>34742710000.0000000</td>\n",
       "<td>4171281920.0000000</td>\n",
       "<td>32705521700.0000000</td>\n",
       "<td>26156961800.0000000</td>\n",
       "<td>43847520000.0000000</td>\n",
       "<td>33044043800.0000000</td>\n",
       "<td>37959496000.0000000</td></tr>\n",
       "<tr><td>rmse</td>\n",
       "<td>11342.573</td>\n",
       "<td>557.5985</td>\n",
       "<td>11088.422</td>\n",
       "<td>10108.196</td>\n",
       "<td>12403.667</td>\n",
       "<td>11166.67</td>\n",
       "<td>11945.914</td></tr>\n",
       "<tr><td>rmsle</td>\n",
       "<td>0.9458453</td>\n",
       "<td>0.0343231</td>\n",
       "<td>0.9813831</td>\n",
       "<td>0.9140743</td>\n",
       "<td>0.8841538</td>\n",
       "<td>1.0196682</td>\n",
       "<td>0.9299473</td></tr></table></div>"
      ],
      "text/plain": [
       "                        mean         sd           cv_1_valid    cv_2_valid    cv_3_valid    cv_4_valid    cv_5_valid\n",
       "----------------------  -----------  -----------  ------------  ------------  ------------  ------------  ------------\n",
       "mae                     8592.55      295.311      8582.31       7818.53       8785.11       8714.12       9062.67\n",
       "mean_residual_deviance  1.29276e+08  1.25685e+07  1.22953e+08   1.02176e+08   1.53851e+08   1.24695e+08   1.42705e+08\n",
       "mse                     1.29276e+08  1.25685e+07  1.22953e+08   1.02176e+08   1.53851e+08   1.24695e+08   1.42705e+08\n",
       "null_deviance           3.93265e+10  4.53807e+09  3.72839e+10   2.96943e+10   4.90307e+10   3.77747e+10   4.28491e+10\n",
       "r2                      0.110559     0.00589982   0.117462      0.114765      0.100491      0.119546      0.100529\n",
       "residual_deviance       3.47427e+10  4.17128e+09  3.27055e+10   2.6157e+10    4.38475e+10   3.3044e+10    3.79595e+10\n",
       "rmse                    11342.6      557.598      11088.4       10108.2       12403.7       11166.7       11945.9\n",
       "rmsle                   0.945845     0.0343231    0.981383      0.914074      0.884154      1.01967       0.929947"
      ]
     },
     "metadata": {},
     "output_type": "display_data"
    },
    {
     "name": "stdout",
     "output_type": "stream",
     "text": [
      "Scoring History: \n"
     ]
    },
    {
     "data": {
      "text/html": [
       "<div style=\"overflow:auto\"><table style=\"width:50%\"><tr><td><b></b></td>\n",
       "<td><b>timestamp</b></td>\n",
       "<td><b>duration</b></td>\n",
       "<td><b>iterations</b></td>\n",
       "<td><b>negative_log_likelihood</b></td>\n",
       "<td><b>objective</b></td></tr>\n",
       "<tr><td></td>\n",
       "<td>2019-05-12 22:43:32</td>\n",
       "<td> 0.000 sec</td>\n",
       "<td>0</td>\n",
       "<td>196074221568.3671875</td>\n",
       "<td>146542766.4935480</td></tr></table></div>"
      ],
      "text/plain": [
       "    timestamp            duration    iterations    negative_log_likelihood    objective\n",
       "--  -------------------  ----------  ------------  -------------------------  -----------\n",
       "    2019-05-12 22:43:32  0.000 sec   0             1.96074e+11                1.46543e+08"
      ]
     },
     "metadata": {},
     "output_type": "display_data"
    }
   ],
   "source": [
    "target_var = 'charges'\n",
    "input_var = ['age', 'sex', 'bmi', \n",
    "             'children', 'smoker', 'region']\n",
    "glm_mod0 = \\\n",
    "    H2OGeneralizedLinearEstimator(model_id = 'd_glm_0',\n",
    "                                  family = 'gaussian',\n",
    "                                  nfolds = 5,\n",
    "                                  seed = 123)\n",
    "glm_mod0.train(x = input_var, \n",
    "               y = target_var, \n",
    "               training_frame = d0)\n",
    "glm_mod0.show()"
   ]
  },
  {
   "cell_type": "markdown",
   "metadata": {},
   "source": [
    "## Machine learning\n",
    "\n",
    "### Regularized regression\n"
   ]
  },
  {
   "cell_type": "code",
   "execution_count": 48,
   "metadata": {},
   "outputs": [
    {
     "name": "stdout",
     "output_type": "stream",
     "text": [
      "glm Grid Build progress: |████████████████████████████████████████████████| 100%\n",
      "      alpha                                                     model_ids  \\\n",
      "0     [1.0]  Grid_GLM_py_10_sid_929a_model_python_1557652172496_3_model_5   \n",
      "1    [0.75]  Grid_GLM_py_10_sid_929a_model_python_1557652172496_3_model_4   \n",
      "2     [0.5]  Grid_GLM_py_10_sid_929a_model_python_1557652172496_3_model_3   \n",
      "3    [0.25]  Grid_GLM_py_10_sid_929a_model_python_1557652172496_3_model_2   \n",
      "4     [0.0]  Grid_GLM_py_10_sid_929a_model_python_1557652172496_3_model_1   \n",
      "\n",
      "       residual_deviance  \n",
      "0    6.232294045221491E9  \n",
      "1  2.7448416102541004E10  \n",
      "2  2.7451841045226257E10  \n",
      "3  2.7452983289290577E10  \n",
      "4  2.7453233838145943E10  \n"
     ]
    }
   ],
   "source": [
    "from h2o.grid.grid_search import H2OGridSearch\n",
    "\n",
    "alpha_values = {'alpha': [0, 0.25, 0.5, 0.75, 1]}\n",
    "glm_mod2 = H2OGridSearch(\n",
    "    H2OGeneralizedLinearEstimator(family = 'gaussian',\n",
    "                                  lambda_search = True,\n",
    "                                  seed = 123), \\\n",
    "hyper_params = alpha_values)\n",
    "\n",
    "glm_mod2.train(x = input_var, \n",
    "               y = target_var, \n",
    "               training_frame = dtrain,\n",
    "              validation_frame = dvalid)\n",
    "\n",
    "glm_mod2.show()"
   ]
  },
  {
   "cell_type": "code",
   "execution_count": 49,
   "metadata": {},
   "outputs": [
    {
     "data": {
      "text/html": [
       "<div>\n",
       "<style scoped>\n",
       "    .dataframe tbody tr th:only-of-type {\n",
       "        vertical-align: middle;\n",
       "    }\n",
       "\n",
       "    .dataframe tbody tr th {\n",
       "        vertical-align: top;\n",
       "    }\n",
       "\n",
       "    .dataframe thead th {\n",
       "        text-align: right;\n",
       "    }\n",
       "</style>\n",
       "<table border=\"1\" class=\"dataframe\">\n",
       "  <thead>\n",
       "    <tr style=\"text-align: right;\">\n",
       "      <th></th>\n",
       "      <th>names</th>\n",
       "      <th>coefficients</th>\n",
       "      <th>standardized_coefficients</th>\n",
       "    </tr>\n",
       "  </thead>\n",
       "  <tbody>\n",
       "    <tr>\n",
       "      <th>0</th>\n",
       "      <td>Intercept</td>\n",
       "      <td>-7206.776563</td>\n",
       "      <td>13492.999531</td>\n",
       "    </tr>\n",
       "    <tr>\n",
       "      <th>1</th>\n",
       "      <td>region.northeast</td>\n",
       "      <td>83.984427</td>\n",
       "      <td>83.984427</td>\n",
       "    </tr>\n",
       "    <tr>\n",
       "      <th>2</th>\n",
       "      <td>region.northwest</td>\n",
       "      <td>111.459665</td>\n",
       "      <td>111.459665</td>\n",
       "    </tr>\n",
       "    <tr>\n",
       "      <th>3</th>\n",
       "      <td>region.southeast</td>\n",
       "      <td>-192.376821</td>\n",
       "      <td>-192.376821</td>\n",
       "    </tr>\n",
       "    <tr>\n",
       "      <th>4</th>\n",
       "      <td>region.southwest</td>\n",
       "      <td>-70.256674</td>\n",
       "      <td>-70.256674</td>\n",
       "    </tr>\n",
       "    <tr>\n",
       "      <th>5</th>\n",
       "      <td>smoker.no</td>\n",
       "      <td>-5020.292788</td>\n",
       "      <td>-5020.292788</td>\n",
       "    </tr>\n",
       "    <tr>\n",
       "      <th>6</th>\n",
       "      <td>smoker.yes</td>\n",
       "      <td>18846.423625</td>\n",
       "      <td>18846.423625</td>\n",
       "    </tr>\n",
       "    <tr>\n",
       "      <th>7</th>\n",
       "      <td>sex.female</td>\n",
       "      <td>147.142857</td>\n",
       "      <td>147.142857</td>\n",
       "    </tr>\n",
       "    <tr>\n",
       "      <th>8</th>\n",
       "      <td>sex.male</td>\n",
       "      <td>-142.895434</td>\n",
       "      <td>-142.895434</td>\n",
       "    </tr>\n",
       "    <tr>\n",
       "      <th>9</th>\n",
       "      <td>age</td>\n",
       "      <td>255.041295</td>\n",
       "      <td>3604.495432</td>\n",
       "    </tr>\n",
       "    <tr>\n",
       "      <th>10</th>\n",
       "      <td>bmi</td>\n",
       "      <td>329.352274</td>\n",
       "      <td>2038.979286</td>\n",
       "    </tr>\n",
       "    <tr>\n",
       "      <th>11</th>\n",
       "      <td>children</td>\n",
       "      <td>477.291820</td>\n",
       "      <td>563.040100</td>\n",
       "    </tr>\n",
       "  </tbody>\n",
       "</table>\n",
       "</div>"
      ],
      "text/plain": [
       "               names  coefficients  standardized_coefficients\n",
       "0          Intercept  -7206.776563               13492.999531\n",
       "1   region.northeast     83.984427                  83.984427\n",
       "2   region.northwest    111.459665                 111.459665\n",
       "3   region.southeast   -192.376821                -192.376821\n",
       "4   region.southwest    -70.256674                 -70.256674\n",
       "5          smoker.no  -5020.292788               -5020.292788\n",
       "6         smoker.yes  18846.423625               18846.423625\n",
       "7         sex.female    147.142857                 147.142857\n",
       "8           sex.male   -142.895434                -142.895434\n",
       "9                age    255.041295                3604.495432\n",
       "10               bmi    329.352274                2038.979286\n",
       "11          children    477.291820                 563.040100"
      ]
     },
     "execution_count": 49,
     "metadata": {},
     "output_type": "execute_result"
    }
   ],
   "source": [
    "glm_best = glm_mod2.get_grid()[0]\n",
    "glm_best._model_json['output']['coefficients_table'].as_data_frame()"
   ]
  },
  {
   "cell_type": "code",
   "execution_count": 50,
   "metadata": {},
   "outputs": [
    {
     "name": "stdout",
     "output_type": "stream",
     "text": [
      "\n",
      "ModelMetricsRegressionGLM: glm\n",
      "** Reported on train data. **\n",
      "\n",
      "MSE: 36244089.05252515\n",
      "RMSE: 6020.306391914381\n",
      "MAE: 4175.590832941357\n",
      "RMSLE: NaN\n",
      "R^2: 0.7557379707834732\n",
      "Mean Residual Deviance: 36244089.05252515\n",
      "Null degrees of freedom: 955\n",
      "Residual degrees of freedom: 944\n",
      "Null deviance: 141853194478.7002\n",
      "Residual deviance: 34649349134.21404\n",
      "AIC: 19378.942718761107\n"
     ]
    },
    {
     "data": {
      "text/plain": []
     },
     "execution_count": 50,
     "metadata": {},
     "output_type": "execute_result"
    }
   ],
   "source": [
    "glm_best._model_json['output']['training_metrics']"
   ]
  },
  {
   "cell_type": "code",
   "execution_count": 51,
   "metadata": {},
   "outputs": [
    {
     "name": "stdout",
     "output_type": "stream",
     "text": [
      "\n",
      "ModelMetricsRegressionGLM: glm\n",
      "** Reported on validation data. **\n",
      "\n",
      "MSE: 30107700.701553095\n",
      "RMSE: 5487.04845081152\n",
      "MAE: 3827.8094066015087\n",
      "RMSLE: 0.5274009774363978\n",
      "R^2: 0.7699240420817869\n",
      "Mean Residual Deviance: 30107700.701553095\n",
      "Null degrees of freedom: 206\n",
      "Residual degrees of freedom: 195\n",
      "Null deviance: 27453554523.254715\n",
      "Residual deviance: 6232294045.221491\n",
      "AIC: 4178.040900338396\n"
     ]
    },
    {
     "data": {
      "text/plain": []
     },
     "execution_count": 51,
     "metadata": {},
     "output_type": "execute_result"
    }
   ],
   "source": [
    "glm_best._model_json['output']['validation_metrics']"
   ]
  },
  {
   "cell_type": "markdown",
   "metadata": {},
   "source": [
    "### Auto-ML"
   ]
  },
  {
   "cell_type": "code",
   "execution_count": 52,
   "metadata": {},
   "outputs": [
    {
     "name": "stdout",
     "output_type": "stream",
     "text": [
      "AutoML progress: |████████████████████████████████████████████████████████| 100%\n"
     ]
    },
    {
     "data": {
      "text/html": [
       "<table>\n",
       "<thead>\n",
       "<tr><th>model_id                                     </th><th style=\"text-align: right;\">  mean_residual_deviance</th><th style=\"text-align: right;\">   rmse</th><th style=\"text-align: right;\">        mse</th><th style=\"text-align: right;\">    mae</th><th style=\"text-align: right;\">     rmsle</th></tr>\n",
       "</thead>\n",
       "<tbody>\n",
       "<tr><td>XGBoost_grid_1_AutoML_20190512_224333_model_2</td><td style=\"text-align: right;\">             1.97843e+07</td><td style=\"text-align: right;\">4447.96</td><td style=\"text-align: right;\">1.97843e+07</td><td style=\"text-align: right;\">2432.79</td><td style=\"text-align: right;\">  0.413184</td></tr>\n",
       "<tr><td>XGBoost_3_AutoML_20190512_224333             </td><td style=\"text-align: right;\">             2.04295e+07</td><td style=\"text-align: right;\">4519.9 </td><td style=\"text-align: right;\">2.04295e+07</td><td style=\"text-align: right;\">2408.7 </td><td style=\"text-align: right;\">  0.423944</td></tr>\n",
       "<tr><td>XGBoost_grid_1_AutoML_20190512_224333_model_4</td><td style=\"text-align: right;\">             2.04979e+07</td><td style=\"text-align: right;\">4527.46</td><td style=\"text-align: right;\">2.04979e+07</td><td style=\"text-align: right;\">2505.46</td><td style=\"text-align: right;\">  0.436286</td></tr>\n",
       "<tr><td>XGBoost_1_AutoML_20190512_224333             </td><td style=\"text-align: right;\">             2.05022e+07</td><td style=\"text-align: right;\">4527.93</td><td style=\"text-align: right;\">2.05022e+07</td><td style=\"text-align: right;\">2468.91</td><td style=\"text-align: right;\">  0.423831</td></tr>\n",
       "<tr><td>XGBoost_2_AutoML_20190512_224333             </td><td style=\"text-align: right;\">             2.10117e+07</td><td style=\"text-align: right;\">4583.86</td><td style=\"text-align: right;\">2.10117e+07</td><td style=\"text-align: right;\">2476   </td><td style=\"text-align: right;\">  0.441066</td></tr>\n",
       "<tr><td>XGBoost_grid_1_AutoML_20190512_224333_model_5</td><td style=\"text-align: right;\">             2.16251e+07</td><td style=\"text-align: right;\">4650.28</td><td style=\"text-align: right;\">2.16251e+07</td><td style=\"text-align: right;\">2535.24</td><td style=\"text-align: right;\">nan       </td></tr>\n",
       "<tr><td>GBM_2_AutoML_20190512_224333                 </td><td style=\"text-align: right;\">             2.1733e+07 </td><td style=\"text-align: right;\">4661.87</td><td style=\"text-align: right;\">2.1733e+07 </td><td style=\"text-align: right;\">2775.77</td><td style=\"text-align: right;\">  0.464753</td></tr>\n",
       "<tr><td>GBM_grid_1_AutoML_20190512_224333_model_11   </td><td style=\"text-align: right;\">             2.22032e+07</td><td style=\"text-align: right;\">4712.02</td><td style=\"text-align: right;\">2.22032e+07</td><td style=\"text-align: right;\">3058.62</td><td style=\"text-align: right;\">  0.479175</td></tr>\n",
       "<tr><td>GBM_4_AutoML_20190512_224333                 </td><td style=\"text-align: right;\">             2.23753e+07</td><td style=\"text-align: right;\">4730.26</td><td style=\"text-align: right;\">2.23753e+07</td><td style=\"text-align: right;\">2852.66</td><td style=\"text-align: right;\">  0.472327</td></tr>\n",
       "<tr><td>XGBoost_grid_1_AutoML_20190512_224333_model_1</td><td style=\"text-align: right;\">             2.26268e+07</td><td style=\"text-align: right;\">4756.76</td><td style=\"text-align: right;\">2.26268e+07</td><td style=\"text-align: right;\">2649.82</td><td style=\"text-align: right;\">  0.463984</td></tr>\n",
       "</tbody>\n",
       "</table>"
      ]
     },
     "metadata": {},
     "output_type": "display_data"
    },
    {
     "data": {
      "text/plain": []
     },
     "execution_count": 52,
     "metadata": {},
     "output_type": "execute_result"
    }
   ],
   "source": [
    "from h2o.automl.autoh2o import H2OAutoML\n",
    "\n",
    "autom1_1 = H2OAutoML(max_runtime_secs = 60)\n",
    "autom1_1.train(x = input_var, \n",
    "               y = target_var, \n",
    "               training_frame = dtrain,\n",
    "               validation_frame = dvalid)\n",
    "autom1_1.leaderboard"
   ]
  },
  {
   "cell_type": "code",
   "execution_count": 53,
   "metadata": {},
   "outputs": [
    {
     "name": "stdout",
     "output_type": "stream",
     "text": [
      "Model Details\n",
      "=============\n",
      "H2OXGBoostEstimator :  XGBoost\n",
      "Model Key:  XGBoost_grid_1_AutoML_20190512_224333_model_2\n",
      "\n",
      "\n",
      "ModelMetricsRegression: xgboost\n",
      "** Reported on train data. **\n",
      "\n",
      "MSE: 14528508.374148928\n",
      "RMSE: 3811.6280477177897\n",
      "MAE: 2022.629675446195\n",
      "RMSLE: 0.33941648050977435\n",
      "Mean Residual Deviance: 14528508.374148928\n",
      "\n",
      "ModelMetricsRegression: xgboost\n",
      "** Reported on validation data. **\n",
      "\n",
      "MSE: 18054575.204083566\n",
      "RMSE: 4249.067568783011\n",
      "MAE: 2344.0509905976373\n",
      "RMSLE: 0.38510422313361437\n",
      "Mean Residual Deviance: 18054575.204083566\n",
      "\n",
      "ModelMetricsRegression: xgboost\n",
      "** Reported on cross-validation data. **\n",
      "\n",
      "MSE: 19784318.805394568\n",
      "RMSE: 4447.956700035936\n",
      "MAE: 2432.7904463891705\n",
      "RMSLE: 0.41318440454888644\n",
      "Mean Residual Deviance: 19784318.805394568\n",
      "Cross-Validation Metrics Summary: \n"
     ]
    },
    {
     "data": {
      "text/html": [
       "<div style=\"overflow:auto\"><table style=\"width:50%\"><tr><td><b></b></td>\n",
       "<td><b>mean</b></td>\n",
       "<td><b>sd</b></td>\n",
       "<td><b>cv_1_valid</b></td>\n",
       "<td><b>cv_2_valid</b></td>\n",
       "<td><b>cv_3_valid</b></td>\n",
       "<td><b>cv_4_valid</b></td>\n",
       "<td><b>cv_5_valid</b></td></tr>\n",
       "<tr><td>mae</td>\n",
       "<td>2432.7295</td>\n",
       "<td>74.70777</td>\n",
       "<td>2490.9307</td>\n",
       "<td>2286.081</td>\n",
       "<td>2333.1685</td>\n",
       "<td>2485.9092</td>\n",
       "<td>2567.5583</td></tr>\n",
       "<tr><td>mean_residual_deviance</td>\n",
       "<td>19781598.0000000</td>\n",
       "<td>1548789.5</td>\n",
       "<td>22382870.0000000</td>\n",
       "<td>19526344.0000000</td>\n",
       "<td>17453224.0000000</td>\n",
       "<td>17350560.0000000</td>\n",
       "<td>22194988.0000000</td></tr>\n",
       "<tr><td>mse</td>\n",
       "<td>19781598.0000000</td>\n",
       "<td>1548789.5</td>\n",
       "<td>22382870.0000000</td>\n",
       "<td>19526344.0000000</td>\n",
       "<td>17453224.0000000</td>\n",
       "<td>17350560.0000000</td>\n",
       "<td>22194988.0000000</td></tr>\n",
       "<tr><td>r2</td>\n",
       "<td>0.8648089</td>\n",
       "<td>0.0109681</td>\n",
       "<td>0.8722137</td>\n",
       "<td>0.8360478</td>\n",
       "<td>0.8811800</td>\n",
       "<td>0.8718028</td>\n",
       "<td>0.8627998</td></tr>\n",
       "<tr><td>residual_deviance</td>\n",
       "<td>19781598.0000000</td>\n",
       "<td>1548789.5</td>\n",
       "<td>22382870.0000000</td>\n",
       "<td>19526344.0000000</td>\n",
       "<td>17453224.0000000</td>\n",
       "<td>17350560.0000000</td>\n",
       "<td>22194988.0000000</td></tr>\n",
       "<tr><td>rmse</td>\n",
       "<td>4440.8354</td>\n",
       "<td>174.0357</td>\n",
       "<td>4731.0537</td>\n",
       "<td>4418.8623</td>\n",
       "<td>4177.7056</td>\n",
       "<td>4165.4004</td>\n",
       "<td>4711.156</td></tr>\n",
       "<tr><td>rmsle</td>\n",
       "<td>0.4125335</td>\n",
       "<td>0.0165132</td>\n",
       "<td>0.4039368</td>\n",
       "<td>0.4385948</td>\n",
       "<td>0.4182793</td>\n",
       "<td>0.3720201</td>\n",
       "<td>0.4298366</td></tr></table></div>"
      ],
      "text/plain": [
       "                        mean         sd           cv_1_valid    cv_2_valid    cv_3_valid    cv_4_valid    cv_5_valid\n",
       "----------------------  -----------  -----------  ------------  ------------  ------------  ------------  ------------\n",
       "mae                     2432.73      74.7078      2490.93       2286.08       2333.17       2485.91       2567.56\n",
       "mean_residual_deviance  1.97816e+07  1.54879e+06  2.23829e+07   1.95263e+07   1.74532e+07   1.73506e+07   2.2195e+07\n",
       "mse                     1.97816e+07  1.54879e+06  2.23829e+07   1.95263e+07   1.74532e+07   1.73506e+07   2.2195e+07\n",
       "r2                      0.864809     0.0109681    0.872214      0.836048      0.88118       0.871803      0.8628\n",
       "residual_deviance       1.97816e+07  1.54879e+06  2.23829e+07   1.95263e+07   1.74532e+07   1.73506e+07   2.2195e+07\n",
       "rmse                    4440.84      174.036      4731.05       4418.86       4177.71       4165.4        4711.16\n",
       "rmsle                   0.412534     0.0165132    0.403937      0.438595      0.418279      0.37202       0.429837"
      ]
     },
     "metadata": {},
     "output_type": "display_data"
    },
    {
     "name": "stdout",
     "output_type": "stream",
     "text": [
      "Scoring History: \n"
     ]
    },
    {
     "data": {
      "text/html": [
       "<div style=\"overflow:auto\"><table style=\"width:50%\"><tr><td><b></b></td>\n",
       "<td><b>timestamp</b></td>\n",
       "<td><b>duration</b></td>\n",
       "<td><b>number_of_trees</b></td>\n",
       "<td><b>training_rmse</b></td>\n",
       "<td><b>training_mae</b></td>\n",
       "<td><b>training_deviance</b></td>\n",
       "<td><b>validation_rmse</b></td>\n",
       "<td><b>validation_mae</b></td>\n",
       "<td><b>validation_deviance</b></td></tr>\n",
       "<tr><td></td>\n",
       "<td>2019-05-12 22:43:58</td>\n",
       "<td> 8.165 sec</td>\n",
       "<td>0.0</td>\n",
       "<td>18177.7211428</td>\n",
       "<td>13492.4995221</td>\n",
       "<td>330429545.9456137</td>\n",
       "<td>16697.6769005</td>\n",
       "<td>12163.5761206</td>\n",
       "<td>278812413.8726478</td></tr>\n",
       "<tr><td></td>\n",
       "<td>2019-05-12 22:43:58</td>\n",
       "<td> 8.176 sec</td>\n",
       "<td>5.0</td>\n",
       "<td>14425.1967418</td>\n",
       "<td>10417.2924807</td>\n",
       "<td>208086301.0383629</td>\n",
       "<td>13312.4690498</td>\n",
       "<td>9370.0704254</td>\n",
       "<td>177221832.2006640</td></tr>\n",
       "<tr><td></td>\n",
       "<td>2019-05-12 22:43:58</td>\n",
       "<td> 8.184 sec</td>\n",
       "<td>10.0</td>\n",
       "<td>11562.4688692</td>\n",
       "<td>8073.2961273</td>\n",
       "<td>133690686.3519351</td>\n",
       "<td>10740.2396373</td>\n",
       "<td>7258.8249877</td>\n",
       "<td>115352747.4656878</td></tr>\n",
       "<tr><td></td>\n",
       "<td>2019-05-12 22:43:58</td>\n",
       "<td> 8.195 sec</td>\n",
       "<td>15.0</td>\n",
       "<td>9388.8609946</td>\n",
       "<td>6304.4790556</td>\n",
       "<td>88150710.7758984</td>\n",
       "<td>8801.4893580</td>\n",
       "<td>5669.2650312</td>\n",
       "<td>77466214.9193138</td></tr>\n",
       "<tr><td></td>\n",
       "<td>2019-05-12 22:43:58</td>\n",
       "<td> 8.203 sec</td>\n",
       "<td>20.0</td>\n",
       "<td>7765.6711330</td>\n",
       "<td>5018.1303193</td>\n",
       "<td>60305648.1453410</td>\n",
       "<td>7400.4861750</td>\n",
       "<td>4558.7514418</td>\n",
       "<td>54767195.6265089</td></tr>\n",
       "<tr><td>---</td>\n",
       "<td>---</td>\n",
       "<td>---</td>\n",
       "<td>---</td>\n",
       "<td>---</td>\n",
       "<td>---</td>\n",
       "<td>---</td>\n",
       "<td>---</td>\n",
       "<td>---</td>\n",
       "<td>---</td></tr>\n",
       "<tr><td></td>\n",
       "<td>2019-05-12 22:43:58</td>\n",
       "<td> 8.333 sec</td>\n",
       "<td>80.0</td>\n",
       "<td>3900.1432465</td>\n",
       "<td>2049.8709799</td>\n",
       "<td>15211117.3434129</td>\n",
       "<td>4249.4535400</td>\n",
       "<td>2309.1517287</td>\n",
       "<td>18057855.3889892</td></tr>\n",
       "<tr><td></td>\n",
       "<td>2019-05-12 22:43:58</td>\n",
       "<td> 8.347 sec</td>\n",
       "<td>85.0</td>\n",
       "<td>3872.9667308</td>\n",
       "<td>2046.1287795</td>\n",
       "<td>14999871.2976686</td>\n",
       "<td>4241.2141376</td>\n",
       "<td>2323.1174641</td>\n",
       "<td>17987897.3609924</td></tr>\n",
       "<tr><td></td>\n",
       "<td>2019-05-12 22:43:58</td>\n",
       "<td> 8.361 sec</td>\n",
       "<td>90.0</td>\n",
       "<td>3851.6525352</td>\n",
       "<td>2031.3362383</td>\n",
       "<td>14835227.2519658</td>\n",
       "<td>4237.8315973</td>\n",
       "<td>2314.1712269</td>\n",
       "<td>17959216.6473966</td></tr>\n",
       "<tr><td></td>\n",
       "<td>2019-05-12 22:43:58</td>\n",
       "<td> 8.376 sec</td>\n",
       "<td>95.0</td>\n",
       "<td>3828.6288679</td>\n",
       "<td>2024.7918645</td>\n",
       "<td>14658399.0081565</td>\n",
       "<td>4247.3179679</td>\n",
       "<td>2333.3710342</td>\n",
       "<td>18039709.9203603</td></tr>\n",
       "<tr><td></td>\n",
       "<td>2019-05-12 22:43:58</td>\n",
       "<td> 8.392 sec</td>\n",
       "<td>99.0</td>\n",
       "<td>3811.6280477</td>\n",
       "<td>2022.6296754</td>\n",
       "<td>14528508.3741489</td>\n",
       "<td>4249.0675688</td>\n",
       "<td>2344.0509906</td>\n",
       "<td>18054575.2040836</td></tr></table></div>"
      ],
      "text/plain": [
       "     timestamp            duration    number_of_trees    training_rmse       training_mae        training_deviance    validation_rmse     validation_mae      validation_deviance\n",
       "---  -------------------  ----------  -----------------  ------------------  ------------------  -------------------  ------------------  ------------------  ---------------------\n",
       "     2019-05-12 22:43:58  8.165 sec   0.0                18177.721142805927  13492.499522061527  330429545.9456137    16697.67690047474   12163.576120570086  278812413.87264776\n",
       "     2019-05-12 22:43:58  8.176 sec   5.0                14425.196741755824  10417.292480660282  208086301.03836286   13312.46904975422   9370.070425429782   177221832.200664\n",
       "     2019-05-12 22:43:58  8.184 sec   10.0               11562.46886923096   8073.296127255491   133690686.35193507   10740.239637256136  7258.824987733998   115352747.46568783\n",
       "     2019-05-12 22:43:58  8.195 sec   15.0               9388.860994598781   6304.479055620138   88150710.7758984     8801.489358018553   5669.265031160364   77466214.91931382\n",
       "     2019-05-12 22:43:58  8.203 sec   20.0               7765.6711329633945  5018.130319252174   60305648.145340964   7400.486175009649   4558.7514418449955  54767195.626508944\n",
       "---  ---                  ---         ---                ---                 ---                 ---                  ---                 ---                 ---\n",
       "     2019-05-12 22:43:58  8.333 sec   80.0               3900.143246524783   2049.8709798517584  15211117.343412874   4249.453540043617   2309.1517286807443  18057855.388989232\n",
       "     2019-05-12 22:43:58  8.347 sec   85.0               3872.9667307722375  2046.1287794552088  14999871.297668593   4241.214137601681   2323.117464074766   17987897.360992372\n",
       "     2019-05-12 22:43:58  8.361 sec   90.0               3851.652535206911   2031.3362383343685  14835227.251965825   4237.831597338025   2314.1712269068917  17959216.647396557\n",
       "     2019-05-12 22:43:58  8.376 sec   95.0               3828.628867905125   2024.7918644988886  14658399.00815648    4247.317967889885   2333.371034189123   18039709.92036026\n",
       "     2019-05-12 22:43:58  8.392 sec   99.0               3811.6280477177897  2022.629675446195   14528508.374148928   4249.067568783011   2344.0509905976373  18054575.204083566"
      ]
     },
     "metadata": {},
     "output_type": "display_data"
    },
    {
     "name": "stdout",
     "output_type": "stream",
     "text": [
      "\n",
      "See the whole table with table.as_data_frame()\n",
      "Variable Importances: \n"
     ]
    },
    {
     "data": {
      "text/html": [
       "<div style=\"overflow:auto\"><table style=\"width:50%\"><tr><td><b>variable</b></td>\n",
       "<td><b>relative_importance</b></td>\n",
       "<td><b>scaled_importance</b></td>\n",
       "<td><b>percentage</b></td></tr>\n",
       "<tr><td>smoker.no</td>\n",
       "<td>454322782208.0000000</td>\n",
       "<td>1.0</td>\n",
       "<td>0.5573600</td></tr>\n",
       "<tr><td>bmi</td>\n",
       "<td>148791967744.0000000</td>\n",
       "<td>0.3275028</td>\n",
       "<td>0.1825370</td></tr>\n",
       "<tr><td>age</td>\n",
       "<td>102772113408.0000000</td>\n",
       "<td>0.2262095</td>\n",
       "<td>0.1260801</td></tr>\n",
       "<tr><td>smoker.yes</td>\n",
       "<td>90579763200.0000000</td>\n",
       "<td>0.1993731</td>\n",
       "<td>0.1111226</td></tr>\n",
       "<tr><td>children</td>\n",
       "<td>8185817600.0000000</td>\n",
       "<td>0.0180176</td>\n",
       "<td>0.0100423</td></tr>\n",
       "<tr><td>region.southeast</td>\n",
       "<td>3672467456.0000000</td>\n",
       "<td>0.0080834</td>\n",
       "<td>0.0045054</td></tr>\n",
       "<tr><td>region.northeast</td>\n",
       "<td>2915814656.0000000</td>\n",
       "<td>0.0064179</td>\n",
       "<td>0.0035771</td></tr>\n",
       "<tr><td>sex.female</td>\n",
       "<td>1918903296.0000000</td>\n",
       "<td>0.0042237</td>\n",
       "<td>0.0023541</td></tr>\n",
       "<tr><td>region.southwest</td>\n",
       "<td>1108210176.0000000</td>\n",
       "<td>0.0024393</td>\n",
       "<td>0.0013595</td></tr>\n",
       "<tr><td>sex.male</td>\n",
       "<td>473684672.0000000</td>\n",
       "<td>0.0010426</td>\n",
       "<td>0.0005811</td></tr>\n",
       "<tr><td>region.northwest</td>\n",
       "<td>391875872.0000000</td>\n",
       "<td>0.0008625</td>\n",
       "<td>0.0004808</td></tr></table></div>"
      ],
      "text/plain": [
       "variable          relative_importance    scaled_importance    percentage\n",
       "----------------  ---------------------  -------------------  ------------\n",
       "smoker.no         4.54323e+11            1                    0.55736\n",
       "bmi               1.48792e+11            0.327503             0.182537\n",
       "age               1.02772e+11            0.226209             0.12608\n",
       "smoker.yes        9.05798e+10            0.199373             0.111123\n",
       "children          8.18582e+09            0.0180176            0.0100423\n",
       "region.southeast  3.67247e+09            0.00808339           0.00450536\n",
       "region.northeast  2.91581e+09            0.00641794           0.0035771\n",
       "sex.female        1.9189e+09             0.00422366           0.0023541\n",
       "region.southwest  1.10821e+09            0.00243926           0.00135954\n",
       "sex.male          4.73685e+08            0.00104262           0.000581113\n",
       "region.northwest  3.91876e+08            0.000862549          0.000480751"
      ]
     },
     "metadata": {},
     "output_type": "display_data"
    },
    {
     "data": {
      "text/plain": []
     },
     "execution_count": 53,
     "metadata": {},
     "output_type": "execute_result"
    }
   ],
   "source": [
    "autom1_1.leader"
   ]
  },
  {
   "cell_type": "code",
   "execution_count": 54,
   "metadata": {},
   "outputs": [
    {
     "name": "stdout",
     "output_type": "stream",
     "text": [
      "Cross-Validation Metrics Summary: \n"
     ]
    },
    {
     "data": {
      "text/html": [
       "<div style=\"overflow:auto\"><table style=\"width:50%\"><tr><td><b></b></td>\n",
       "<td><b>mean</b></td>\n",
       "<td><b>sd</b></td>\n",
       "<td><b>cv_1_valid</b></td>\n",
       "<td><b>cv_2_valid</b></td>\n",
       "<td><b>cv_3_valid</b></td>\n",
       "<td><b>cv_4_valid</b></td>\n",
       "<td><b>cv_5_valid</b></td></tr>\n",
       "<tr><td>mae</td>\n",
       "<td>2432.7295</td>\n",
       "<td>74.70777</td>\n",
       "<td>2490.9307</td>\n",
       "<td>2286.081</td>\n",
       "<td>2333.1685</td>\n",
       "<td>2485.9092</td>\n",
       "<td>2567.5583</td></tr>\n",
       "<tr><td>mean_residual_deviance</td>\n",
       "<td>19781598.0000000</td>\n",
       "<td>1548789.5</td>\n",
       "<td>22382870.0000000</td>\n",
       "<td>19526344.0000000</td>\n",
       "<td>17453224.0000000</td>\n",
       "<td>17350560.0000000</td>\n",
       "<td>22194988.0000000</td></tr>\n",
       "<tr><td>mse</td>\n",
       "<td>19781598.0000000</td>\n",
       "<td>1548789.5</td>\n",
       "<td>22382870.0000000</td>\n",
       "<td>19526344.0000000</td>\n",
       "<td>17453224.0000000</td>\n",
       "<td>17350560.0000000</td>\n",
       "<td>22194988.0000000</td></tr>\n",
       "<tr><td>r2</td>\n",
       "<td>0.8648089</td>\n",
       "<td>0.0109681</td>\n",
       "<td>0.8722137</td>\n",
       "<td>0.8360478</td>\n",
       "<td>0.8811800</td>\n",
       "<td>0.8718028</td>\n",
       "<td>0.8627998</td></tr>\n",
       "<tr><td>residual_deviance</td>\n",
       "<td>19781598.0000000</td>\n",
       "<td>1548789.5</td>\n",
       "<td>22382870.0000000</td>\n",
       "<td>19526344.0000000</td>\n",
       "<td>17453224.0000000</td>\n",
       "<td>17350560.0000000</td>\n",
       "<td>22194988.0000000</td></tr>\n",
       "<tr><td>rmse</td>\n",
       "<td>4440.8354</td>\n",
       "<td>174.0357</td>\n",
       "<td>4731.0537</td>\n",
       "<td>4418.8623</td>\n",
       "<td>4177.7056</td>\n",
       "<td>4165.4004</td>\n",
       "<td>4711.156</td></tr>\n",
       "<tr><td>rmsle</td>\n",
       "<td>0.4125335</td>\n",
       "<td>0.0165132</td>\n",
       "<td>0.4039368</td>\n",
       "<td>0.4385948</td>\n",
       "<td>0.4182793</td>\n",
       "<td>0.3720201</td>\n",
       "<td>0.4298366</td></tr></table></div>"
      ],
      "text/plain": [
       "                        mean         sd           cv_1_valid    cv_2_valid    cv_3_valid    cv_4_valid    cv_5_valid\n",
       "----------------------  -----------  -----------  ------------  ------------  ------------  ------------  ------------\n",
       "mae                     2432.73      74.7078      2490.93       2286.08       2333.17       2485.91       2567.56\n",
       "mean_residual_deviance  1.97816e+07  1.54879e+06  2.23829e+07   1.95263e+07   1.74532e+07   1.73506e+07   2.2195e+07\n",
       "mse                     1.97816e+07  1.54879e+06  2.23829e+07   1.95263e+07   1.74532e+07   1.73506e+07   2.2195e+07\n",
       "r2                      0.864809     0.0109681    0.872214      0.836048      0.88118       0.871803      0.8628\n",
       "residual_deviance       1.97816e+07  1.54879e+06  2.23829e+07   1.95263e+07   1.74532e+07   1.73506e+07   2.2195e+07\n",
       "rmse                    4440.84      174.036      4731.05       4418.86       4177.71       4165.4        4711.16\n",
       "rmsle                   0.412534     0.0165132    0.403937      0.438595      0.418279      0.37202       0.429837"
      ]
     },
     "metadata": {},
     "output_type": "display_data"
    },
    {
     "data": {
      "text/plain": []
     },
     "execution_count": 54,
     "metadata": {},
     "output_type": "execute_result"
    }
   ],
   "source": [
    "autom1_1.leader.cross_validation_metrics_summary()"
   ]
  },
  {
   "cell_type": "markdown",
   "metadata": {},
   "source": [
    "## Neural networks using kera and tensorflow"
   ]
  },
  {
   "cell_type": "code",
   "execution_count": 55,
   "metadata": {},
   "outputs": [
    {
     "name": "stderr",
     "output_type": "stream",
     "text": [
      "/Users/miaocai/anaconda3/lib/python3.7/site-packages/sklearn/model_selection/_split.py:2179: FutureWarning: From version 0.21, test_size will always complement train_size unless both are specified.\n",
      "  FutureWarning)\n"
     ]
    },
    {
     "data": {
      "text/plain": [
       "<keras.callbacks.History at 0x1a39ef4ef0>"
      ]
     },
     "execution_count": 55,
     "metadata": {},
     "output_type": "execute_result"
    }
   ],
   "source": [
    "from keras import models\n",
    "from keras import layers\n",
    "from keras import optimizers\n",
    "from sklearn import preprocessing\n",
    "from sklearn.model_selection import train_test_split\n",
    "import matplotlib.pyplot as plt\n",
    "\n",
    "d = pd.read_csv(\"insurance.csv\")\n",
    "col_types = d.dtypes.to_dict()\n",
    "col_types['age'] = 'float64'\n",
    "d = pd.read_csv(\"insurance.csv\", dtype=col_types)\n",
    "\n",
    "d_dummy = pd.get_dummies(d, drop_first = True)\n",
    "y = d_dummy['charges'].values\n",
    "X = d_dummy.drop('charges', axis = 1).values\n",
    "\n",
    "X_train0, X_test0 = train_test_split(\n",
    "    X, train_size = 0.8, random_state = 123)\n",
    "y_train0, y_test0 = train_test_split(\n",
    "    y, train_size = 0.8, random_state = 123)\n",
    "X_train1, X_valid1 = train_test_split(\n",
    "    X, train_size = 0.75, random_state = 123)\n",
    "y_train1, y_valid1 = train_test_split(\n",
    "    y, train_size = 0.75, random_state = 123)\n",
    "\n",
    "# logistic regression\n",
    "def nn_model1():\n",
    "    model = models.Sequential()\n",
    "    model.add(layers.Dense(64, activation = 'relu',\n",
    "                          input_dim = X_train1.shape[1]))\n",
    "    model.add(layers.Dense(1,\n",
    "                          activation = 'linear'))\n",
    "    model.compile(optimizer = 'rmsprop',\n",
    "                 loss = 'mse',\n",
    "                 metrics = ['mae'])\n",
    "    return model\n",
    "\n",
    "reg0 = nn_model1()\n",
    "reg0.fit(X_train1, y_train1, epochs = 200, \n",
    "         validation_data = [X_valid1, y_valid1],\n",
    "        verbose = 0)"
   ]
  },
  {
   "cell_type": "code",
   "execution_count": 56,
   "metadata": {},
   "outputs": [
    {
     "name": "stdout",
     "output_type": "stream",
     "text": [
      "_________________________________________________________________\n",
      "Layer (type)                 Output Shape              Param #   \n",
      "=================================================================\n",
      "dense_18 (Dense)             (None, 64)                576       \n",
      "_________________________________________________________________\n",
      "dense_19 (Dense)             (None, 1)                 65        \n",
      "=================================================================\n",
      "Total params: 641\n",
      "Trainable params: 641\n",
      "Non-trainable params: 0\n",
      "_________________________________________________________________\n"
     ]
    }
   ],
   "source": [
    "reg0.summary()"
   ]
  },
  {
   "cell_type": "code",
   "execution_count": 57,
   "metadata": {},
   "outputs": [
    {
     "data": {
      "text/plain": [
       "125524612.95314057"
      ]
     },
     "execution_count": 57,
     "metadata": {},
     "output_type": "execute_result"
    }
   ],
   "source": [
    "reg0.history.history['loss'][199]"
   ]
  },
  {
   "cell_type": "code",
   "execution_count": 58,
   "metadata": {},
   "outputs": [
    {
     "data": {
      "text/plain": [
       "132704983.57014926"
      ]
     },
     "execution_count": 58,
     "metadata": {},
     "output_type": "execute_result"
    }
   ],
   "source": [
    "reg0.history.history['val_loss'][199]"
   ]
  },
  {
   "cell_type": "code",
   "execution_count": 59,
   "metadata": {
    "scrolled": true
   },
   "outputs": [
    {
     "data": {
      "text/plain": [
       "9081.118927821828"
      ]
     },
     "execution_count": 59,
     "metadata": {},
     "output_type": "execute_result"
    }
   ],
   "source": [
    "reg0.history.history['val_mean_absolute_error'][199]"
   ]
  },
  {
   "cell_type": "code",
   "execution_count": 60,
   "metadata": {},
   "outputs": [
    {
     "data": {
      "text/plain": [
       "[<matplotlib.lines.Line2D at 0x1a3a48a470>]"
      ]
     },
     "execution_count": 60,
     "metadata": {},
     "output_type": "execute_result"
    },
    {
     "data": {
      "image/png": "[encoded data removed]",
      "text/plain": [
       "<Figure size 432x288 with 1 Axes>"
      ]
     },
     "metadata": {
      "needs_background": "light"
     },
     "output_type": "display_data"
    }
   ],
   "source": [
    "plt.plot(reg0.history.history['loss'], color = 'red')\n",
    "plt.plot(reg0.history.history['val_loss'], color = 'blue')"
   ]
  },
  {
   "cell_type": "code",
   "execution_count": 61,
   "metadata": {},
   "outputs": [
    {
     "data": {
      "text/plain": [
       "[<matplotlib.lines.Line2D at 0x1a3a4d5f60>]"
      ]
     },
     "execution_count": 61,
     "metadata": {},
     "output_type": "execute_result"
    },
    {
     "data": {
      "image/png": "[encoded data removed]",
      "text/plain": [
       "<Figure size 432x288 with 1 Axes>"
      ]
     },
     "metadata": {
      "needs_background": "light"
     },
     "output_type": "display_data"
    }
   ],
   "source": [
    "plt.plot(reg0.history.history['mean_absolute_error'], color = 'red')\n",
    "plt.plot(reg0.history.history['val_mean_absolute_error'], color = 'blue')"
   ]
  },
  {
   "cell_type": "code",
   "execution_count": 62,
   "metadata": {},
   "outputs": [
    {
     "data": {
      "text/plain": [
       "<keras.callbacks.History at 0x1a3a4f16d8>"
      ]
     },
     "execution_count": 62,
     "metadata": {},
     "output_type": "execute_result"
    }
   ],
   "source": [
    "def nn_model2():\n",
    "    model = models.Sequential()\n",
    "    model.add(layers.Dense(64, activation = 'relu',\n",
    "                          input_dim = X_train1.shape[1]))\n",
    "    model.add(layers.Dropout(0.5))\n",
    "    model.add(layers.Dense(64, activation = 'relu'))\n",
    "    model.add(layers.Dropout(0.5))\n",
    "    model.add(layers.Dense(1, activation = 'linear'))\n",
    "    model.compile(optimizer = 'rmsprop',\n",
    "                 loss = 'mse',\n",
    "                 metrics = ['mae'])\n",
    "    return model\n",
    "\n",
    "reg2 = nn_model2()\n",
    "reg2.fit(X_train1, y_train1, epochs = 200, \n",
    "         validation_data = [X_valid1, y_valid1],\n",
    "        verbose = 0)"
   ]
  },
  {
   "cell_type": "code",
   "execution_count": 63,
   "metadata": {},
   "outputs": [
    {
     "data": {
      "text/plain": [
       "[<matplotlib.lines.Line2D at 0x1a3a9d5748>]"
      ]
     },
     "execution_count": 63,
     "metadata": {},
     "output_type": "execute_result"
    },
    {
     "data": {
      "image/png": "[encoded data removed]",
      "text/plain": [
       "<Figure size 432x288 with 1 Axes>"
      ]
     },
     "metadata": {
      "needs_background": "light"
     },
     "output_type": "display_data"
    }
   ],
   "source": [
    "plt.plot(reg2.history.history['loss'], color = 'red')\n",
    "plt.plot(reg2.history.history['val_loss'], color = 'blue')"
   ]
  },
  {
   "cell_type": "code",
   "execution_count": 64,
   "metadata": {},
   "outputs": [
    {
     "data": {
      "text/plain": [
       "[<matplotlib.lines.Line2D at 0x1a3aa99e48>]"
      ]
     },
     "execution_count": 64,
     "metadata": {},
     "output_type": "execute_result"
    },
    {
     "data": {
      "image/png": "[encoded data removed]",
      "text/plain": [
       "<Figure size 432x288 with 1 Axes>"
      ]
     },
     "metadata": {
      "needs_background": "light"
     },
     "output_type": "display_data"
    }
   ],
   "source": [
    "plt.plot(reg2.history.history['mean_absolute_error'], color = 'red')\n",
    "plt.plot(reg2.history.history['val_mean_absolute_error'], color = 'blue')"
   ]
  },
  {
   "cell_type": "markdown",
   "metadata": {},
   "source": [
    "### A more complex model with dropout, L1 regularization, smaller weight"
   ]
  },
  {
   "cell_type": "code",
   "execution_count": 65,
   "metadata": {},
   "outputs": [],
   "source": [
    "from keras.regularizers import l1\n",
    "\n",
    "def nn_model3(l1_penalty):\n",
    "    model = models.Sequential()\n",
    "    model.add(layers.Dense(64, activation = 'relu',\n",
    "                           kernel_regularizer = \n",
    "                               l1(l1_penalty),\n",
    "                          input_dim = X_train1.shape[1]))\n",
    "    model.add(layers.Dropout(0.5))\n",
    "    model.add(layers.Dense(64, activation = 'relu', \n",
    "                          kernel_regularizer = l1(l1_penalty)))\n",
    "    model.add(layers.Dropout(0.5))\n",
    "    model.add(layers.Dense(1, activation = 'linear'))\n",
    "    model.compile(optimizer = 'rmsprop',\n",
    "                 loss = 'mse',\n",
    "                 metrics = ['mae'])\n",
    "    return model"
   ]
  },
  {
   "cell_type": "code",
   "execution_count": 66,
   "metadata": {},
   "outputs": [
    {
     "name": "stdout",
     "output_type": "stream",
     "text": [
      "_________________________________________________________________\n",
      "Layer (type)                 Output Shape              Param #   \n",
      "=================================================================\n",
      "dense_23 (Dense)             (None, 64)                576       \n",
      "_________________________________________________________________\n",
      "dropout_13 (Dropout)         (None, 64)                0         \n",
      "_________________________________________________________________\n",
      "dense_24 (Dense)             (None, 64)                4160      \n",
      "_________________________________________________________________\n",
      "dropout_14 (Dropout)         (None, 64)                0         \n",
      "_________________________________________________________________\n",
      "dense_25 (Dense)             (None, 1)                 65        \n",
      "=================================================================\n",
      "Total params: 4,801\n",
      "Trainable params: 4,801\n",
      "Non-trainable params: 0\n",
      "_________________________________________________________________\n"
     ]
    }
   ],
   "source": [
    "reg3 = nn_model3(0.1)\n",
    "reg3.fit(X_train1, y_train1, epochs = 200, \n",
    "         validation_data = [X_valid1, y_valid1],\n",
    "        verbose = 0)\n",
    "reg3.summary()"
   ]
  },
  {
   "cell_type": "code",
   "execution_count": 67,
   "metadata": {},
   "outputs": [
    {
     "data": {
      "text/plain": [
       "[<matplotlib.lines.Line2D at 0x1a3b03b128>]"
      ]
     },
     "execution_count": 67,
     "metadata": {},
     "output_type": "execute_result"
    },
    {
     "data": {
      "image/png": "[encoded data removed]",
      "text/plain": [
       "<Figure size 432x288 with 1 Axes>"
      ]
     },
     "metadata": {
      "needs_background": "light"
     },
     "output_type": "display_data"
    }
   ],
   "source": [
    "plt.plot(reg3.history.history['loss'], color = 'red')\n",
    "plt.plot(reg3.history.history['val_loss'], color = 'blue')"
   ]
  },
  {
   "cell_type": "code",
   "execution_count": 68,
   "metadata": {},
   "outputs": [
    {
     "data": {
      "text/plain": [
       "[<matplotlib.lines.Line2D at 0x1a3b0ffc50>]"
      ]
     },
     "execution_count": 68,
     "metadata": {},
     "output_type": "execute_result"
    },
    {
     "data": {
      "image/png": "[encoded data removed]",
      "text/plain": [
       "<Figure size 432x288 with 1 Axes>"
      ]
     },
     "metadata": {
      "needs_background": "light"
     },
     "output_type": "display_data"
    }
   ],
   "source": [
    "plt.plot(reg3.history.history['mean_absolute_error'], color = 'red')\n",
    "plt.plot(reg3.history.history['val_mean_absolute_error'], color = 'blue')"
   ]
  },
  {
   "cell_type": "code",
   "execution_count": 69,
   "metadata": {},
   "outputs": [
    {
     "data": {
      "text/plain": [
       "[<matplotlib.lines.Line2D at 0x1a3b6834a8>]"
      ]
     },
     "execution_count": 69,
     "metadata": {},
     "output_type": "execute_result"
    },
    {
     "data": {
      "image/png": "[encoded data removed]",
      "text/plain": [
       "<Figure size 432x288 with 1 Axes>"
      ]
     },
     "metadata": {
      "needs_background": "light"
     },
     "output_type": "display_data"
    }
   ],
   "source": [
    "reg3 = nn_model3(0.2)\n",
    "reg3.fit(X_train1, y_train1, epochs = 200, \n",
    "         validation_data = [X_valid1, y_valid1],\n",
    "        verbose = 0)\n",
    "plt.plot(reg3.history.history['loss'], color = 'red')\n",
    "plt.plot(reg3.history.history['val_loss'], color = 'blue')"
   ]
  },
  {
   "cell_type": "code",
   "execution_count": 70,
   "metadata": {},
   "outputs": [
    {
     "data": {
      "text/plain": [
       "[<matplotlib.lines.Line2D at 0x1a3b6e5c88>]"
      ]
     },
     "execution_count": 70,
     "metadata": {},
     "output_type": "execute_result"
    },
    {
     "data": {
      "image/png": "[encoded data removed]",
      "text/plain": [
       "<Figure size 432x288 with 1 Axes>"
      ]
     },
     "metadata": {
      "needs_background": "light"
     },
     "output_type": "display_data"
    }
   ],
   "source": [
    "plt.plot(reg3.history.history['mean_absolute_error'], color = 'red')\n",
    "plt.plot(reg3.history.history['val_mean_absolute_error'], color = 'blue')"
   ]
  },
  {
   "cell_type": "code",
   "execution_count": 71,
   "metadata": {},
   "outputs": [
    {
     "data": {
      "text/plain": [
       "[<matplotlib.lines.Line2D at 0x1a23530470>]"
      ]
     },
     "execution_count": 71,
     "metadata": {},
     "output_type": "execute_result"
    },
    {
     "data": {
      "image/png": "[encoded data removed]",
      "text/plain": [
       "<Figure size 432x288 with 1 Axes>"
      ]
     },
     "metadata": {
      "needs_background": "light"
     },
     "output_type": "display_data"
    }
   ],
   "source": [
    "reg3 = nn_model3(0.3)\n",
    "reg3.fit(X_train1, y_train1, epochs = 200, \n",
    "         validation_data = [X_valid1, y_valid1],\n",
    "        verbose = 0)\n",
    "plt.plot(reg3.history.history['loss'], color = 'red')\n",
    "plt.plot(reg3.history.history['val_loss'], color = 'blue')"
   ]
  },
  {
   "cell_type": "code",
   "execution_count": 72,
   "metadata": {},
   "outputs": [
    {
     "data": {
      "text/plain": [
       "[<matplotlib.lines.Line2D at 0x1a3a466e48>]"
      ]
     },
     "execution_count": 72,
     "metadata": {},
     "output_type": "execute_result"
    },
    {
     "data": {
      "image/png": "[encoded data removed]",
      "text/plain": [
       "<Figure size 432x288 with 1 Axes>"
      ]
     },
     "metadata": {
      "needs_background": "light"
     },
     "output_type": "display_data"
    }
   ],
   "source": [
    "plt.plot(reg3.history.history['mean_absolute_error'], color = 'red')\n",
    "plt.plot(reg3.history.history['val_mean_absolute_error'], color = 'blue')"
   ]
  },
  {
   "cell_type": "markdown",
   "metadata": {},
   "source": [
    "# Conclusion"
   ]
  },
  {
   "cell_type": "markdown",
   "metadata": {},
   "source": [
    "Based on the machine learning and deep learning models used above, I found that using XGBoost provided in `auto-ML` tool provided by `h2o` tends to have the best model prediction performance. With regard to deep learning models, a two-layer neural network with L1 regularization seems to have the best prediction performance."
   ]
  }
 ],
 "metadata": {
  "kernelspec": {
   "display_name": "Python 3",
   "language": "python",
   "name": "python3"
  },
  "language_info": {
   "codemirror_mode": {
    "name": "ipython",
    "version": 3
   },
   "file_extension": ".py",
   "mimetype": "text/x-python",
   "name": "python",
   "nbconvert_exporter": "python",
   "pygments_lexer": "ipython3",
   "version": "3.7.1"
  }
 },
 "nbformat": 4,
 "nbformat_minor": 2
}
